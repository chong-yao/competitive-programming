{
 "cells": [
  {
   "cell_type": "code",
   "execution_count": 1,
   "id": "640d311b-5c8a-4ca3-b7d4-f8707dc41c3d",
   "metadata": {},
   "outputs": [],
   "source": [
    "import pandas as pd"
   ]
  },
  {
   "cell_type": "code",
   "execution_count": 9,
   "id": "bb9d5991-22c8-4c4a-a2c6-679fcf7c67a8",
   "metadata": {},
   "outputs": [],
   "source": [
    "df_train = pd.read_csv(\"train_data.csv\", parse_dates=[\"Timestamp\"])\n",
    "df_test = pd.read_csv(\"test_data.csv\", parse_dates=[\"Timestamp\"])"
   ]
  },
  {
   "cell_type": "code",
   "execution_count": 4,
   "id": "7a5557b8-0ae5-4c8b-884e-6a9d5663ef3f",
   "metadata": {},
   "outputs": [
    {
     "data": {
      "text/html": [
       "<div>\n",
       "<style scoped>\n",
       "    .dataframe tbody tr th:only-of-type {\n",
       "        vertical-align: middle;\n",
       "    }\n",
       "\n",
       "    .dataframe tbody tr th {\n",
       "        vertical-align: top;\n",
       "    }\n",
       "\n",
       "    .dataframe thead th {\n",
       "        text-align: right;\n",
       "    }\n",
       "</style>\n",
       "<table border=\"1\" class=\"dataframe\">\n",
       "  <thead>\n",
       "    <tr style=\"text-align: right;\">\n",
       "      <th></th>\n",
       "      <th>ID</th>\n",
       "      <th>Timestamp</th>\n",
       "      <th>Suspicious_Port_Activity</th>\n",
       "      <th>Traffic_Volume_Variation</th>\n",
       "      <th>Packet_Length_Anomaly</th>\n",
       "      <th>Malware_Score</th>\n",
       "      <th>Threat_Level_Index</th>\n",
       "      <th>User_Behavior_Score</th>\n",
       "      <th>Geo_Dispersion</th>\n",
       "      <th>Payload_Entropy</th>\n",
       "      <th>Login_Attempts</th>\n",
       "      <th>Device_Response_Time</th>\n",
       "      <th>Session_Duration</th>\n",
       "      <th>Packet_Retry_Rate</th>\n",
       "      <th>Anomaly_Tendency</th>\n",
       "      <th>Attack Type</th>\n",
       "    </tr>\n",
       "  </thead>\n",
       "  <tbody>\n",
       "    <tr>\n",
       "      <th>0</th>\n",
       "      <td>38478</td>\n",
       "      <td>2023-02-10 00:35:00</td>\n",
       "      <td>51.454294</td>\n",
       "      <td>53.193234</td>\n",
       "      <td>50.854265</td>\n",
       "      <td>0.343061</td>\n",
       "      <td>-2.829257</td>\n",
       "      <td>-1.150952</td>\n",
       "      <td>96.510346</td>\n",
       "      <td>51.638318</td>\n",
       "      <td>1.427135e+07</td>\n",
       "      <td>8.254265e+05</td>\n",
       "      <td>40.059209</td>\n",
       "      <td>21.344372</td>\n",
       "      <td>-27.224217</td>\n",
       "      <td>1</td>\n",
       "    </tr>\n",
       "    <tr>\n",
       "      <th>1</th>\n",
       "      <td>28447</td>\n",
       "      <td>2023-01-06 10:49:00</td>\n",
       "      <td>66.049091</td>\n",
       "      <td>60.865730</td>\n",
       "      <td>63.611018</td>\n",
       "      <td>5.242388</td>\n",
       "      <td>-5.684331</td>\n",
       "      <td>-0.996886</td>\n",
       "      <td>4.203410</td>\n",
       "      <td>9.657115</td>\n",
       "      <td>1.300129e+03</td>\n",
       "      <td>0.000000e+00</td>\n",
       "      <td>-5.968370</td>\n",
       "      <td>30.608016</td>\n",
       "      <td>-13.656677</td>\n",
       "      <td>0</td>\n",
       "    </tr>\n",
       "    <tr>\n",
       "      <th>2</th>\n",
       "      <td>30883</td>\n",
       "      <td>2023-01-08 21:35:00</td>\n",
       "      <td>29.509985</td>\n",
       "      <td>29.381920</td>\n",
       "      <td>26.477660</td>\n",
       "      <td>13.095004</td>\n",
       "      <td>3.713273</td>\n",
       "      <td>-1.542933</td>\n",
       "      <td>56.986902</td>\n",
       "      <td>42.720874</td>\n",
       "      <td>6.537937e+02</td>\n",
       "      <td>0.000000e+00</td>\n",
       "      <td>17.269407</td>\n",
       "      <td>11.348135</td>\n",
       "      <td>-6.043118</td>\n",
       "      <td>0</td>\n",
       "    </tr>\n",
       "    <tr>\n",
       "      <th>3</th>\n",
       "      <td>10247</td>\n",
       "      <td>2023-01-04 19:13:00</td>\n",
       "      <td>47.698458</td>\n",
       "      <td>47.038595</td>\n",
       "      <td>47.511664</td>\n",
       "      <td>-11.713488</td>\n",
       "      <td>-5.855172</td>\n",
       "      <td>-0.114920</td>\n",
       "      <td>62.225258</td>\n",
       "      <td>56.349504</td>\n",
       "      <td>3.815307e+03</td>\n",
       "      <td>0.000000e+00</td>\n",
       "      <td>15.670151</td>\n",
       "      <td>20.733735</td>\n",
       "      <td>-7.827522</td>\n",
       "      <td>0</td>\n",
       "    </tr>\n",
       "    <tr>\n",
       "      <th>4</th>\n",
       "      <td>14198</td>\n",
       "      <td>2023-01-24 20:57:00</td>\n",
       "      <td>52.066922</td>\n",
       "      <td>51.621483</td>\n",
       "      <td>50.422555</td>\n",
       "      <td>18.491120</td>\n",
       "      <td>10.658195</td>\n",
       "      <td>1.540859</td>\n",
       "      <td>25.647005</td>\n",
       "      <td>13.831798</td>\n",
       "      <td>-2.512838e+07</td>\n",
       "      <td>4.236788e+06</td>\n",
       "      <td>12.687819</td>\n",
       "      <td>24.197432</td>\n",
       "      <td>16.831704</td>\n",
       "      <td>1</td>\n",
       "    </tr>\n",
       "    <tr>\n",
       "      <th>...</th>\n",
       "      <td>...</td>\n",
       "      <td>...</td>\n",
       "      <td>...</td>\n",
       "      <td>...</td>\n",
       "      <td>...</td>\n",
       "      <td>...</td>\n",
       "      <td>...</td>\n",
       "      <td>...</td>\n",
       "      <td>...</td>\n",
       "      <td>...</td>\n",
       "      <td>...</td>\n",
       "      <td>...</td>\n",
       "      <td>...</td>\n",
       "      <td>...</td>\n",
       "      <td>...</td>\n",
       "      <td>...</td>\n",
       "    </tr>\n",
       "    <tr>\n",
       "      <th>13351</th>\n",
       "      <td>10586</td>\n",
       "      <td>2023-02-22 11:08:00</td>\n",
       "      <td>61.313450</td>\n",
       "      <td>62.285584</td>\n",
       "      <td>66.081125</td>\n",
       "      <td>-16.172590</td>\n",
       "      <td>-2.326001</td>\n",
       "      <td>1.216705</td>\n",
       "      <td>91.445967</td>\n",
       "      <td>-4.929572</td>\n",
       "      <td>2.169712e+03</td>\n",
       "      <td>0.000000e+00</td>\n",
       "      <td>29.964378</td>\n",
       "      <td>24.115536</td>\n",
       "      <td>-42.548858</td>\n",
       "      <td>0</td>\n",
       "    </tr>\n",
       "    <tr>\n",
       "      <th>13352</th>\n",
       "      <td>17907</td>\n",
       "      <td>2023-01-25 08:28:00</td>\n",
       "      <td>47.450431</td>\n",
       "      <td>47.719287</td>\n",
       "      <td>48.410581</td>\n",
       "      <td>-16.407919</td>\n",
       "      <td>-3.932880</td>\n",
       "      <td>1.513555</td>\n",
       "      <td>31.274805</td>\n",
       "      <td>-51.563591</td>\n",
       "      <td>2.089759e+03</td>\n",
       "      <td>0.000000e+00</td>\n",
       "      <td>12.823899</td>\n",
       "      <td>22.830285</td>\n",
       "      <td>-29.836513</td>\n",
       "      <td>0</td>\n",
       "    </tr>\n",
       "    <tr>\n",
       "      <th>13353</th>\n",
       "      <td>21615</td>\n",
       "      <td>2023-01-21 07:34:00</td>\n",
       "      <td>50.577761</td>\n",
       "      <td>48.207897</td>\n",
       "      <td>50.869976</td>\n",
       "      <td>19.963207</td>\n",
       "      <td>12.458160</td>\n",
       "      <td>-0.074276</td>\n",
       "      <td>76.307840</td>\n",
       "      <td>-27.251740</td>\n",
       "      <td>1.193038e+05</td>\n",
       "      <td>6.328211e+06</td>\n",
       "      <td>11.935022</td>\n",
       "      <td>17.355606</td>\n",
       "      <td>10.697266</td>\n",
       "      <td>2</td>\n",
       "    </tr>\n",
       "    <tr>\n",
       "      <th>13354</th>\n",
       "      <td>5752</td>\n",
       "      <td>2023-02-17 04:59:00</td>\n",
       "      <td>61.982918</td>\n",
       "      <td>63.628530</td>\n",
       "      <td>67.656022</td>\n",
       "      <td>1.513651</td>\n",
       "      <td>9.905296</td>\n",
       "      <td>NaN</td>\n",
       "      <td>73.776103</td>\n",
       "      <td>52.092306</td>\n",
       "      <td>5.120911e+03</td>\n",
       "      <td>0.000000e+00</td>\n",
       "      <td>19.937009</td>\n",
       "      <td>25.267148</td>\n",
       "      <td>8.419759</td>\n",
       "      <td>0</td>\n",
       "    </tr>\n",
       "    <tr>\n",
       "      <th>13355</th>\n",
       "      <td>1762</td>\n",
       "      <td>2023-01-08 08:48:00</td>\n",
       "      <td>49.415216</td>\n",
       "      <td>48.452817</td>\n",
       "      <td>49.998711</td>\n",
       "      <td>32.610874</td>\n",
       "      <td>10.911052</td>\n",
       "      <td>0.834872</td>\n",
       "      <td>99.074664</td>\n",
       "      <td>-21.141853</td>\n",
       "      <td>1.122525e+08</td>\n",
       "      <td>1.522367e+07</td>\n",
       "      <td>35.083660</td>\n",
       "      <td>16.733160</td>\n",
       "      <td>5.911933</td>\n",
       "      <td>2</td>\n",
       "    </tr>\n",
       "  </tbody>\n",
       "</table>\n",
       "<p>13356 rows × 16 columns</p>\n",
       "</div>"
      ],
      "text/plain": [
       "          ID            Timestamp  Suspicious_Port_Activity  \\\n",
       "0      38478  2023-02-10 00:35:00                 51.454294   \n",
       "1      28447  2023-01-06 10:49:00                 66.049091   \n",
       "2      30883  2023-01-08 21:35:00                 29.509985   \n",
       "3      10247  2023-01-04 19:13:00                 47.698458   \n",
       "4      14198  2023-01-24 20:57:00                 52.066922   \n",
       "...      ...                  ...                       ...   \n",
       "13351  10586  2023-02-22 11:08:00                 61.313450   \n",
       "13352  17907  2023-01-25 08:28:00                 47.450431   \n",
       "13353  21615  2023-01-21 07:34:00                 50.577761   \n",
       "13354   5752  2023-02-17 04:59:00                 61.982918   \n",
       "13355   1762  2023-01-08 08:48:00                 49.415216   \n",
       "\n",
       "       Traffic_Volume_Variation  Packet_Length_Anomaly  Malware_Score  \\\n",
       "0                     53.193234              50.854265       0.343061   \n",
       "1                     60.865730              63.611018       5.242388   \n",
       "2                     29.381920              26.477660      13.095004   \n",
       "3                     47.038595              47.511664     -11.713488   \n",
       "4                     51.621483              50.422555      18.491120   \n",
       "...                         ...                    ...            ...   \n",
       "13351                 62.285584              66.081125     -16.172590   \n",
       "13352                 47.719287              48.410581     -16.407919   \n",
       "13353                 48.207897              50.869976      19.963207   \n",
       "13354                 63.628530              67.656022       1.513651   \n",
       "13355                 48.452817              49.998711      32.610874   \n",
       "\n",
       "       Threat_Level_Index  User_Behavior_Score  Geo_Dispersion  \\\n",
       "0               -2.829257            -1.150952       96.510346   \n",
       "1               -5.684331            -0.996886        4.203410   \n",
       "2                3.713273            -1.542933       56.986902   \n",
       "3               -5.855172            -0.114920       62.225258   \n",
       "4               10.658195             1.540859       25.647005   \n",
       "...                   ...                  ...             ...   \n",
       "13351           -2.326001             1.216705       91.445967   \n",
       "13352           -3.932880             1.513555       31.274805   \n",
       "13353           12.458160            -0.074276       76.307840   \n",
       "13354            9.905296                  NaN       73.776103   \n",
       "13355           10.911052             0.834872       99.074664   \n",
       "\n",
       "       Payload_Entropy  Login_Attempts  Device_Response_Time  \\\n",
       "0            51.638318    1.427135e+07          8.254265e+05   \n",
       "1             9.657115    1.300129e+03          0.000000e+00   \n",
       "2            42.720874    6.537937e+02          0.000000e+00   \n",
       "3            56.349504    3.815307e+03          0.000000e+00   \n",
       "4            13.831798   -2.512838e+07          4.236788e+06   \n",
       "...                ...             ...                   ...   \n",
       "13351        -4.929572    2.169712e+03          0.000000e+00   \n",
       "13352       -51.563591    2.089759e+03          0.000000e+00   \n",
       "13353       -27.251740    1.193038e+05          6.328211e+06   \n",
       "13354        52.092306    5.120911e+03          0.000000e+00   \n",
       "13355       -21.141853    1.122525e+08          1.522367e+07   \n",
       "\n",
       "       Session_Duration  Packet_Retry_Rate  Anomaly_Tendency  Attack Type  \n",
       "0             40.059209          21.344372        -27.224217            1  \n",
       "1             -5.968370          30.608016        -13.656677            0  \n",
       "2             17.269407          11.348135         -6.043118            0  \n",
       "3             15.670151          20.733735         -7.827522            0  \n",
       "4             12.687819          24.197432         16.831704            1  \n",
       "...                 ...                ...               ...          ...  \n",
       "13351         29.964378          24.115536        -42.548858            0  \n",
       "13352         12.823899          22.830285        -29.836513            0  \n",
       "13353         11.935022          17.355606         10.697266            2  \n",
       "13354         19.937009          25.267148          8.419759            0  \n",
       "13355         35.083660          16.733160          5.911933            2  \n",
       "\n",
       "[13356 rows x 16 columns]"
      ]
     },
     "execution_count": 4,
     "metadata": {},
     "output_type": "execute_result"
    }
   ],
   "source": [
    "df_train"
   ]
  },
  {
   "cell_type": "code",
   "execution_count": 5,
   "id": "991106a3-6c1c-474d-aade-af74e2b78fbb",
   "metadata": {},
   "outputs": [
    {
     "data": {
      "text/html": [
       "<div>\n",
       "<style scoped>\n",
       "    .dataframe tbody tr th:only-of-type {\n",
       "        vertical-align: middle;\n",
       "    }\n",
       "\n",
       "    .dataframe tbody tr th {\n",
       "        vertical-align: top;\n",
       "    }\n",
       "\n",
       "    .dataframe thead th {\n",
       "        text-align: right;\n",
       "    }\n",
       "</style>\n",
       "<table border=\"1\" class=\"dataframe\">\n",
       "  <thead>\n",
       "    <tr style=\"text-align: right;\">\n",
       "      <th></th>\n",
       "      <th>ID</th>\n",
       "      <th>Timestamp</th>\n",
       "      <th>Suspicious_Port_Activity</th>\n",
       "      <th>Traffic_Volume_Variation</th>\n",
       "      <th>Packet_Length_Anomaly</th>\n",
       "      <th>Malware_Score</th>\n",
       "      <th>Threat_Level_Index</th>\n",
       "      <th>User_Behavior_Score</th>\n",
       "      <th>Geo_Dispersion</th>\n",
       "      <th>Payload_Entropy</th>\n",
       "      <th>Login_Attempts</th>\n",
       "      <th>Device_Response_Time</th>\n",
       "      <th>Session_Duration</th>\n",
       "      <th>Packet_Retry_Rate</th>\n",
       "      <th>Anomaly_Tendency</th>\n",
       "    </tr>\n",
       "  </thead>\n",
       "  <tbody>\n",
       "    <tr>\n",
       "      <th>0</th>\n",
       "      <td>12633</td>\n",
       "      <td>2023-01-06 18:42:00</td>\n",
       "      <td>52.676002</td>\n",
       "      <td>51.036281</td>\n",
       "      <td>51.584358</td>\n",
       "      <td>24.918044</td>\n",
       "      <td>2.453998</td>\n",
       "      <td>-1.912664</td>\n",
       "      <td>17.110169</td>\n",
       "      <td>-20.721761</td>\n",
       "      <td>6.863287e+06</td>\n",
       "      <td>9.988945e+06</td>\n",
       "      <td>12.638554</td>\n",
       "      <td>19.571961</td>\n",
       "      <td>30.163868</td>\n",
       "    </tr>\n",
       "    <tr>\n",
       "      <th>1</th>\n",
       "      <td>24448</td>\n",
       "      <td>2023-02-09 17:38:00</td>\n",
       "      <td>34.521340</td>\n",
       "      <td>33.285478</td>\n",
       "      <td>36.457937</td>\n",
       "      <td>21.243958</td>\n",
       "      <td>10.715173</td>\n",
       "      <td>-0.832558</td>\n",
       "      <td>79.533482</td>\n",
       "      <td>-9.685447</td>\n",
       "      <td>-6.805482e+07</td>\n",
       "      <td>2.631087e+07</td>\n",
       "      <td>24.512180</td>\n",
       "      <td>13.107590</td>\n",
       "      <td>10.169910</td>\n",
       "    </tr>\n",
       "    <tr>\n",
       "      <th>2</th>\n",
       "      <td>14208</td>\n",
       "      <td>2023-02-18 09:06:00</td>\n",
       "      <td>60.802694</td>\n",
       "      <td>60.730913</td>\n",
       "      <td>58.413126</td>\n",
       "      <td>15.055070</td>\n",
       "      <td>-0.759497</td>\n",
       "      <td>0.289197</td>\n",
       "      <td>3.176137</td>\n",
       "      <td>42.232753</td>\n",
       "      <td>1.879409e+07</td>\n",
       "      <td>3.070784e+06</td>\n",
       "      <td>-13.531991</td>\n",
       "      <td>27.092224</td>\n",
       "      <td>7.439020</td>\n",
       "    </tr>\n",
       "    <tr>\n",
       "      <th>3</th>\n",
       "      <td>39654</td>\n",
       "      <td>2023-01-23 04:31:00</td>\n",
       "      <td>50.054000</td>\n",
       "      <td>49.323942</td>\n",
       "      <td>51.133184</td>\n",
       "      <td>24.206964</td>\n",
       "      <td>7.180573</td>\n",
       "      <td>0.934965</td>\n",
       "      <td>94.608307</td>\n",
       "      <td>-34.012325</td>\n",
       "      <td>-1.999618e+07</td>\n",
       "      <td>6.131093e+06</td>\n",
       "      <td>7.141197</td>\n",
       "      <td>22.616820</td>\n",
       "      <td>12.690832</td>\n",
       "    </tr>\n",
       "    <tr>\n",
       "      <th>4</th>\n",
       "      <td>337</td>\n",
       "      <td>2023-02-12 00:28:00</td>\n",
       "      <td>44.431133</td>\n",
       "      <td>44.047129</td>\n",
       "      <td>46.160836</td>\n",
       "      <td>21.007636</td>\n",
       "      <td>15.675149</td>\n",
       "      <td>1.508040</td>\n",
       "      <td>68.590797</td>\n",
       "      <td>-8.049880</td>\n",
       "      <td>-5.071975e+06</td>\n",
       "      <td>9.095271e+06</td>\n",
       "      <td>11.119575</td>\n",
       "      <td>22.508857</td>\n",
       "      <td>7.490883</td>\n",
       "    </tr>\n",
       "    <tr>\n",
       "      <th>...</th>\n",
       "      <td>...</td>\n",
       "      <td>...</td>\n",
       "      <td>...</td>\n",
       "      <td>...</td>\n",
       "      <td>...</td>\n",
       "      <td>...</td>\n",
       "      <td>...</td>\n",
       "      <td>...</td>\n",
       "      <td>...</td>\n",
       "      <td>...</td>\n",
       "      <td>...</td>\n",
       "      <td>...</td>\n",
       "      <td>...</td>\n",
       "      <td>...</td>\n",
       "      <td>...</td>\n",
       "    </tr>\n",
       "    <tr>\n",
       "      <th>7495</th>\n",
       "      <td>38228</td>\n",
       "      <td>2023-02-01 20:37:00</td>\n",
       "      <td>40.365558</td>\n",
       "      <td>42.888239</td>\n",
       "      <td>40.445284</td>\n",
       "      <td>0.528988</td>\n",
       "      <td>1.527553</td>\n",
       "      <td>-0.233116</td>\n",
       "      <td>61.759516</td>\n",
       "      <td>-32.960899</td>\n",
       "      <td>1.367746e+03</td>\n",
       "      <td>0.000000e+00</td>\n",
       "      <td>11.954073</td>\n",
       "      <td>16.766390</td>\n",
       "      <td>19.192912</td>\n",
       "    </tr>\n",
       "    <tr>\n",
       "      <th>7496</th>\n",
       "      <td>8568</td>\n",
       "      <td>2023-02-11 02:34:00</td>\n",
       "      <td>47.661617</td>\n",
       "      <td>49.092103</td>\n",
       "      <td>50.274326</td>\n",
       "      <td>27.947167</td>\n",
       "      <td>14.990121</td>\n",
       "      <td>-1.530983</td>\n",
       "      <td>53.826759</td>\n",
       "      <td>4.652825</td>\n",
       "      <td>-9.572391e+06</td>\n",
       "      <td>5.951209e+05</td>\n",
       "      <td>11.356634</td>\n",
       "      <td>25.900720</td>\n",
       "      <td>25.283231</td>\n",
       "    </tr>\n",
       "    <tr>\n",
       "      <th>7497</th>\n",
       "      <td>1435</td>\n",
       "      <td>2023-01-14 11:53:00</td>\n",
       "      <td>51.668364</td>\n",
       "      <td>51.489521</td>\n",
       "      <td>51.122505</td>\n",
       "      <td>12.537508</td>\n",
       "      <td>-1.726501</td>\n",
       "      <td>1.295477</td>\n",
       "      <td>53.903648</td>\n",
       "      <td>-40.583001</td>\n",
       "      <td>-7.455911e+07</td>\n",
       "      <td>7.288900e+06</td>\n",
       "      <td>36.600587</td>\n",
       "      <td>25.582709</td>\n",
       "      <td>14.559145</td>\n",
       "    </tr>\n",
       "    <tr>\n",
       "      <th>7498</th>\n",
       "      <td>9879</td>\n",
       "      <td>2023-02-04 01:26:00</td>\n",
       "      <td>54.172660</td>\n",
       "      <td>54.611388</td>\n",
       "      <td>54.121199</td>\n",
       "      <td>2.289232</td>\n",
       "      <td>2.387826</td>\n",
       "      <td>-0.597842</td>\n",
       "      <td>83.307020</td>\n",
       "      <td>36.492115</td>\n",
       "      <td>6.863681e+02</td>\n",
       "      <td>0.000000e+00</td>\n",
       "      <td>30.544559</td>\n",
       "      <td>26.478434</td>\n",
       "      <td>23.469777</td>\n",
       "    </tr>\n",
       "    <tr>\n",
       "      <th>7499</th>\n",
       "      <td>17025</td>\n",
       "      <td>2023-01-23 23:44:00</td>\n",
       "      <td>54.953850</td>\n",
       "      <td>54.779608</td>\n",
       "      <td>54.403308</td>\n",
       "      <td>25.395724</td>\n",
       "      <td>10.191529</td>\n",
       "      <td>NaN</td>\n",
       "      <td>11.802503</td>\n",
       "      <td>42.905126</td>\n",
       "      <td>-2.153372e+07</td>\n",
       "      <td>8.336968e+06</td>\n",
       "      <td>-8.320041</td>\n",
       "      <td>26.672622</td>\n",
       "      <td>-8.907672</td>\n",
       "    </tr>\n",
       "  </tbody>\n",
       "</table>\n",
       "<p>7500 rows × 15 columns</p>\n",
       "</div>"
      ],
      "text/plain": [
       "         ID            Timestamp  Suspicious_Port_Activity  \\\n",
       "0     12633  2023-01-06 18:42:00                 52.676002   \n",
       "1     24448  2023-02-09 17:38:00                 34.521340   \n",
       "2     14208  2023-02-18 09:06:00                 60.802694   \n",
       "3     39654  2023-01-23 04:31:00                 50.054000   \n",
       "4       337  2023-02-12 00:28:00                 44.431133   \n",
       "...     ...                  ...                       ...   \n",
       "7495  38228  2023-02-01 20:37:00                 40.365558   \n",
       "7496   8568  2023-02-11 02:34:00                 47.661617   \n",
       "7497   1435  2023-01-14 11:53:00                 51.668364   \n",
       "7498   9879  2023-02-04 01:26:00                 54.172660   \n",
       "7499  17025  2023-01-23 23:44:00                 54.953850   \n",
       "\n",
       "      Traffic_Volume_Variation  Packet_Length_Anomaly  Malware_Score  \\\n",
       "0                    51.036281              51.584358      24.918044   \n",
       "1                    33.285478              36.457937      21.243958   \n",
       "2                    60.730913              58.413126      15.055070   \n",
       "3                    49.323942              51.133184      24.206964   \n",
       "4                    44.047129              46.160836      21.007636   \n",
       "...                        ...                    ...            ...   \n",
       "7495                 42.888239              40.445284       0.528988   \n",
       "7496                 49.092103              50.274326      27.947167   \n",
       "7497                 51.489521              51.122505      12.537508   \n",
       "7498                 54.611388              54.121199       2.289232   \n",
       "7499                 54.779608              54.403308      25.395724   \n",
       "\n",
       "      Threat_Level_Index  User_Behavior_Score  Geo_Dispersion  \\\n",
       "0               2.453998            -1.912664       17.110169   \n",
       "1              10.715173            -0.832558       79.533482   \n",
       "2              -0.759497             0.289197        3.176137   \n",
       "3               7.180573             0.934965       94.608307   \n",
       "4              15.675149             1.508040       68.590797   \n",
       "...                  ...                  ...             ...   \n",
       "7495            1.527553            -0.233116       61.759516   \n",
       "7496           14.990121            -1.530983       53.826759   \n",
       "7497           -1.726501             1.295477       53.903648   \n",
       "7498            2.387826            -0.597842       83.307020   \n",
       "7499           10.191529                  NaN       11.802503   \n",
       "\n",
       "      Payload_Entropy  Login_Attempts  Device_Response_Time  Session_Duration  \\\n",
       "0          -20.721761    6.863287e+06          9.988945e+06         12.638554   \n",
       "1           -9.685447   -6.805482e+07          2.631087e+07         24.512180   \n",
       "2           42.232753    1.879409e+07          3.070784e+06        -13.531991   \n",
       "3          -34.012325   -1.999618e+07          6.131093e+06          7.141197   \n",
       "4           -8.049880   -5.071975e+06          9.095271e+06         11.119575   \n",
       "...               ...             ...                   ...               ...   \n",
       "7495       -32.960899    1.367746e+03          0.000000e+00         11.954073   \n",
       "7496         4.652825   -9.572391e+06          5.951209e+05         11.356634   \n",
       "7497       -40.583001   -7.455911e+07          7.288900e+06         36.600587   \n",
       "7498        36.492115    6.863681e+02          0.000000e+00         30.544559   \n",
       "7499        42.905126   -2.153372e+07          8.336968e+06         -8.320041   \n",
       "\n",
       "      Packet_Retry_Rate  Anomaly_Tendency  \n",
       "0             19.571961         30.163868  \n",
       "1             13.107590         10.169910  \n",
       "2             27.092224          7.439020  \n",
       "3             22.616820         12.690832  \n",
       "4             22.508857          7.490883  \n",
       "...                 ...               ...  \n",
       "7495          16.766390         19.192912  \n",
       "7496          25.900720         25.283231  \n",
       "7497          25.582709         14.559145  \n",
       "7498          26.478434         23.469777  \n",
       "7499          26.672622         -8.907672  \n",
       "\n",
       "[7500 rows x 15 columns]"
      ]
     },
     "execution_count": 5,
     "metadata": {},
     "output_type": "execute_result"
    }
   ],
   "source": [
    "df_test"
   ]
  },
  {
   "cell_type": "markdown",
   "id": "45343781-d625-4046-a380-17b0804582ff",
   "metadata": {},
   "source": [
    "Subtask 1 is to just extract Timestamps."
   ]
  },
  {
   "cell_type": "code",
   "execution_count": 10,
   "id": "d5c9bffd-2ec7-4c2a-b496-e2da9c2c8be1",
   "metadata": {},
   "outputs": [
    {
     "data": {
      "text/plain": [
       "Timestamp('2023-01-06 18:42:00')"
      ]
     },
     "execution_count": 10,
     "metadata": {},
     "output_type": "execute_result"
    }
   ],
   "source": [
    "df_test[\"Timestamp\"][0]"
   ]
  },
  {
   "cell_type": "code",
   "execution_count": 13,
   "id": "f6def5dc-282f-485f-be39-d50df8663b00",
   "metadata": {},
   "outputs": [
    {
     "data": {
      "text/plain": [
       "datetime.time(18, 42)"
      ]
     },
     "execution_count": 13,
     "metadata": {},
     "output_type": "execute_result"
    }
   ],
   "source": [
    "df_test[\"Timestamp\"][0].time()"
   ]
  },
  {
   "cell_type": "code",
   "execution_count": 14,
   "id": "e7ce7b15-1b71-4cca-8b4a-0e0386a2beba",
   "metadata": {},
   "outputs": [],
   "source": [
    "import datetime"
   ]
  },
  {
   "cell_type": "code",
   "execution_count": 16,
   "id": "8df0d122-0468-4211-b190-c9745a94a3a6",
   "metadata": {},
   "outputs": [
    {
     "data": {
      "text/plain": [
       "True"
      ]
     },
     "execution_count": 16,
     "metadata": {},
     "output_type": "execute_result"
    }
   ],
   "source": [
    "datetime.time(18, 42) > datetime.time(12, 00)"
   ]
  },
  {
   "cell_type": "code",
   "execution_count": 22,
   "id": "60741f71-e58d-4612-b26f-8a9440181593",
   "metadata": {},
   "outputs": [
    {
     "data": {
      "text/plain": [
       "datetime.time"
      ]
     },
     "execution_count": 22,
     "metadata": {},
     "output_type": "execute_result"
    }
   ],
   "source": [
    "type(datetime.time(18, 42))"
   ]
  },
  {
   "cell_type": "code",
   "execution_count": 23,
   "id": "cd9dba63-334b-40c6-886b-0a769951ee3d",
   "metadata": {},
   "outputs": [],
   "source": [
    "def ampm(dt: datetime.time):\n",
    "    if dt >= datetime.time(12, 00):\n",
    "        return \"PM\"\n",
    "    else:\n",
    "        return \"AM\""
   ]
  },
  {
   "cell_type": "code",
   "execution_count": 25,
   "id": "c67fc831-0e28-4dc8-a836-e5e4a9439fe7",
   "metadata": {},
   "outputs": [],
   "source": [
    "df_test[\"ampm\"] = df_test[\"Timestamp\"].apply(lambda x:ampm(x.time())).copy()"
   ]
  },
  {
   "cell_type": "raw",
   "id": "657ad5eb-7ad5-4cb1-90e6-c3cb0687a7c3",
   "metadata": {},
   "source": [
    "Figure out the format first."
   ]
  },
  {
   "cell_type": "code",
   "execution_count": 26,
   "id": "0f849740-fd74-4a89-807b-1b21f470a44b",
   "metadata": {},
   "outputs": [
    {
     "data": {
      "text/plain": [
       "Index(['ID', 'Timestamp', 'Suspicious_Port_Activity',\n",
       "       'Traffic_Volume_Variation', 'Packet_Length_Anomaly', 'Malware_Score',\n",
       "       'Threat_Level_Index', 'User_Behavior_Score', 'Geo_Dispersion',\n",
       "       'Payload_Entropy', 'Login_Attempts', 'Device_Response_Time',\n",
       "       'Session_Duration', 'Packet_Retry_Rate', 'Anomaly_Tendency', 'ampm'],\n",
       "      dtype='object')"
      ]
     },
     "execution_count": 26,
     "metadata": {},
     "output_type": "execute_result"
    }
   ],
   "source": [
    "df_test.columns"
   ]
  },
  {
   "cell_type": "code",
   "execution_count": 27,
   "id": "25320fa0-ba22-4147-bfa9-782149df4185",
   "metadata": {},
   "outputs": [],
   "source": [
    "ans1 = df_test.copy()"
   ]
  },
  {
   "cell_type": "code",
   "execution_count": 28,
   "id": "762fa34e-22e7-4c90-a1b6-467d3da8ff71",
   "metadata": {},
   "outputs": [],
   "source": [
    "ans1 = ans1[[\"ID\", \"ampm\"]]"
   ]
  },
  {
   "cell_type": "code",
   "execution_count": 29,
   "id": "96955181-9b42-4090-8cf1-d74b2bdfe25f",
   "metadata": {},
   "outputs": [],
   "source": [
    "ans1[\"subtaskID\"] = 1"
   ]
  },
  {
   "cell_type": "code",
   "execution_count": 30,
   "id": "66e3e015-3943-4f2c-8bd3-5be20036b35f",
   "metadata": {},
   "outputs": [],
   "source": [
    "ans1 = ans1.rename(columns={\"ampm\": \"answer\", \"ID\": \"datapointID\"})"
   ]
  },
  {
   "cell_type": "code",
   "execution_count": 32,
   "id": "ed93c583-53e4-4515-87a2-bfd2bdb19adb",
   "metadata": {},
   "outputs": [
    {
     "data": {
      "text/html": [
       "<div>\n",
       "<style scoped>\n",
       "    .dataframe tbody tr th:only-of-type {\n",
       "        vertical-align: middle;\n",
       "    }\n",
       "\n",
       "    .dataframe tbody tr th {\n",
       "        vertical-align: top;\n",
       "    }\n",
       "\n",
       "    .dataframe thead th {\n",
       "        text-align: right;\n",
       "    }\n",
       "</style>\n",
       "<table border=\"1\" class=\"dataframe\">\n",
       "  <thead>\n",
       "    <tr style=\"text-align: right;\">\n",
       "      <th></th>\n",
       "      <th>datapointID</th>\n",
       "      <th>answer</th>\n",
       "      <th>subtaskID</th>\n",
       "    </tr>\n",
       "  </thead>\n",
       "  <tbody>\n",
       "    <tr>\n",
       "      <th>0</th>\n",
       "      <td>12633</td>\n",
       "      <td>PM</td>\n",
       "      <td>1</td>\n",
       "    </tr>\n",
       "    <tr>\n",
       "      <th>1</th>\n",
       "      <td>24448</td>\n",
       "      <td>PM</td>\n",
       "      <td>1</td>\n",
       "    </tr>\n",
       "    <tr>\n",
       "      <th>2</th>\n",
       "      <td>14208</td>\n",
       "      <td>AM</td>\n",
       "      <td>1</td>\n",
       "    </tr>\n",
       "    <tr>\n",
       "      <th>3</th>\n",
       "      <td>39654</td>\n",
       "      <td>AM</td>\n",
       "      <td>1</td>\n",
       "    </tr>\n",
       "    <tr>\n",
       "      <th>4</th>\n",
       "      <td>337</td>\n",
       "      <td>AM</td>\n",
       "      <td>1</td>\n",
       "    </tr>\n",
       "  </tbody>\n",
       "</table>\n",
       "</div>"
      ],
      "text/plain": [
       "   datapointID answer  subtaskID\n",
       "0        12633     PM          1\n",
       "1        24448     PM          1\n",
       "2        14208     AM          1\n",
       "3        39654     AM          1\n",
       "4          337     AM          1"
      ]
     },
     "execution_count": 32,
     "metadata": {},
     "output_type": "execute_result"
    }
   ],
   "source": [
    "ans1.head()"
   ]
  },
  {
   "cell_type": "code",
   "execution_count": 33,
   "id": "1d805692-ad9a-4c61-97fe-9c413a5d34e5",
   "metadata": {},
   "outputs": [],
   "source": [
    "ans1 = ans1[[\"subtaskID\", \"datapointID\", \"answer\"]]"
   ]
  },
  {
   "cell_type": "code",
   "execution_count": 34,
   "id": "9727ef62-5d5f-4ce8-8605-9ffe1d49f3b0",
   "metadata": {},
   "outputs": [],
   "source": [
    "ans1.to_csv(\"submission1.csv\")"
   ]
  },
  {
   "cell_type": "markdown",
   "id": "204d674f-a6c6-491f-b498-31dd4bc2e1cf",
   "metadata": {},
   "source": [
    "Okay it works, now onto task2. Predict the class type as DDOS, Phishing or Malware."
   ]
  },
  {
   "cell_type": "code",
   "execution_count": 38,
   "id": "0b143a86-7dd4-4de8-a769-9400321e1871",
   "metadata": {},
   "outputs": [],
   "source": [
    "from sklearn.model_selection import train_test_split\n",
    "from sklearn.ensemble import RandomForestClassifier"
   ]
  },
  {
   "cell_type": "code",
   "execution_count": 44,
   "id": "fd9babd3-02fa-4f6b-8a1b-9b0eec63662e",
   "metadata": {},
   "outputs": [],
   "source": [
    "df_train[\"ampm\"] = df_train[\"Timestamp\"].apply(lambda x:ampm(x.time())).copy()"
   ]
  },
  {
   "cell_type": "code",
   "execution_count": 46,
   "id": "7d9a1a9e-cc19-4b6b-a50f-5aa2eb9feaa2",
   "metadata": {},
   "outputs": [
    {
     "data": {
      "text/plain": [
       "Index(['ID', 'Timestamp', 'Suspicious_Port_Activity',\n",
       "       'Traffic_Volume_Variation', 'Packet_Length_Anomaly', 'Malware_Score',\n",
       "       'Threat_Level_Index', 'User_Behavior_Score', 'Geo_Dispersion',\n",
       "       'Payload_Entropy', 'Login_Attempts', 'Device_Response_Time',\n",
       "       'Session_Duration', 'Packet_Retry_Rate', 'Anomaly_Tendency',\n",
       "       'Attack Type', 'ampm'],\n",
       "      dtype='object')"
      ]
     },
     "execution_count": 46,
     "metadata": {},
     "output_type": "execute_result"
    }
   ],
   "source": [
    "train.columns"
   ]
  },
  {
   "cell_type": "code",
   "execution_count": 48,
   "id": "59aac524-fe5c-49ad-af27-06c31f41540b",
   "metadata": {},
   "outputs": [
    {
     "data": {
      "text/plain": [
       "Index(['ID', 'Timestamp', 'Suspicious_Port_Activity',\n",
       "       'Traffic_Volume_Variation', 'Packet_Length_Anomaly', 'Malware_Score',\n",
       "       'Threat_Level_Index', 'User_Behavior_Score', 'Geo_Dispersion',\n",
       "       'Payload_Entropy', 'Login_Attempts', 'Device_Response_Time',\n",
       "       'Session_Duration', 'Packet_Retry_Rate', 'Anomaly_Tendency', 'ampm'],\n",
       "      dtype='object')"
      ]
     },
     "execution_count": 48,
     "metadata": {},
     "output_type": "execute_result"
    }
   ],
   "source": [
    "df_test.columns"
   ]
  },
  {
   "cell_type": "markdown",
   "id": "ae8a2d5b-3537-4ffc-9434-d031be50adb5",
   "metadata": {},
   "source": [
    "Hm, remove the ID and timestamp class. Everything else are numbers, scale them and we should be good."
   ]
  },
  {
   "cell_type": "code",
   "execution_count": 50,
   "id": "25b11265-6d86-47aa-b989-e7505ce1daba",
   "metadata": {},
   "outputs": [],
   "source": [
    "from sklearn.preprocessing import MinMaxScaler"
   ]
  },
  {
   "cell_type": "code",
   "execution_count": 90,
   "id": "6cbfd78e-400b-4989-afce-7decde540737",
   "metadata": {},
   "outputs": [],
   "source": [
    "train, val = train_test_split(df_train, test_size=0.1, shuffle=True, stratify=df_train[\"Attack Type\"])\n",
    "train = train.drop(columns=[\"ID\", \"Timestamp\"])\n",
    "val = val.drop(columns=[\"ID\", \"Timestamp\"])"
   ]
  },
  {
   "cell_type": "code",
   "execution_count": 91,
   "id": "373576ba-1403-42cf-894e-80fc54f0f9a9",
   "metadata": {},
   "outputs": [],
   "source": [
    "train_X = train.drop(columns=\"Attack Type\")\n",
    "train_y = train[\"Attack Type\"].copy()"
   ]
  },
  {
   "cell_type": "code",
   "execution_count": 92,
   "id": "7a37d714-97b7-494f-b306-7271768bf803",
   "metadata": {},
   "outputs": [],
   "source": [
    "val_X = train.drop(columns=\"Attack Type\")\n",
    "val_y = train[\"Attack Type\"].copy()"
   ]
  },
  {
   "cell_type": "code",
   "execution_count": 93,
   "id": "205e3cb2-4874-440c-b062-1850d4642ea6",
   "metadata": {},
   "outputs": [],
   "source": [
    "scaler = MinMaxScaler()"
   ]
  },
  {
   "cell_type": "code",
   "execution_count": 94,
   "id": "c8fd758b-4f9e-4bdc-94d4-711be7d10fe4",
   "metadata": {},
   "outputs": [],
   "source": [
    "train_X_scaled1 = scaler.fit_transform(train_X.drop(columns=\"ampm\"))\n",
    "train_X_scaled2 = train_X[\"ampm\"].apply(lambda x:0 if x==\"AM\" else 1).values"
   ]
  },
  {
   "cell_type": "code",
   "execution_count": 95,
   "id": "b7222a6f-b510-40d7-b697-c671d7e8b99c",
   "metadata": {},
   "outputs": [],
   "source": [
    "val_X_scaled1 = scaler.transform(val_X.drop(columns=\"ampm\"))\n",
    "val_X_scaled2 = val_X[\"ampm\"].apply(lambda x:0 if x==\"AM\" else 1).values"
   ]
  },
  {
   "cell_type": "markdown",
   "id": "6100eefa-e104-4f7d-8697-20d5be52c267",
   "metadata": {},
   "source": [
    "These are now numpy arrays!"
   ]
  },
  {
   "cell_type": "code",
   "execution_count": 96,
   "id": "a2408a0e-ae96-491a-860c-79d0ec68afdb",
   "metadata": {},
   "outputs": [],
   "source": [
    "import numpy as np"
   ]
  },
  {
   "cell_type": "code",
   "execution_count": 97,
   "id": "c59dd1df-e537-4db9-9477-d32b8108c27d",
   "metadata": {},
   "outputs": [],
   "source": [
    "train_final = np.concat([train_X_scaled1, train_X_scaled2.reshape(-1, 1)], axis=1)"
   ]
  },
  {
   "cell_type": "code",
   "execution_count": 98,
   "id": "5f7153b6-23c5-427d-ad61-0f8571562f88",
   "metadata": {},
   "outputs": [],
   "source": [
    "val_final = np.concat([val_X_scaled1, val_X_scaled2.reshape(-1, 1)], axis=1)"
   ]
  },
  {
   "cell_type": "code",
   "execution_count": 99,
   "id": "911efc29-206a-4f6a-96fd-aa9d78468bd3",
   "metadata": {},
   "outputs": [],
   "source": [
    "rfc = RandomForestClassifier()"
   ]
  },
  {
   "cell_type": "code",
   "execution_count": 100,
   "id": "7b0270fe-2969-49ac-84da-b7dca5b3f903",
   "metadata": {},
   "outputs": [
    {
     "data": {
      "text/html": [
       "<style>#sk-container-id-2 {\n",
       "  /* Definition of color scheme common for light and dark mode */\n",
       "  --sklearn-color-text: #000;\n",
       "  --sklearn-color-text-muted: #666;\n",
       "  --sklearn-color-line: gray;\n",
       "  /* Definition of color scheme for unfitted estimators */\n",
       "  --sklearn-color-unfitted-level-0: #fff5e6;\n",
       "  --sklearn-color-unfitted-level-1: #f6e4d2;\n",
       "  --sklearn-color-unfitted-level-2: #ffe0b3;\n",
       "  --sklearn-color-unfitted-level-3: chocolate;\n",
       "  /* Definition of color scheme for fitted estimators */\n",
       "  --sklearn-color-fitted-level-0: #f0f8ff;\n",
       "  --sklearn-color-fitted-level-1: #d4ebff;\n",
       "  --sklearn-color-fitted-level-2: #b3dbfd;\n",
       "  --sklearn-color-fitted-level-3: cornflowerblue;\n",
       "\n",
       "  /* Specific color for light theme */\n",
       "  --sklearn-color-text-on-default-background: var(--sg-text-color, var(--theme-code-foreground, var(--jp-content-font-color1, black)));\n",
       "  --sklearn-color-background: var(--sg-background-color, var(--theme-background, var(--jp-layout-color0, white)));\n",
       "  --sklearn-color-border-box: var(--sg-text-color, var(--theme-code-foreground, var(--jp-content-font-color1, black)));\n",
       "  --sklearn-color-icon: #696969;\n",
       "\n",
       "  @media (prefers-color-scheme: dark) {\n",
       "    /* Redefinition of color scheme for dark theme */\n",
       "    --sklearn-color-text-on-default-background: var(--sg-text-color, var(--theme-code-foreground, var(--jp-content-font-color1, white)));\n",
       "    --sklearn-color-background: var(--sg-background-color, var(--theme-background, var(--jp-layout-color0, #111)));\n",
       "    --sklearn-color-border-box: var(--sg-text-color, var(--theme-code-foreground, var(--jp-content-font-color1, white)));\n",
       "    --sklearn-color-icon: #878787;\n",
       "  }\n",
       "}\n",
       "\n",
       "#sk-container-id-2 {\n",
       "  color: var(--sklearn-color-text);\n",
       "}\n",
       "\n",
       "#sk-container-id-2 pre {\n",
       "  padding: 0;\n",
       "}\n",
       "\n",
       "#sk-container-id-2 input.sk-hidden--visually {\n",
       "  border: 0;\n",
       "  clip: rect(1px 1px 1px 1px);\n",
       "  clip: rect(1px, 1px, 1px, 1px);\n",
       "  height: 1px;\n",
       "  margin: -1px;\n",
       "  overflow: hidden;\n",
       "  padding: 0;\n",
       "  position: absolute;\n",
       "  width: 1px;\n",
       "}\n",
       "\n",
       "#sk-container-id-2 div.sk-dashed-wrapped {\n",
       "  border: 1px dashed var(--sklearn-color-line);\n",
       "  margin: 0 0.4em 0.5em 0.4em;\n",
       "  box-sizing: border-box;\n",
       "  padding-bottom: 0.4em;\n",
       "  background-color: var(--sklearn-color-background);\n",
       "}\n",
       "\n",
       "#sk-container-id-2 div.sk-container {\n",
       "  /* jupyter's `normalize.less` sets `[hidden] { display: none; }`\n",
       "     but bootstrap.min.css set `[hidden] { display: none !important; }`\n",
       "     so we also need the `!important` here to be able to override the\n",
       "     default hidden behavior on the sphinx rendered scikit-learn.org.\n",
       "     See: https://github.com/scikit-learn/scikit-learn/issues/21755 */\n",
       "  display: inline-block !important;\n",
       "  position: relative;\n",
       "}\n",
       "\n",
       "#sk-container-id-2 div.sk-text-repr-fallback {\n",
       "  display: none;\n",
       "}\n",
       "\n",
       "div.sk-parallel-item,\n",
       "div.sk-serial,\n",
       "div.sk-item {\n",
       "  /* draw centered vertical line to link estimators */\n",
       "  background-image: linear-gradient(var(--sklearn-color-text-on-default-background), var(--sklearn-color-text-on-default-background));\n",
       "  background-size: 2px 100%;\n",
       "  background-repeat: no-repeat;\n",
       "  background-position: center center;\n",
       "}\n",
       "\n",
       "/* Parallel-specific style estimator block */\n",
       "\n",
       "#sk-container-id-2 div.sk-parallel-item::after {\n",
       "  content: \"\";\n",
       "  width: 100%;\n",
       "  border-bottom: 2px solid var(--sklearn-color-text-on-default-background);\n",
       "  flex-grow: 1;\n",
       "}\n",
       "\n",
       "#sk-container-id-2 div.sk-parallel {\n",
       "  display: flex;\n",
       "  align-items: stretch;\n",
       "  justify-content: center;\n",
       "  background-color: var(--sklearn-color-background);\n",
       "  position: relative;\n",
       "}\n",
       "\n",
       "#sk-container-id-2 div.sk-parallel-item {\n",
       "  display: flex;\n",
       "  flex-direction: column;\n",
       "}\n",
       "\n",
       "#sk-container-id-2 div.sk-parallel-item:first-child::after {\n",
       "  align-self: flex-end;\n",
       "  width: 50%;\n",
       "}\n",
       "\n",
       "#sk-container-id-2 div.sk-parallel-item:last-child::after {\n",
       "  align-self: flex-start;\n",
       "  width: 50%;\n",
       "}\n",
       "\n",
       "#sk-container-id-2 div.sk-parallel-item:only-child::after {\n",
       "  width: 0;\n",
       "}\n",
       "\n",
       "/* Serial-specific style estimator block */\n",
       "\n",
       "#sk-container-id-2 div.sk-serial {\n",
       "  display: flex;\n",
       "  flex-direction: column;\n",
       "  align-items: center;\n",
       "  background-color: var(--sklearn-color-background);\n",
       "  padding-right: 1em;\n",
       "  padding-left: 1em;\n",
       "}\n",
       "\n",
       "\n",
       "/* Toggleable style: style used for estimator/Pipeline/ColumnTransformer box that is\n",
       "clickable and can be expanded/collapsed.\n",
       "- Pipeline and ColumnTransformer use this feature and define the default style\n",
       "- Estimators will overwrite some part of the style using the `sk-estimator` class\n",
       "*/\n",
       "\n",
       "/* Pipeline and ColumnTransformer style (default) */\n",
       "\n",
       "#sk-container-id-2 div.sk-toggleable {\n",
       "  /* Default theme specific background. It is overwritten whether we have a\n",
       "  specific estimator or a Pipeline/ColumnTransformer */\n",
       "  background-color: var(--sklearn-color-background);\n",
       "}\n",
       "\n",
       "/* Toggleable label */\n",
       "#sk-container-id-2 label.sk-toggleable__label {\n",
       "  cursor: pointer;\n",
       "  display: flex;\n",
       "  width: 100%;\n",
       "  margin-bottom: 0;\n",
       "  padding: 0.5em;\n",
       "  box-sizing: border-box;\n",
       "  text-align: center;\n",
       "  align-items: start;\n",
       "  justify-content: space-between;\n",
       "  gap: 0.5em;\n",
       "}\n",
       "\n",
       "#sk-container-id-2 label.sk-toggleable__label .caption {\n",
       "  font-size: 0.6rem;\n",
       "  font-weight: lighter;\n",
       "  color: var(--sklearn-color-text-muted);\n",
       "}\n",
       "\n",
       "#sk-container-id-2 label.sk-toggleable__label-arrow:before {\n",
       "  /* Arrow on the left of the label */\n",
       "  content: \"▸\";\n",
       "  float: left;\n",
       "  margin-right: 0.25em;\n",
       "  color: var(--sklearn-color-icon);\n",
       "}\n",
       "\n",
       "#sk-container-id-2 label.sk-toggleable__label-arrow:hover:before {\n",
       "  color: var(--sklearn-color-text);\n",
       "}\n",
       "\n",
       "/* Toggleable content - dropdown */\n",
       "\n",
       "#sk-container-id-2 div.sk-toggleable__content {\n",
       "  max-height: 0;\n",
       "  max-width: 0;\n",
       "  overflow: hidden;\n",
       "  text-align: left;\n",
       "  /* unfitted */\n",
       "  background-color: var(--sklearn-color-unfitted-level-0);\n",
       "}\n",
       "\n",
       "#sk-container-id-2 div.sk-toggleable__content.fitted {\n",
       "  /* fitted */\n",
       "  background-color: var(--sklearn-color-fitted-level-0);\n",
       "}\n",
       "\n",
       "#sk-container-id-2 div.sk-toggleable__content pre {\n",
       "  margin: 0.2em;\n",
       "  border-radius: 0.25em;\n",
       "  color: var(--sklearn-color-text);\n",
       "  /* unfitted */\n",
       "  background-color: var(--sklearn-color-unfitted-level-0);\n",
       "}\n",
       "\n",
       "#sk-container-id-2 div.sk-toggleable__content.fitted pre {\n",
       "  /* unfitted */\n",
       "  background-color: var(--sklearn-color-fitted-level-0);\n",
       "}\n",
       "\n",
       "#sk-container-id-2 input.sk-toggleable__control:checked~div.sk-toggleable__content {\n",
       "  /* Expand drop-down */\n",
       "  max-height: 200px;\n",
       "  max-width: 100%;\n",
       "  overflow: auto;\n",
       "}\n",
       "\n",
       "#sk-container-id-2 input.sk-toggleable__control:checked~label.sk-toggleable__label-arrow:before {\n",
       "  content: \"▾\";\n",
       "}\n",
       "\n",
       "/* Pipeline/ColumnTransformer-specific style */\n",
       "\n",
       "#sk-container-id-2 div.sk-label input.sk-toggleable__control:checked~label.sk-toggleable__label {\n",
       "  color: var(--sklearn-color-text);\n",
       "  background-color: var(--sklearn-color-unfitted-level-2);\n",
       "}\n",
       "\n",
       "#sk-container-id-2 div.sk-label.fitted input.sk-toggleable__control:checked~label.sk-toggleable__label {\n",
       "  background-color: var(--sklearn-color-fitted-level-2);\n",
       "}\n",
       "\n",
       "/* Estimator-specific style */\n",
       "\n",
       "/* Colorize estimator box */\n",
       "#sk-container-id-2 div.sk-estimator input.sk-toggleable__control:checked~label.sk-toggleable__label {\n",
       "  /* unfitted */\n",
       "  background-color: var(--sklearn-color-unfitted-level-2);\n",
       "}\n",
       "\n",
       "#sk-container-id-2 div.sk-estimator.fitted input.sk-toggleable__control:checked~label.sk-toggleable__label {\n",
       "  /* fitted */\n",
       "  background-color: var(--sklearn-color-fitted-level-2);\n",
       "}\n",
       "\n",
       "#sk-container-id-2 div.sk-label label.sk-toggleable__label,\n",
       "#sk-container-id-2 div.sk-label label {\n",
       "  /* The background is the default theme color */\n",
       "  color: var(--sklearn-color-text-on-default-background);\n",
       "}\n",
       "\n",
       "/* On hover, darken the color of the background */\n",
       "#sk-container-id-2 div.sk-label:hover label.sk-toggleable__label {\n",
       "  color: var(--sklearn-color-text);\n",
       "  background-color: var(--sklearn-color-unfitted-level-2);\n",
       "}\n",
       "\n",
       "/* Label box, darken color on hover, fitted */\n",
       "#sk-container-id-2 div.sk-label.fitted:hover label.sk-toggleable__label.fitted {\n",
       "  color: var(--sklearn-color-text);\n",
       "  background-color: var(--sklearn-color-fitted-level-2);\n",
       "}\n",
       "\n",
       "/* Estimator label */\n",
       "\n",
       "#sk-container-id-2 div.sk-label label {\n",
       "  font-family: monospace;\n",
       "  font-weight: bold;\n",
       "  display: inline-block;\n",
       "  line-height: 1.2em;\n",
       "}\n",
       "\n",
       "#sk-container-id-2 div.sk-label-container {\n",
       "  text-align: center;\n",
       "}\n",
       "\n",
       "/* Estimator-specific */\n",
       "#sk-container-id-2 div.sk-estimator {\n",
       "  font-family: monospace;\n",
       "  border: 1px dotted var(--sklearn-color-border-box);\n",
       "  border-radius: 0.25em;\n",
       "  box-sizing: border-box;\n",
       "  margin-bottom: 0.5em;\n",
       "  /* unfitted */\n",
       "  background-color: var(--sklearn-color-unfitted-level-0);\n",
       "}\n",
       "\n",
       "#sk-container-id-2 div.sk-estimator.fitted {\n",
       "  /* fitted */\n",
       "  background-color: var(--sklearn-color-fitted-level-0);\n",
       "}\n",
       "\n",
       "/* on hover */\n",
       "#sk-container-id-2 div.sk-estimator:hover {\n",
       "  /* unfitted */\n",
       "  background-color: var(--sklearn-color-unfitted-level-2);\n",
       "}\n",
       "\n",
       "#sk-container-id-2 div.sk-estimator.fitted:hover {\n",
       "  /* fitted */\n",
       "  background-color: var(--sklearn-color-fitted-level-2);\n",
       "}\n",
       "\n",
       "/* Specification for estimator info (e.g. \"i\" and \"?\") */\n",
       "\n",
       "/* Common style for \"i\" and \"?\" */\n",
       "\n",
       ".sk-estimator-doc-link,\n",
       "a:link.sk-estimator-doc-link,\n",
       "a:visited.sk-estimator-doc-link {\n",
       "  float: right;\n",
       "  font-size: smaller;\n",
       "  line-height: 1em;\n",
       "  font-family: monospace;\n",
       "  background-color: var(--sklearn-color-background);\n",
       "  border-radius: 1em;\n",
       "  height: 1em;\n",
       "  width: 1em;\n",
       "  text-decoration: none !important;\n",
       "  margin-left: 0.5em;\n",
       "  text-align: center;\n",
       "  /* unfitted */\n",
       "  border: var(--sklearn-color-unfitted-level-1) 1pt solid;\n",
       "  color: var(--sklearn-color-unfitted-level-1);\n",
       "}\n",
       "\n",
       ".sk-estimator-doc-link.fitted,\n",
       "a:link.sk-estimator-doc-link.fitted,\n",
       "a:visited.sk-estimator-doc-link.fitted {\n",
       "  /* fitted */\n",
       "  border: var(--sklearn-color-fitted-level-1) 1pt solid;\n",
       "  color: var(--sklearn-color-fitted-level-1);\n",
       "}\n",
       "\n",
       "/* On hover */\n",
       "div.sk-estimator:hover .sk-estimator-doc-link:hover,\n",
       ".sk-estimator-doc-link:hover,\n",
       "div.sk-label-container:hover .sk-estimator-doc-link:hover,\n",
       ".sk-estimator-doc-link:hover {\n",
       "  /* unfitted */\n",
       "  background-color: var(--sklearn-color-unfitted-level-3);\n",
       "  color: var(--sklearn-color-background);\n",
       "  text-decoration: none;\n",
       "}\n",
       "\n",
       "div.sk-estimator.fitted:hover .sk-estimator-doc-link.fitted:hover,\n",
       ".sk-estimator-doc-link.fitted:hover,\n",
       "div.sk-label-container:hover .sk-estimator-doc-link.fitted:hover,\n",
       ".sk-estimator-doc-link.fitted:hover {\n",
       "  /* fitted */\n",
       "  background-color: var(--sklearn-color-fitted-level-3);\n",
       "  color: var(--sklearn-color-background);\n",
       "  text-decoration: none;\n",
       "}\n",
       "\n",
       "/* Span, style for the box shown on hovering the info icon */\n",
       ".sk-estimator-doc-link span {\n",
       "  display: none;\n",
       "  z-index: 9999;\n",
       "  position: relative;\n",
       "  font-weight: normal;\n",
       "  right: .2ex;\n",
       "  padding: .5ex;\n",
       "  margin: .5ex;\n",
       "  width: min-content;\n",
       "  min-width: 20ex;\n",
       "  max-width: 50ex;\n",
       "  color: var(--sklearn-color-text);\n",
       "  box-shadow: 2pt 2pt 4pt #999;\n",
       "  /* unfitted */\n",
       "  background: var(--sklearn-color-unfitted-level-0);\n",
       "  border: .5pt solid var(--sklearn-color-unfitted-level-3);\n",
       "}\n",
       "\n",
       ".sk-estimator-doc-link.fitted span {\n",
       "  /* fitted */\n",
       "  background: var(--sklearn-color-fitted-level-0);\n",
       "  border: var(--sklearn-color-fitted-level-3);\n",
       "}\n",
       "\n",
       ".sk-estimator-doc-link:hover span {\n",
       "  display: block;\n",
       "}\n",
       "\n",
       "/* \"?\"-specific style due to the `<a>` HTML tag */\n",
       "\n",
       "#sk-container-id-2 a.estimator_doc_link {\n",
       "  float: right;\n",
       "  font-size: 1rem;\n",
       "  line-height: 1em;\n",
       "  font-family: monospace;\n",
       "  background-color: var(--sklearn-color-background);\n",
       "  border-radius: 1rem;\n",
       "  height: 1rem;\n",
       "  width: 1rem;\n",
       "  text-decoration: none;\n",
       "  /* unfitted */\n",
       "  color: var(--sklearn-color-unfitted-level-1);\n",
       "  border: var(--sklearn-color-unfitted-level-1) 1pt solid;\n",
       "}\n",
       "\n",
       "#sk-container-id-2 a.estimator_doc_link.fitted {\n",
       "  /* fitted */\n",
       "  border: var(--sklearn-color-fitted-level-1) 1pt solid;\n",
       "  color: var(--sklearn-color-fitted-level-1);\n",
       "}\n",
       "\n",
       "/* On hover */\n",
       "#sk-container-id-2 a.estimator_doc_link:hover {\n",
       "  /* unfitted */\n",
       "  background-color: var(--sklearn-color-unfitted-level-3);\n",
       "  color: var(--sklearn-color-background);\n",
       "  text-decoration: none;\n",
       "}\n",
       "\n",
       "#sk-container-id-2 a.estimator_doc_link.fitted:hover {\n",
       "  /* fitted */\n",
       "  background-color: var(--sklearn-color-fitted-level-3);\n",
       "}\n",
       "</style><div id=\"sk-container-id-2\" class=\"sk-top-container\"><div class=\"sk-text-repr-fallback\"><pre>RandomForestClassifier()</pre><b>In a Jupyter environment, please rerun this cell to show the HTML representation or trust the notebook. <br />On GitHub, the HTML representation is unable to render, please try loading this page with nbviewer.org.</b></div><div class=\"sk-container\" hidden><div class=\"sk-item\"><div class=\"sk-estimator fitted sk-toggleable\"><input class=\"sk-toggleable__control sk-hidden--visually\" id=\"sk-estimator-id-2\" type=\"checkbox\" checked><label for=\"sk-estimator-id-2\" class=\"sk-toggleable__label fitted sk-toggleable__label-arrow\"><div><div>RandomForestClassifier</div></div><div><a class=\"sk-estimator-doc-link fitted\" rel=\"noreferrer\" target=\"_blank\" href=\"https://scikit-learn.org/1.6/modules/generated/sklearn.ensemble.RandomForestClassifier.html\">?<span>Documentation for RandomForestClassifier</span></a><span class=\"sk-estimator-doc-link fitted\">i<span>Fitted</span></span></div></label><div class=\"sk-toggleable__content fitted\"><pre>RandomForestClassifier()</pre></div> </div></div></div></div>"
      ],
      "text/plain": [
       "RandomForestClassifier()"
      ]
     },
     "execution_count": 100,
     "metadata": {},
     "output_type": "execute_result"
    }
   ],
   "source": [
    "rfc.fit(train_final, train_y)"
   ]
  },
  {
   "cell_type": "code",
   "execution_count": 101,
   "id": "f9b995d1-49e9-4917-afa7-508d1d67cd91",
   "metadata": {},
   "outputs": [],
   "source": [
    "from sklearn.metrics import f1_score"
   ]
  },
  {
   "cell_type": "code",
   "execution_count": 102,
   "id": "a3fa8df1-c93f-496d-9bdd-de477437f42d",
   "metadata": {},
   "outputs": [],
   "source": [
    "y_pred_train = rfc.predict(train_final)\n",
    "y_pred_val = rfc.predict(val_final)"
   ]
  },
  {
   "cell_type": "code",
   "execution_count": 103,
   "id": "ad3e894e-048c-4697-8988-ccf5a058416c",
   "metadata": {},
   "outputs": [
    {
     "data": {
      "text/plain": [
       "1.0"
      ]
     },
     "execution_count": 103,
     "metadata": {},
     "output_type": "execute_result"
    }
   ],
   "source": [
    "f1_score(train_y, y_pred_train, average=\"macro\")"
   ]
  },
  {
   "cell_type": "code",
   "execution_count": 104,
   "id": "b6b4e7ea-a5f4-4d9b-b3a1-13ed27bd5d8b",
   "metadata": {},
   "outputs": [
    {
     "data": {
      "text/plain": [
       "1.0"
      ]
     },
     "execution_count": 104,
     "metadata": {},
     "output_type": "execute_result"
    }
   ],
   "source": [
    "f1_score(val_y, y_pred_val, average=\"macro\")"
   ]
  },
  {
   "cell_type": "markdown",
   "id": "6d82c81f-532b-47f9-a8ae-022369ac61bf",
   "metadata": {},
   "source": [
    "Hmm. Okay."
   ]
  },
  {
   "cell_type": "code",
   "execution_count": 105,
   "id": "197ec3bf-5364-4028-8d17-3fbd77b7f77f",
   "metadata": {},
   "outputs": [],
   "source": [
    "test_X = df_test[train_X.columns]"
   ]
  },
  {
   "cell_type": "code",
   "execution_count": 106,
   "id": "1790c22d-24e2-4266-8f2d-74b7fb129340",
   "metadata": {},
   "outputs": [
    {
     "data": {
      "text/plain": [
       "Index(['Suspicious_Port_Activity', 'Traffic_Volume_Variation',\n",
       "       'Packet_Length_Anomaly', 'Malware_Score', 'Threat_Level_Index',\n",
       "       'User_Behavior_Score', 'Geo_Dispersion', 'Payload_Entropy',\n",
       "       'Login_Attempts', 'Device_Response_Time', 'Session_Duration',\n",
       "       'Packet_Retry_Rate', 'Anomaly_Tendency', 'ampm'],\n",
       "      dtype='object')"
      ]
     },
     "execution_count": 106,
     "metadata": {},
     "output_type": "execute_result"
    }
   ],
   "source": [
    "test_X.columns"
   ]
  },
  {
   "cell_type": "code",
   "execution_count": 108,
   "id": "373a0117-879a-4dba-b2e3-518a08374c55",
   "metadata": {},
   "outputs": [],
   "source": [
    "test_X_scaled1 = scaler.transform(test_X.drop(columns=\"ampm\"))"
   ]
  },
  {
   "cell_type": "code",
   "execution_count": 109,
   "id": "94f47a08-e508-4ca0-82f9-6cf8700ae718",
   "metadata": {},
   "outputs": [],
   "source": [
    "test_X_scaled2 = test_X[\"ampm\"].apply(lambda x:0 if x==\"AM\" else 1).values"
   ]
  },
  {
   "cell_type": "code",
   "execution_count": 110,
   "id": "7e627d0b-7be0-4d4c-b7c8-c004962bed53",
   "metadata": {},
   "outputs": [],
   "source": [
    "test_final = np.concat([test_X_scaled1, test_X_scaled2.reshape(-1, 1)], axis=1)"
   ]
  },
  {
   "cell_type": "code",
   "execution_count": 121,
   "id": "646a0ddf-6e1a-4fd1-9a2e-d6cc4dbeaf07",
   "metadata": {},
   "outputs": [],
   "source": [
    "y_pred_test = rfc.predict(test_final)"
   ]
  },
  {
   "cell_type": "markdown",
   "id": "4a47fad5-7fa1-4c3e-8a3b-97dd19cc27d2",
   "metadata": {},
   "source": [
    "Ok bundle this up into the submission format earlier."
   ]
  },
  {
   "cell_type": "code",
   "execution_count": 122,
   "id": "fd090fb3-14c4-4173-93d8-69dfc750cfa0",
   "metadata": {},
   "outputs": [
    {
     "data": {
      "text/plain": [
       "7500"
      ]
     },
     "execution_count": 122,
     "metadata": {},
     "output_type": "execute_result"
    }
   ],
   "source": [
    "len(df_test)"
   ]
  },
  {
   "cell_type": "code",
   "execution_count": 123,
   "id": "fd6da3a1-deb6-4da4-8e0e-8cdf2ef86bcb",
   "metadata": {},
   "outputs": [],
   "source": [
    "total_len_task2 = len(test_final)"
   ]
  },
  {
   "cell_type": "code",
   "execution_count": 124,
   "id": "84b2cf3e-644b-4702-b004-564320c42be5",
   "metadata": {},
   "outputs": [
    {
     "data": {
      "text/plain": [
       "7500"
      ]
     },
     "execution_count": 124,
     "metadata": {},
     "output_type": "execute_result"
    }
   ],
   "source": [
    "total_len_task2"
   ]
  },
  {
   "cell_type": "code",
   "execution_count": 125,
   "id": "eb8ebc0b-b0ed-4965-bf58-c9564319eb22",
   "metadata": {},
   "outputs": [],
   "source": [
    "submission2 = pd.DataFrame(data={\n",
    "    \"subtaskID\": [2] * total_len_task2,\n",
    "    \"datapointID\": df_test[\"ID\"],\n",
    "    \"answer\": y_pred_test\n",
    "})"
   ]
  },
  {
   "cell_type": "code",
   "execution_count": 127,
   "id": "c1ef0c72-0197-440f-9a16-b5db264f6ac5",
   "metadata": {},
   "outputs": [
    {
     "data": {
      "text/html": [
       "<div>\n",
       "<style scoped>\n",
       "    .dataframe tbody tr th:only-of-type {\n",
       "        vertical-align: middle;\n",
       "    }\n",
       "\n",
       "    .dataframe tbody tr th {\n",
       "        vertical-align: top;\n",
       "    }\n",
       "\n",
       "    .dataframe thead th {\n",
       "        text-align: right;\n",
       "    }\n",
       "</style>\n",
       "<table border=\"1\" class=\"dataframe\">\n",
       "  <thead>\n",
       "    <tr style=\"text-align: right;\">\n",
       "      <th></th>\n",
       "      <th>subtaskID</th>\n",
       "      <th>datapointID</th>\n",
       "      <th>answer</th>\n",
       "    </tr>\n",
       "  </thead>\n",
       "  <tbody>\n",
       "    <tr>\n",
       "      <th>0</th>\n",
       "      <td>1</td>\n",
       "      <td>12633</td>\n",
       "      <td>PM</td>\n",
       "    </tr>\n",
       "    <tr>\n",
       "      <th>1</th>\n",
       "      <td>1</td>\n",
       "      <td>24448</td>\n",
       "      <td>PM</td>\n",
       "    </tr>\n",
       "    <tr>\n",
       "      <th>2</th>\n",
       "      <td>1</td>\n",
       "      <td>14208</td>\n",
       "      <td>AM</td>\n",
       "    </tr>\n",
       "    <tr>\n",
       "      <th>3</th>\n",
       "      <td>1</td>\n",
       "      <td>39654</td>\n",
       "      <td>AM</td>\n",
       "    </tr>\n",
       "    <tr>\n",
       "      <th>4</th>\n",
       "      <td>1</td>\n",
       "      <td>337</td>\n",
       "      <td>AM</td>\n",
       "    </tr>\n",
       "  </tbody>\n",
       "</table>\n",
       "</div>"
      ],
      "text/plain": [
       "   subtaskID  datapointID answer\n",
       "0          1        12633     PM\n",
       "1          1        24448     PM\n",
       "2          1        14208     AM\n",
       "3          1        39654     AM\n",
       "4          1          337     AM"
      ]
     },
     "execution_count": 127,
     "metadata": {},
     "output_type": "execute_result"
    }
   ],
   "source": [
    "ans1.head()"
   ]
  },
  {
   "cell_type": "code",
   "execution_count": 128,
   "id": "1b8e073b-e76c-4acb-a65b-b33b3b98800f",
   "metadata": {},
   "outputs": [
    {
     "data": {
      "text/html": [
       "<div>\n",
       "<style scoped>\n",
       "    .dataframe tbody tr th:only-of-type {\n",
       "        vertical-align: middle;\n",
       "    }\n",
       "\n",
       "    .dataframe tbody tr th {\n",
       "        vertical-align: top;\n",
       "    }\n",
       "\n",
       "    .dataframe thead th {\n",
       "        text-align: right;\n",
       "    }\n",
       "</style>\n",
       "<table border=\"1\" class=\"dataframe\">\n",
       "  <thead>\n",
       "    <tr style=\"text-align: right;\">\n",
       "      <th></th>\n",
       "      <th>subtaskID</th>\n",
       "      <th>datapointID</th>\n",
       "      <th>answer</th>\n",
       "    </tr>\n",
       "  </thead>\n",
       "  <tbody>\n",
       "    <tr>\n",
       "      <th>0</th>\n",
       "      <td>2</td>\n",
       "      <td>12633</td>\n",
       "      <td>1</td>\n",
       "    </tr>\n",
       "    <tr>\n",
       "      <th>1</th>\n",
       "      <td>2</td>\n",
       "      <td>24448</td>\n",
       "      <td>2</td>\n",
       "    </tr>\n",
       "    <tr>\n",
       "      <th>2</th>\n",
       "      <td>2</td>\n",
       "      <td>14208</td>\n",
       "      <td>1</td>\n",
       "    </tr>\n",
       "    <tr>\n",
       "      <th>3</th>\n",
       "      <td>2</td>\n",
       "      <td>39654</td>\n",
       "      <td>1</td>\n",
       "    </tr>\n",
       "    <tr>\n",
       "      <th>4</th>\n",
       "      <td>2</td>\n",
       "      <td>337</td>\n",
       "      <td>2</td>\n",
       "    </tr>\n",
       "  </tbody>\n",
       "</table>\n",
       "</div>"
      ],
      "text/plain": [
       "   subtaskID  datapointID  answer\n",
       "0          2        12633       1\n",
       "1          2        24448       2\n",
       "2          2        14208       1\n",
       "3          2        39654       1\n",
       "4          2          337       2"
      ]
     },
     "execution_count": 128,
     "metadata": {},
     "output_type": "execute_result"
    }
   ],
   "source": [
    "submission2.head()"
   ]
  },
  {
   "cell_type": "code",
   "execution_count": 133,
   "id": "7fe3fac5-a277-4fde-86d8-bffb051ebf61",
   "metadata": {},
   "outputs": [
    {
     "data": {
      "text/plain": [
       "array([1, 2, 0])"
      ]
     },
     "execution_count": 133,
     "metadata": {},
     "output_type": "execute_result"
    }
   ],
   "source": [
    "submission2[\"answer\"].unique()"
   ]
  },
  {
   "cell_type": "code",
   "execution_count": 129,
   "id": "b8e36a23-22d0-4cdc-b5a5-62bb8b13f46a",
   "metadata": {},
   "outputs": [],
   "source": [
    "final_df = pd.concat([ans1, submission2], axis=\"rows\")"
   ]
  },
  {
   "cell_type": "code",
   "execution_count": 134,
   "id": "7ef25a21-d299-4b5e-bb4b-2b0601c8c701",
   "metadata": {},
   "outputs": [
    {
     "data": {
      "text/plain": [
       "15000"
      ]
     },
     "execution_count": 134,
     "metadata": {},
     "output_type": "execute_result"
    }
   ],
   "source": [
    "len(final_df)"
   ]
  },
  {
   "cell_type": "code",
   "execution_count": 135,
   "id": "a4e1b35f-df9e-472a-b9ee-e76bff39e869",
   "metadata": {},
   "outputs": [],
   "source": [
    "final_df = final_df.reset_index(drop=True)"
   ]
  },
  {
   "cell_type": "code",
   "execution_count": 145,
   "id": "c1986087-6c60-40d7-83b2-d1a74ec7fcce",
   "metadata": {},
   "outputs": [],
   "source": [
    "final_df.to_csv(\"submission2.csv\", index=False)"
   ]
  },
  {
   "cell_type": "code",
   "execution_count": 140,
   "id": "bfe3fca0-64aa-431e-a752-5be0ab81b34a",
   "metadata": {},
   "outputs": [
    {
     "data": {
      "text/plain": [
       "15000"
      ]
     },
     "execution_count": 140,
     "metadata": {},
     "output_type": "execute_result"
    }
   ],
   "source": [
    "len(final_df)"
   ]
  }
 ],
 "metadata": {
  "kernelspec": {
   "display_name": "Python [conda env:ml]",
   "language": "python",
   "name": "conda-env-ml-py"
  },
  "language_info": {
   "codemirror_mode": {
    "name": "ipython",
    "version": 3
   },
   "file_extension": ".py",
   "mimetype": "text/x-python",
   "name": "python",
   "nbconvert_exporter": "python",
   "pygments_lexer": "ipython3",
   "version": "3.13.1"
  }
 },
 "nbformat": 4,
 "nbformat_minor": 5
}
