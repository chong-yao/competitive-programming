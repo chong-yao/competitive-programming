{
 "cells": [
  {
   "cell_type": "markdown",
   "id": "08e5f891-b63a-4776-9f41-3ec76a0c8e38",
   "metadata": {},
   "source": [
    "# Mock question: MCQ"
   ]
  },
  {
   "cell_type": "markdown",
   "id": "eeee6dc4-b8c5-4bc9-a366-5addd4dc523b",
   "metadata": {},
   "source": [
    "Make sure you edit cells that say `# YOUR EDIT HERE #`. Otherwise, you are free to modify the provided scaffolding code as you wish, and you are free to use LLM tools like ChatGPT, Claude, and Gemini. If you accidentally break the code used for submitting your answer, download the notebook again and copy-paste the original submission code from there.\n",
    "\n",
    "Glhf! - Nian Wei"
   ]
  },
  {
   "cell_type": "markdown",
   "id": "ec63dae4-f8ba-4b57-a72a-de4e1c514a1f",
   "metadata": {},
   "source": [
    "## Setup"
   ]
  },
  {
   "cell_type": "code",
   "execution_count": 1,
   "id": "35c9b33b-a25e-46ba-bc03-f1d692ea4eec",
   "metadata": {
    "tags": []
   },
   "outputs": [],
   "source": [
    "# YOUR EDIT HERE #\n",
    "# Remember, keep your auth token to yourself!\n",
    "# If you want to store this notebook in github, remember to remove your token first!\n",
    "auth_token = \"maio_cf75a54b_d24c_4ca3_b9c2_4b90d9d61d6f\""
   ]
  },
  {
   "cell_type": "code",
   "execution_count": 2,
   "id": "03050362-dd2d-4c45-81a7-f08eeb52ba00",
   "metadata": {
    "tags": []
   },
   "outputs": [],
   "source": [
    "import requests\n",
    "\n",
    "url = \"https://competitions.aiolympiad.my/api/mock_maio_2025/mock_01_mcq\"\n",
    "\n",
    "def post_answer(data: dict):\n",
    "    response = requests.post(url=url, json=data, headers={\"X-API-Key\": auth_token})\n",
    "    if response.status_code == 200:\n",
    "        return response.json()\n",
    "    else:\n",
    "        return f\"Failed to submit, status code is {response.status_code}\""
   ]
  },
  {
   "cell_type": "markdown",
   "id": "ff0581d8-29f8-476f-9a55-673c3c35a15c",
   "metadata": {},
   "source": [
    "## Question 1"
   ]
  },
  {
   "cell_type": "markdown",
   "id": "8b7117f2-d735-4fc0-ad7e-d07dbc5c4193",
   "metadata": {},
   "source": [
    "Select A as your answer. (5 pts)\n",
    "\n",
    "Expected answer format:"
   ]
  },
  {
   "cell_type": "code",
   "execution_count": 3,
   "id": "f36a50bf-24ef-4d7f-954e-367369d4a742",
   "metadata": {
    "tags": []
   },
   "outputs": [],
   "source": [
    "# YOUR EDIT HERE #\n",
    "# ans1 = \"A\"\n",
    "ans1 = \"A\""
   ]
  },
  {
   "cell_type": "markdown",
   "id": "c3154e21-a94e-4805-9cd3-a72ae11f6234",
   "metadata": {},
   "source": [
    "## Question 2"
   ]
  },
  {
   "cell_type": "markdown",
   "id": "e4213ed9-155f-4ecb-b05a-3eb17e46d17c",
   "metadata": {},
   "source": [
    "Select B as your answer. (5 pts)"
   ]
  },
  {
   "cell_type": "code",
   "execution_count": 4,
   "id": "fd7714f1-daa7-4a4a-ac66-80b70ddd4ffc",
   "metadata": {
    "tags": []
   },
   "outputs": [],
   "source": [
    "# YOUR EDIT HERE #\n",
    "# ans1 = \"B\"\n",
    "ans2 = \"B\""
   ]
  },
  {
   "cell_type": "markdown",
   "id": "ae8eadbb-5f3f-422a-aa9f-18c1c374d159",
   "metadata": {},
   "source": [
    "## Submission"
   ]
  },
  {
   "cell_type": "code",
   "execution_count": 5,
   "id": "cbe0c91e-4486-4ebf-905d-7b95396e7e3c",
   "metadata": {
    "tags": []
   },
   "outputs": [
    {
     "data": {
      "text/plain": [
       "{'status': 'SUCCESS',\n",
       " 'message': 'Answer for challenge mock_01_mcq submitted successfully on 2025-03-08 15:45:39.419831+00:00.'}"
      ]
     },
     "execution_count": 5,
     "metadata": {},
     "output_type": "execute_result"
    }
   ],
   "source": [
    "post_answer({\"solution\": {\"ans1\": ans1, \"ans2\": ans2}})"
   ]
  },
  {
   "cell_type": "markdown",
   "id": "5dc8c5b8-1450-4648-bc1a-345b06025505",
   "metadata": {},
   "source": [
    "A successful submission should return a printout that looks like this:\n",
    "```\n",
    "{'status': 'SUCCESS',\n",
    " 'message': 'Answer submitted successfully on 2024-12-23 07:56:16.087036+00:00'}\n",
    "```\n",
    "\n",
    "Note that just because the submission is successful, does not necessarily mean it is correct!\n",
    "\n",
    "In this case, these questions will be passed through an autograder later on. Questions that do not have an autograder will require human grading later to obtain a score."
   ]
  }
 ],
 "metadata": {
  "kernelspec": {
   "display_name": "Python 3",
   "language": "python",
   "name": "python3"
  },
  "language_info": {
   "codemirror_mode": {
    "name": "ipython",
    "version": 3
   },
   "file_extension": ".py",
   "mimetype": "text/x-python",
   "name": "python",
   "nbconvert_exporter": "python",
   "pygments_lexer": "ipython3",
   "version": "3.12.9"
  }
 },
 "nbformat": 4,
 "nbformat_minor": 5
}
