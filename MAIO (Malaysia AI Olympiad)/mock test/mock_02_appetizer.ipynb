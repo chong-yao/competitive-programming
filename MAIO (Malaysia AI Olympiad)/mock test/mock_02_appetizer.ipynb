{
 "cells": [
  {
   "cell_type": "markdown",
   "id": "08e5f891-b63a-4776-9f41-3ec76a0c8e38",
   "metadata": {},
   "source": [
    "# Mock question: Appetizer"
   ]
  },
  {
   "cell_type": "markdown",
   "id": "0636a498-91ca-4c58-9b4b-1adb3a8b9422",
   "metadata": {},
   "source": [
    "Make sure you edit cells that say `# YOUR EDIT HERE #`. Otherwise, you are free to modify the provided scaffolding code as you wish, and you are free to use LLM tools like ChatGPT, Claude, and Gemini. If you accidentally break the code used for submitting your answer, download the notebook again and copy-paste the original submission code from there.\n",
    "\n",
    "Glhf! - Nian Wei"
   ]
  },
  {
   "cell_type": "markdown",
   "id": "ec63dae4-f8ba-4b57-a72a-de4e1c514a1f",
   "metadata": {},
   "source": [
    "## Setup"
   ]
  },
  {
   "cell_type": "code",
   "execution_count": 4,
   "id": "817e7dbe-e837-41c3-8e73-faa4d058f2e3",
   "metadata": {
    "tags": []
   },
   "outputs": [],
   "source": [
    "# YOUR EDIT HERE #\n",
    "# Remember, keep your auth token to yourself!\n",
    "# If you want to store this notebook in github, remember to remove your token first!\n",
    "auth_token = \"maio_cf75a54b_d24c_4ca3_b9c2_4b90d9d61d6f\""
   ]
  },
  {
   "cell_type": "code",
   "execution_count": 5,
   "id": "53149300-a0ee-4c85-ba27-fc529c6e01e4",
   "metadata": {},
   "outputs": [],
   "source": [
    "from urllib.parse import urljoin\n",
    "import requests\n",
    "\n",
    "def post_answer(data: dict, question: str):\n",
    "    assert question in [\"mock_02_appt_a\", \"mock_02_appt\", \"mock_02_appt_b\"]\n",
    "    rooturl = \"https://competitions.aiolympiad.my/api/mock_maio_2025/\"\n",
    "    response = requests.post(url=urljoin(rooturl, question), json=data, headers={\"X-API-Key\": auth_token})\n",
    "    if response.status_code == 200:\n",
    "        return response.json()\n",
    "    else:\n",
    "        return f\"Failed to submit, status code is {response.status_code}\""
   ]
  },
  {
   "cell_type": "markdown",
   "id": "ff0581d8-29f8-476f-9a55-673c3c35a15c",
   "metadata": {},
   "source": [
    "## Appetizer 1"
   ]
  },
  {
   "cell_type": "markdown",
   "id": "8b7117f2-d735-4fc0-ad7e-d07dbc5c4193",
   "metadata": {},
   "source": [
    "Alice wants to encode the phrase \"BOUNTIFUL HARVEST\" to Bob using the Caesar shift cipher. What would the phrase be with a shift of 5? (5 pts granted for correct answer submission, 20 max submissions allowed)"
   ]
  },
  {
   "cell_type": "markdown",
   "id": "f36a50bf-24ef-4d7f-954e-367369d4a742",
   "metadata": {
    "tags": []
   },
   "source": [
    "# YOUR EDIT HERE #\n",
    "caesar_answer = \"GTZSYNKZQ MFWAJXY\""
   ]
  },
  {
   "cell_type": "markdown",
   "id": "bdf93264-583e-4d3a-b998-68b43cb88497",
   "metadata": {},
   "source": [
    "post_answer({\"solution\": caesar_answer}, question=\"mock_02_appt_a\")"
   ]
  },
  {
   "cell_type": "markdown",
   "id": "1dbee612-251c-491a-acfc-6446bb8406ee",
   "metadata": {},
   "source": [
    "Most questions with autograders will have a submission limit. Your submission status printout will note on the amount of submission remaining if there is one."
   ]
  },
  {
   "cell_type": "markdown",
   "id": "5d406ee5-2873-4cc8-b559-bfd3561112ee",
   "metadata": {},
   "source": [
    "## Appetizer 2"
   ]
  },
  {
   "cell_type": "markdown",
   "id": "17b0553d-11fc-4b18-a31f-ff1b690c5177",
   "metadata": {},
   "source": [
    "Alice's personal website has a visitors' wall where random guests can leave messages, like a digital post-it note. Bob is a good friend of Alice and wants to prank her by leaving notes about peanuts. (Alice has a peanut allergy and really doesn't like peanuts.)\n",
    "\n",
    "Bob typed into the web form with glee:\n",
    "\n",
    "```\n",
    "The peanut monster is always watching you Alice! 👻\n",
    "```\n",
    "\n",
    "To his surprise, the web form chirped back at him with an error message:\n",
    "\n",
    "```\n",
    "Sorry! Unpleasant content detected in your message. Please modify your content and try again.\n",
    "```\n",
    "\n",
    "Alice has set up a safeguard to prevent peanut content on her website! Bob took this as a challenge and sat up straight in his chair. He tried a few more times:\n",
    "\n",
    "```\n",
    "1. Nutella is awesome!\n",
    "2. Peanuts are number one food for me\n",
    "3. Do you know what doesnt grow on sycamore trees? P E A, N U T!\n",
    "```\n",
    "\n",
    "The first two messages did not pass, but the third message got posted! Hah. Bob has managed to circumvent Alice's safeguards. He thinks he knows how Alice's safeguard works now.\n",
    "\n",
    "With glee, Bob scrolled down the website to find the comment he posted (Alice has A LOT of friends leaving messages). To his surprise, he came across this message:\n",
    "\n",
    "```\n",
    "Hi Alice! We met in Ontario at the Young Scientists in AI Conference. It was suchhhhh a blast to meet you! Out of all the sessions we had, the session where we are put in the same team to build practical demonstrations for AI concepts using peanuts was easily my favourite!\n",
    "```\n",
    "\n",
    "Bob isn't sure if he knows how Alice's safeguard works anymore."
   ]
  },
  {
   "cell_type": "markdown",
   "id": "424b8fce-1d8e-4e98-a4c2-20ef0571409e",
   "metadata": {},
   "source": [
    "1. How do you think Alice's safeguard works? Leave a few sentence writeup below in a markdown cell. Total of 5 pts to be granted at discretion after this notebook is submitted for human grading."
   ]
  },
  {
   "cell_type": "markdown",
   "id": "c7b9519d",
   "metadata": {},
   "source": [
    "```\n",
    "# YOUR EDIT HERE #\n",
    "```\n",
    "\n",
    "I think Alice's safeguard does not disallow the word \"peanut\" or \"peanuts\" or equivalent to be used. However, it only allows the message to be sent through only if it has a compliment. Also, I think the safeguard allows messages through if it contains a question or a question mark '?', this is to prevent Alice missing out on friends asking her genuine questions. Perhaps the safeguard has a few whitelisted keywords such as \"AI\", that may be Alice's interest?\n",
    "\n",
    "For example, Bob's \"The peanut monster is always watching you Alice! 👻\" is not complimenting Alice in any way, thus the message was rejected.\n",
    "\n",
    "Bob's \"Nutella is awesome!\" may not be complimenting Alice in any way, and thus it was rejected.\n",
    "\n",
    "Bob's \"Peanuts are number one food for me\" is only focusing on Bob and is not complimenting Alice in any way.\n",
    "\n",
    "However, Bob's \"Do you know what doesnt grow on sycamore trees? P E A, N U T!\" contains a question especially a question mark, so the safeguard allowed it through!\n",
    "\n",
    "Also, the message that Bob came across (\"Hi Alice! We met in Ontario at the Young Scientists in AI Conference. It was suchhhhh a blast to meet you! Out of all the sessions we had, the session where we are put in the same team to build practical demonstrations for AI concepts using peanuts was easily my favourite!\") contained a nice message about Alice and that friend's interaction, soo it was accepted.\n",
    "\n",
    ":D i think so.."
   ]
  },
  {
   "cell_type": "markdown",
   "id": "8ebfb32e-0f4f-455b-9847-eceb6af06788",
   "metadata": {},
   "source": [
    "2. Try it out yourself. If your post is accepted, you will get 1 pt, else 0 pt. Use this function and its generous submission limit to explore answers to the question above. You can make a total of 96 submissions (Was 100 but Bob already used 4 submissions)."
   ]
  },
  {
   "cell_type": "code",
   "execution_count": 6,
   "id": "4363dd60-b0a8-4003-b8a2-94994ae62a65",
   "metadata": {
    "tags": []
   },
   "outputs": [],
   "source": [
    "# YOUR ANSWER HERE\n",
    "bobs_message = \"Hey Alice, I've been experimenting in the kitchen and just whipped up some amazing pεanut butter fudge. It's a nutty twist on a classic treat—I thought you'd appreciate the creative flair! Cheers, Bob.\""
   ]
  },
  {
   "cell_type": "code",
   "execution_count": 7,
   "id": "3dce254f-b771-47ad-a153-80e9d3800dca",
   "metadata": {},
   "outputs": [
    {
     "data": {
      "text/plain": [
       "{'status': 'SUCCESS',\n",
       " 'message': 'Answer for challenge mock_02_appt submitted successfully on 2025-03-10 13:33:42.451629+00:00. Total submissions is 17 / 96.'}"
      ]
     },
     "execution_count": 7,
     "metadata": {},
     "output_type": "execute_result"
    }
   ],
   "source": [
    "post_answer({\"solution\": bobs_message}, question=\"mock_02_appt\")"
   ]
  },
  {
   "cell_type": "markdown",
   "id": "eb1f6ac3",
   "metadata": {},
   "source": []
  },
  {
   "cell_type": "markdown",
   "id": "c3154e21-a94e-4805-9cd3-a72ae11f6234",
   "metadata": {},
   "source": [
    "## Appetizer 3"
   ]
  },
  {
   "cell_type": "markdown",
   "id": "e4213ed9-155f-4ecb-b05a-3eb17e46d17c",
   "metadata": {},
   "source": [
    "Guess the number. The closer you get, the higher the score. If you're too far off, you'll get zero! Total points is 10 points, with only 5 submissions available. "
   ]
  },
  {
   "cell_type": "markdown",
   "id": "71583bcf-ce39-4621-b899-8e317b1d7c02",
   "metadata": {
    "tags": []
   },
   "source": [
    "# YOUR ANSWER HERE\n",
    "guess_num_ans = 45.454545"
   ]
  },
  {
   "cell_type": "markdown",
   "id": "e8954362-d47b-47ab-955f-abacfb585423",
   "metadata": {},
   "source": [
    "post_answer({\"solution\": guess_num_ans}, question=\"mock_02_appt_b\")"
   ]
  },
  {
   "cell_type": "markdown",
   "id": "ae8eadbb-5f3f-422a-aa9f-18c1c374d159",
   "metadata": {},
   "source": [
    "## Appetizer 4"
   ]
  },
  {
   "cell_type": "markdown",
   "id": "ac659f8a-ef87-427a-8469-1b69f76d0310",
   "metadata": {
    "tags": []
   },
   "source": [
    "Make sure that you can import these common libraries. If not, make sure you can figure out how to install them! No points granted here, and no submission required."
   ]
  },
  {
   "cell_type": "code",
   "execution_count": 8,
   "id": "dcb0d09f-2d8f-4a40-84c4-d4c1c714d42f",
   "metadata": {},
   "outputs": [],
   "source": [
    "import numpy as np"
   ]
  },
  {
   "cell_type": "code",
   "execution_count": 9,
   "id": "e6ae20b5-f835-4b8b-97dd-364e2d915f8a",
   "metadata": {},
   "outputs": [],
   "source": [
    "import torch"
   ]
  },
  {
   "cell_type": "code",
   "execution_count": 10,
   "id": "36fd741a-38ed-468f-8d50-f5507d055629",
   "metadata": {},
   "outputs": [
    {
     "ename": "ModuleNotFoundError",
     "evalue": "No module named 'matplotlib'",
     "output_type": "error",
     "traceback": [
      "\u001b[31m---------------------------------------------------------------------------\u001b[39m",
      "\u001b[31mModuleNotFoundError\u001b[39m                       Traceback (most recent call last)",
      "\u001b[36mCell\u001b[39m\u001b[36m \u001b[39m\u001b[32mIn[10]\u001b[39m\u001b[32m, line 1\u001b[39m\n\u001b[32m----> \u001b[39m\u001b[32m1\u001b[39m \u001b[38;5;28;01mimport\u001b[39;00m\u001b[38;5;250m \u001b[39m\u001b[34;01mmatplotlib\u001b[39;00m\n",
      "\u001b[31mModuleNotFoundError\u001b[39m: No module named 'matplotlib'"
     ]
    }
   ],
   "source": [
    "import matplotlib"
   ]
  },
  {
   "cell_type": "code",
   "execution_count": null,
   "id": "72d459f5-c7f0-4beb-9abf-9b4526ef7de5",
   "metadata": {},
   "outputs": [],
   "source": [
    "from sklearn import preprocessing"
   ]
  },
  {
   "cell_type": "code",
   "execution_count": null,
   "id": "7f6d8042-e359-4c9e-9417-fae76c388971",
   "metadata": {},
   "outputs": [],
   "source": [
    "import transformers"
   ]
  }
 ],
 "metadata": {
  "kernelspec": {
   "display_name": "Python 3",
   "language": "python",
   "name": "python3"
  },
  "language_info": {
   "codemirror_mode": {
    "name": "ipython",
    "version": 3
   },
   "file_extension": ".py",
   "mimetype": "text/x-python",
   "name": "python",
   "nbconvert_exporter": "python",
   "pygments_lexer": "ipython3",
   "version": "3.12.9"
  }
 },
 "nbformat": 4,
 "nbformat_minor": 5
}
