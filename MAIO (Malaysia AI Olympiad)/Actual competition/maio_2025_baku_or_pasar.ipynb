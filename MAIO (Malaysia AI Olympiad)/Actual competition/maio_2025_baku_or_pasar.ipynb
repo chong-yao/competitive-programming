{
 "cells": [
  {
   "cell_type": "markdown",
   "id": "10ca7917-a5e0-4440-af58-d1a38af087c3",
   "metadata": {},
   "source": [
    "# Baku or pasar"
   ]
  },
  {
   "cell_type": "markdown",
   "id": "25913257-588a-4ce0-b559-10c7ff660072",
   "metadata": {},
   "source": [
    "## Setup"
   ]
  },
  {
   "cell_type": "code",
   "execution_count": 93,
   "id": "3965f504-b3e8-4896-9c1c-24ac1218439f",
   "metadata": {
    "tags": []
   },
   "outputs": [],
   "source": [
    "# YOUR EDIT HERE #\n",
    "# Remember, keep your auth token to yourself!\n",
    "# If you want to store this notebook in github, remember to remove your token first!\n",
    "auth_token = \"maio_cf75a54b_d24c_4ca3_b9c2_4b90d9d61d6f\""
   ]
  },
  {
   "cell_type": "code",
   "execution_count": 94,
   "id": "839dc4fa-d6e4-4415-90d9-e38642bc40fa",
   "metadata": {
    "tags": []
   },
   "outputs": [],
   "source": [
    "import requests\n",
    "\n",
    "url = \"https://competitions.aiolympiad.my/api/maio_2025/maio_2025_baku_or_pasar\"\n",
    "\n",
    "def post_answer(data: dict):\n",
    "    response = requests.post(url=url, json=data, headers={\"X-API-Key\": auth_token})\n",
    "    if response.status_code == 200:\n",
    "        return response.json()\n",
    "    else:\n",
    "        return f\"Failed to submit, status code is {response.status_code}\\n{response.text}\""
   ]
  },
  {
   "cell_type": "markdown",
   "id": "9590f6b8-235f-49db-84aa-aa780bb56066",
   "metadata": {},
   "source": [
    "## Introduction"
   ]
  },
  {
   "cell_type": "markdown",
   "id": "babc4867-269f-4263-9f93-da7168a10cde",
   "metadata": {},
   "source": [
    "You are given two files, `train.jsonl` and `test.jsonl`."
   ]
  },
  {
   "cell_type": "code",
   "execution_count": 95,
   "id": "08195cab-915d-4043-907b-1281b5a25d73",
   "metadata": {},
   "outputs": [],
   "source": [
    "import json"
   ]
  },
  {
   "cell_type": "code",
   "execution_count": 96,
   "id": "482569d4-2c72-4479-a83b-75ad065a15aa",
   "metadata": {},
   "outputs": [
    {
     "data": {
      "text/plain": [
       "('test.jsonl', <http.client.HTTPMessage at 0x1b9d67c0080>)"
      ]
     },
     "execution_count": 96,
     "metadata": {},
     "output_type": "execute_result"
    }
   ],
   "source": [
    "import urllib.request\n",
    "\n",
    "urllib.request.urlretrieve(\n",
    "    \"https://storage.googleapis.com/aiolympiadmy/baku-or-pasar/train.jsonl\", \n",
    "    \"train.jsonl\"\n",
    ")\n",
    "urllib.request.urlretrieve(\n",
    "    \"https://storage.googleapis.com/aiolympiadmy/baku-or-pasar/test.jsonl\", \n",
    "    \"test.jsonl\"\n",
    ")"
   ]
  },
  {
   "cell_type": "code",
   "execution_count": 97,
   "id": "22862ac4-8b13-42f8-9316-9ebf217ecbec",
   "metadata": {},
   "outputs": [],
   "source": [
    "with open(\"train.jsonl\", \"r\") as f:\n",
    "    train = [json.loads(i) for i in f]"
   ]
  },
  {
   "cell_type": "code",
   "execution_count": 98,
   "id": "85d6e265-8cef-44a6-870a-d9d7796d2f51",
   "metadata": {},
   "outputs": [
    {
     "data": {
      "text/plain": [
       "[{'id': 0,\n",
       "  'text': 'cerai balik cenggitu jaaa, kaknab akan ganti tmpat som, dan kaknab lah perangai yg paling tk semegah jht dari som 😏',\n",
       "  'class': 3},\n",
       " {'id': 1,\n",
       "  'text': 'Pasukan Polis Marin (PPM)\\xa0Wilayah Satu Langkawi\\xa0membongkar\\xa0sindiket penyeludupan minyak diesel ke Thailand menggunakan bot barter trade di Jeti Perikanan Lembaga Kemajuan Ikan Malaysia (LKIM) Kuala Perlis dekat sini semalam.',\n",
       "  'class': 0},\n",
       " {'id': 2,\n",
       "  'text': 'Sebanyak enam buah khemah peniaga bazar Ramadan di Alor Pongsu, Bagan Serai rosak akibat dibadai angin ribut kira-kira pukul 2.30 petang tadi.',\n",
       "  'class': 0},\n",
       " {'id': 3,\n",
       "  'text': 'Mas, di tempat kami ada hamparan batu di aliran sungai, hamparan batu tersebut menyelimuti batang pohon yg sebagian telah mengkristal. Fenomena yg demikian kira2 prosesnya bgmana yah.',\n",
       "  'class': 2},\n",
       " {'id': 4,\n",
       "  'text': 'Gempa bumi kuat berukuran 7.6 pada skala Richter menggegarkan Papua New Guinea dan mengorbankan lima orang, manakala sebilangan yang lain cedera, lapor laman berita Wion News semalam.',\n",
       "  'class': 0}]"
      ]
     },
     "execution_count": 98,
     "metadata": {},
     "output_type": "execute_result"
    }
   ],
   "source": [
    "train[:5]"
   ]
  },
  {
   "cell_type": "markdown",
   "id": "66f09d90-6f5c-4740-9dd9-27e72c90b54f",
   "metadata": {},
   "source": [
    "From inspecting the first five items, you see that you are provided with a list of texts with an associated class. Bahasa baku is tagged with class 0, and bahasa pasar is tagged with classes 1 to 5."
   ]
  },
  {
   "cell_type": "code",
   "execution_count": 99,
   "id": "6354b134-b1e3-4f1f-9429-87c733bd8d0b",
   "metadata": {},
   "outputs": [],
   "source": [
    "with open(\"test.jsonl\", \"r\") as f:\n",
    "    test = [json.loads(i) for i in f]"
   ]
  },
  {
   "cell_type": "code",
   "execution_count": 100,
   "id": "c0d091b6-9418-411d-a4f8-3be2b892195f",
   "metadata": {},
   "outputs": [
    {
     "data": {
      "text/plain": [
       "[{'id': 0,\n",
       "  'text': 'SALAH SATU CHANNEL YOUTUBE BELAJAR TOEFL GRATIS TERBAEKKK‼️\\n\\nGUYS YANG MAU PERSIAPAN TES TOEFL, KE CHANNEL INI AJAA, BAGUSSS, LENGKAP BANGET, ADA CONTOH ESSAYSNYA JUGA!\\n\\nPenjelasannya enak, dan bisa banget buat naikin skor TOEFL kamu!'},\n",
       " {'id': 1,\n",
       "  'text': 'Sekumpulan doktor pakar onkologi berjaya menyembuhkan kanser rektum menggunakan sejenis ubat yang masih di peringkat ujian klinikal, lapor akhbar Metro UK, semalam.'},\n",
       " {'id': 2,\n",
       "  'text': 'Dua daripada empat suspek kes samun sebuah klinik pergigian di Taman Melati, Kuala Lumpur pada pukul 6.30 petang semalam berjaya diberkas pihak polis.'},\n",
       " {'id': 3,\n",
       "  'text': 'Ngga siap liat coach naga api ketemu coach naga air di lapangan, makin seru. Selamaat coach'},\n",
       " {'id': 4,\n",
       "  'text': 'Pengeluar dan peruncit barangan kemas terkemuka, Kumpulan HABIB mengorak langkah membangunkan sebuah masjid yang bakal menjadi pusat ibadah dan komuniti di Bandar Tanjong Pinang, Tanjong Tokong, di sini.'}]"
      ]
     },
     "execution_count": 100,
     "metadata": {},
     "output_type": "execute_result"
    }
   ],
   "source": [
    "test[:5]"
   ]
  },
  {
   "cell_type": "markdown",
   "id": "2f9c3aaa-2334-4d3f-add6-ac935be00741",
   "metadata": {},
   "source": [
    "You see that `test.jsonl` has a similar format, except it has no `class` key."
   ]
  },
  {
   "cell_type": "markdown",
   "id": "2a1d47d7-0610-450e-ae23-21d779fefc10",
   "metadata": {},
   "source": [
    "## Your task"
   ]
  },
  {
   "cell_type": "markdown",
   "id": "aa3dfcf5-c465-4d60-ba74-c690b521f47e",
   "metadata": {},
   "source": [
    "Using the data in `train.jsonl`, use any classifier to generate class predictions of 0 and 1 for the text in `test.jsonl`. Write your output to this format below, and submit it to our competition server using the provided `post_answer` function.\n",
    "\n",
    "```python\n",
    "answer = [\n",
    "  {'id': 0, 'class': 0},\n",
    "  {'id': 1, 'class': 0},\n",
    "  {'id': 2, 'class': 0},\n",
    "  {'id': 3, 'class': 0},\n",
    "  {'id': 4, 'class': 0},\n",
    "  {'id': 5, 'class': 0},\n",
    "  ...\n",
    "]\n",
    "\n",
    "post_answer({\"solution\": answer})\n",
    "```\n",
    "\n",
    "Make sure your answer has similar format to this sample answer: \n",
    "\n",
    "```python\n",
    "# Note: this sample answer if submitted will return a score of 0 due to how F1 score works! Do you know why?\n",
    "sample_answer = [{\"id\": i, \"class\": 0} for i in range(len(test))]\n",
    "```\n",
    "\n",
    "Remember to only produce predictions that are either 0 or 1!\n",
    "\n",
    "This challenge will be graded primarily via API submission. Scoring as follows:\n",
    "\n",
    "- Up to 10 pts for model performance, F1 score X 10. F1 score will be calculated via the autograder. 10 submissions allowed. Last submission will be used for scoring.\n",
    "- Please submit your notebook as well! Random notebooks will be inspected to verify API submission results. In addition, partial credit may be granted for incomplete work at discretion"
   ]
  },
  {
   "cell_type": "markdown",
   "id": "c006cfae",
   "metadata": {},
   "source": [
    "\n",
    "\n",
    "```\n",
    "EXPLANATION:\n",
    "\n",
    "Firstly, I have to convert classes 1, 2, 3, 4, 5 in the train dataset into '1' (a binary label for all bahasa pasar)\n",
    "\n",
    "Then I used TF-IDF Vectoriser to evaluate the importance of a word in a sentence relative to a bunch of other sentences.\n",
    "\n",
    "I used Logistics Regression because its output is only either 0 or 1 so it can perform very well in linear tasks.\n",
    "```"
   ]
  },
  {
   "cell_type": "code",
   "execution_count": 101,
   "id": "94ff7981-0c29-49cb-a700-4e54e018515c",
   "metadata": {},
   "outputs": [
    {
     "name": "stdout",
     "output_type": "stream",
     "text": [
      "Cross-validated F1 scores: [np.float64(0.975), np.float64(0.9811), np.float64(0.975), np.float64(0.9811), np.float64(0.9816)]\n",
      "Mean F1: 0.9788 (±0.0031)\n",
      "\n",
      "Validation set performance:\n",
      "F1 Score: 0.9939\n",
      "Confusion Matrix:\n",
      "[[82  1]\n",
      " [ 0 81]]\n",
      "\n",
      "Classification Report:\n",
      "              precision    recall  f1-score   support\n",
      "\n",
      "           0     1.0000    0.9880    0.9939        83\n",
      "           1     0.9878    1.0000    0.9939        81\n",
      "\n",
      "    accuracy                         0.9939       164\n",
      "   macro avg     0.9939    0.9940    0.9939       164\n",
      "weighted avg     0.9940    0.9939    0.9939       164\n",
      "\n",
      "[{\"id\": 0, \"class\": 1}, {\"id\": 1, \"class\": 0}, {\"id\": 2, \"class\": 0}, {\"id\": 3, \"class\": 1}, {\"id\": 4, \"class\": 0}, {\"id\": 5, \"class\": 1}, {\"id\": 6, \"class\": 0}, {\"id\": 7, \"class\": 1}, {\"id\": 8, \"class\": 1}, {\"id\": 9, \"class\": 1}, {\"id\": 10, \"class\": 0}, {\"id\": 11, \"class\": 1}, {\"id\": 12, \"class\": 1}, {\"id\": 13, \"class\": 0}, {\"id\": 14, \"class\": 1}, {\"id\": 15, \"class\": 1}, {\"id\": 16, \"class\": 1}, {\"id\": 17, \"class\": 0}, {\"id\": 18, \"class\": 0}, {\"id\": 19, \"class\": 0}, {\"id\": 20, \"class\": 0}, {\"id\": 21, \"class\": 0}, {\"id\": 22, \"class\": 0}, {\"id\": 23, \"class\": 1}, {\"id\": 24, \"class\": 1}, {\"id\": 25, \"class\": 0}, {\"id\": 26, \"class\": 1}, {\"id\": 27, \"class\": 1}, {\"id\": 28, \"class\": 0}, {\"id\": 29, \"class\": 0}, {\"id\": 30, \"class\": 1}, {\"id\": 31, \"class\": 1}, {\"id\": 32, \"class\": 0}, {\"id\": 33, \"class\": 0}, {\"id\": 34, \"class\": 0}, {\"id\": 35, \"class\": 1}, {\"id\": 36, \"class\": 1}, {\"id\": 37, \"class\": 0}, {\"id\": 38, \"class\": 0}, {\"id\": 39, \"class\": 1}, {\"id\": 40, \"class\": 0}, {\"id\": 41, \"class\": 1}, {\"id\": 42, \"class\": 0}, {\"id\": 43, \"class\": 0}, {\"id\": 44, \"class\": 1}, {\"id\": 45, \"class\": 0}, {\"id\": 46, \"class\": 1}, {\"id\": 47, \"class\": 1}, {\"id\": 48, \"class\": 1}, {\"id\": 49, \"class\": 1}, {\"id\": 50, \"class\": 1}, {\"id\": 51, \"class\": 0}, {\"id\": 52, \"class\": 0}, {\"id\": 53, \"class\": 1}, {\"id\": 54, \"class\": 0}, {\"id\": 55, \"class\": 1}, {\"id\": 56, \"class\": 1}, {\"id\": 57, \"class\": 0}, {\"id\": 58, \"class\": 1}, {\"id\": 59, \"class\": 0}, {\"id\": 60, \"class\": 1}, {\"id\": 61, \"class\": 0}, {\"id\": 62, \"class\": 1}, {\"id\": 63, \"class\": 1}, {\"id\": 64, \"class\": 1}, {\"id\": 65, \"class\": 0}, {\"id\": 66, \"class\": 0}, {\"id\": 67, \"class\": 1}, {\"id\": 68, \"class\": 1}, {\"id\": 69, \"class\": 1}, {\"id\": 70, \"class\": 1}, {\"id\": 71, \"class\": 1}, {\"id\": 72, \"class\": 0}, {\"id\": 73, \"class\": 0}, {\"id\": 74, \"class\": 1}, {\"id\": 75, \"class\": 0}, {\"id\": 76, \"class\": 1}, {\"id\": 77, \"class\": 0}, {\"id\": 78, \"class\": 0}, {\"id\": 79, \"class\": 0}, {\"id\": 80, \"class\": 0}, {\"id\": 81, \"class\": 0}, {\"id\": 82, \"class\": 1}, {\"id\": 83, \"class\": 0}, {\"id\": 84, \"class\": 1}, {\"id\": 85, \"class\": 0}, {\"id\": 86, \"class\": 0}, {\"id\": 87, \"class\": 0}, {\"id\": 88, \"class\": 1}, {\"id\": 89, \"class\": 0}, {\"id\": 90, \"class\": 0}, {\"id\": 91, \"class\": 0}, {\"id\": 92, \"class\": 0}]\n"
     ]
    }
   ],
   "source": [
    "# Your work below\n",
    "import urllib.request\n",
    "import json\n",
    "from sklearn.feature_extraction.text import TfidfVectorizer\n",
    "from sklearn.linear_model import LogisticRegression\n",
    "from sklearn.pipeline import make_pipeline\n",
    "from sklearn.model_selection import cross_val_score, StratifiedKFold, train_test_split\n",
    "from sklearn.metrics import f1_score, confusion_matrix, classification_report\n",
    "\n",
    "urllib.request.urlretrieve(\n",
    "    \"https://storage.googleapis.com/aiolympiadmy/baku-or-pasar/train.jsonl\", \n",
    "    \"train.jsonl\"\n",
    ")\n",
    "urllib.request.urlretrieve(\n",
    "    \"https://storage.googleapis.com/aiolympiadmy/baku-or-pasar/test.jsonl\", \n",
    "    \"test.jsonl\"\n",
    ")\n",
    "\n",
    "with open(\"train.jsonl\", \"r\") as f:\n",
    "    train = [json.loads(line) for line in f]\n",
    "    X_train_full = [item[\"text\"] for item in train]\n",
    "    y_train_full = [0 if item[\"class\"] == 0 else 1 for item in train]\n",
    "\n",
    "with open(\"test.jsonl\", \"r\") as f:\n",
    "    test = [json.loads(line) for line in f]\n",
    "    X_test = [item[\"text\"] for item in test]\n",
    "    test_ids = [item[\"id\"] for item in test]\n",
    "\n",
    "model = make_pipeline(\n",
    "    TfidfVectorizer(),\n",
    "    LogisticRegression(max_iter=1000, random_state=42)\n",
    ")\n",
    "\n",
    "cv = StratifiedKFold(n_splits=5, shuffle=True, random_state=42)\n",
    "cv_scores = cross_val_score(model, X_train_full, y_train_full, cv=cv, scoring='f1')\n",
    "\n",
    "print(f\"Cross-validated F1 scores: {[round(s, 4) for s in cv_scores]}\")\n",
    "print(f\"Mean F1: {round(cv_scores.mean(), 4)} (±{round(cv_scores.std(), 4)})\")\n",
    "\n",
    "X_train, X_val, y_train, y_val = train_test_split(\n",
    "    X_train_full, y_train_full, \n",
    "    test_size=0.2, \n",
    "    stratify=y_train_full,\n",
    "    random_state=42\n",
    ")\n",
    "\n",
    "model.fit(X_train, y_train)\n",
    "val_preds = model.predict(X_val)\n",
    "\n",
    "print(\"\\nValidation set performance:\")\n",
    "print(f\"F1 Score: {round(f1_score(y_val, val_preds), 4)}\")\n",
    "print(\"Confusion Matrix:\")\n",
    "print(confusion_matrix(y_val, val_preds))\n",
    "print(\"\\nClassification Report:\")\n",
    "print(classification_report(y_val, val_preds, digits=4))\n",
    "\n",
    "# Retrain on full data\n",
    "model.fit(X_train_full, y_train_full)\n",
    "\n",
    "test_preds = model.predict(X_test)\n",
    "\n",
    "answer = [{\"id\": tid, \"class\": int(pred)} for tid, pred in zip(test_ids, test_preds)]\n",
    "\n",
    "print(json.dumps(answer))"
   ]
  },
  {
   "cell_type": "code",
   "execution_count": 102,
   "id": "1958cc42",
   "metadata": {},
   "outputs": [
    {
     "data": {
      "text/plain": [
       "{'status': 'SUCCESS',\n",
       " 'message': 'Answer for challenge maio_2025_baku_or_pasar submitted successfully on 2025-03-16 11:59:52.153550+00:00. Total submissions is 9 / 10.'}"
      ]
     },
     "execution_count": 102,
     "metadata": {},
     "output_type": "execute_result"
    }
   ],
   "source": [
    "post_answer({\"solution\": answer})"
   ]
  }
 ],
 "metadata": {
  "kernelspec": {
   "display_name": "Python 3",
   "language": "python",
   "name": "python3"
  },
  "language_info": {
   "codemirror_mode": {
    "name": "ipython",
    "version": 3
   },
   "file_extension": ".py",
   "mimetype": "text/x-python",
   "name": "python",
   "nbconvert_exporter": "python",
   "pygments_lexer": "ipython3",
   "version": "3.12.9"
  }
 },
 "nbformat": 4,
 "nbformat_minor": 5
}
