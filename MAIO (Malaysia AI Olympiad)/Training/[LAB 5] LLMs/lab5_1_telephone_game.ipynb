{
 "cells": [
  {
   "cell_type": "markdown",
   "id": "b2a12a2c-2c2c-4812-a51f-26a7c481718c",
   "metadata": {},
   "source": [
    "# Lab 5 Part 1 - Telephone game"
   ]
  },
  {
   "cell_type": "markdown",
   "id": "bb16ffa5-e35b-4254-bc36-1d40671c20b4",
   "metadata": {},
   "source": [
    "First, set up a Gemini API key from aistudio.google.com. You can freely access Gemini model APIs as long as your usage is low, and as long as you don't mind Google collecting your data for training. I believe that is acceptable for the purposes of this lab. In general however, please be wary about passing your own data to LLM providers.\n",
    "\n",
    "Next, paste the API key in a file called `googleapikey.txt` in the same folder as this notebook. It should look like this:\n",
    "\n",
    "```\n",
    "# googleapikey.txt\n",
    "your-api-key-here\n",
    "```"
   ]
  },
  {
   "cell_type": "markdown",
   "id": "3f4bd202-5002-4962-998e-45ffbbed0d5c",
   "metadata": {},
   "source": [
    "Make sure you have these packages installed:`langchain-google-genai`, `deepeval`"
   ]
  },
  {
   "cell_type": "markdown",
   "id": "ccd1fe5d-73b7-4d51-b3e9-7d17ee3e18f8",
   "metadata": {},
   "source": [
    "## Setup"
   ]
  },
  {
   "cell_type": "code",
   "execution_count": 20,
   "id": "473a921e-66f4-4844-9371-b1e57c434915",
   "metadata": {},
   "outputs": [],
   "source": [
    "from langchain_google_genai import ChatGoogleGenerativeAI\n",
    "from langchain_core.prompts import ChatPromptTemplate\n",
    "from langchain_core.output_parsers import StrOutputParser"
   ]
  },
  {
   "cell_type": "code",
   "execution_count": 21,
   "id": "17f0bb1a-51c0-45fc-a542-6c3c53700248",
   "metadata": {},
   "outputs": [],
   "source": [
    "with open(\"googleapikey.txt\", \"r\") as f:\n",
    "    GOOGLE_API_KEY = f.read()"
   ]
  },
  {
   "cell_type": "markdown",
   "id": "0ffbfb40-e287-4048-a2b7-f843c68850e1",
   "metadata": {},
   "source": [
    "## One-turn text translation"
   ]
  },
  {
   "cell_type": "markdown",
   "id": "0c9f58fa-a996-467d-9e6f-cad69e0b4333",
   "metadata": {},
   "source": [
    "Here is sample code to set up text translation using a Gemini model using tools from langchain:"
   ]
  },
  {
   "cell_type": "code",
   "execution_count": 22,
   "id": "323f3be0-c0c7-48e7-a5dc-5b0fd09e21be",
   "metadata": {},
   "outputs": [],
   "source": [
    "# Initialize a single model\n",
    "llm = ChatGoogleGenerativeAI(temperature=1.5, model=\"gemini-2.0-flash-lite\", api_key=GOOGLE_API_KEY)\n",
    "\n",
    "# Create a simple translation prompt\n",
    "prompt = ChatPromptTemplate.from_template(\n",
    "    \"Translate the following text to {target_language}. \"\n",
    "    \"Only return the translation, nothing else:\\n\\n{text}\"\n",
    ")\n",
    "\n",
    "# Create a simple chain\n",
    "chain = prompt | llm | StrOutputParser()"
   ]
  },
  {
   "cell_type": "code",
   "execution_count": 23,
   "id": "ca196b70-1534-49cb-bbef-738e3047359c",
   "metadata": {},
   "outputs": [],
   "source": [
    "# Test with one translation\n",
    "original_text = \"The quick brown fox jumps over the lazy dog.\"\n",
    "\n",
    "result = chain.invoke({\n",
    "    \"text\": original_text,\n",
    "    \"target_language\": \"Korean\"\n",
    "})"
   ]
  },
  {
   "cell_type": "code",
   "execution_count": 24,
   "id": "f73c9a1e-30e6-4fba-920d-456fa84af776",
   "metadata": {},
   "outputs": [
    {
     "data": {
      "text/plain": [
       "'The quick brown fox jumps over the lazy dog.'"
      ]
     },
     "execution_count": 24,
     "metadata": {},
     "output_type": "execute_result"
    }
   ],
   "source": [
    "original_text"
   ]
  },
  {
   "cell_type": "code",
   "execution_count": 25,
   "id": "94dca999-78e9-4e6f-8738-b93e561853d0",
   "metadata": {},
   "outputs": [
    {
     "data": {
      "text/plain": [
       "'빠른 갈색 여우가 게으른 개를 뛰어넘는다.'"
      ]
     },
     "execution_count": 25,
     "metadata": {},
     "output_type": "execute_result"
    }
   ],
   "source": [
    "result"
   ]
  },
  {
   "cell_type": "code",
   "execution_count": 26,
   "id": "2cd59e8f-8473-4f6e-bf0b-383c5d4a049b",
   "metadata": {},
   "outputs": [
    {
     "data": {
      "text/plain": [
       "'The quick brown fox jumps over the lazy dog.'"
      ]
     },
     "execution_count": 26,
     "metadata": {},
     "output_type": "execute_result"
    }
   ],
   "source": [
    "chain.invoke({\n",
    "    \"text\": result,\n",
    "    \"target_language\": \"English\"\n",
    "})"
   ]
  },
  {
   "cell_type": "markdown",
   "id": "cd8cf1b0-73d0-48d6-9661-05501d551af7",
   "metadata": {},
   "source": [
    "## Telephone game"
   ]
  },
  {
   "cell_type": "markdown",
   "id": "87ca22bf-9511-447c-ab10-c39fd2700a4d",
   "metadata": {},
   "source": [
    "The telephone game as per wikipedia:\n",
    "\n",
    "> Players form a line or circle, and the first player comes up with a message and whispers it to the ear of the second person in the line. The second player repeats the message to the third player, and so on. When the last player is reached, they announce the message they just heard, to the entire group. The first person then compares the original message with the final version. Although the objective is to pass around the message without it becoming garbled along the way, part of the enjoyment is that, regardless, this usually ends up happening. Errors typically accumulate in the retellings, so the statement announced by the last player differs significantly from that of the first player, usually with amusing or humorous effect. Reasons for changes include anxiousness or impatience, erroneous corrections, or the difficult-to-understand mechanism of whispering.\n",
    "\n",
    "Get LLMs to perform this translation chain, cycling through the official languages of the United Nations, but starting with and ending with English: Arabic -> French -> Russian -> Spanish\n",
    "\n",
    "Use this text chunk:\n",
    "\n",
    "```\n",
    "The Monarch butterfly is one of the most recognizable and iconic insects in North America, with its distinctive orange and black wings featuring striking white spots. Each year, these magnificent creatures migrate thousands of miles from Canada and the United States to their wintering grounds in Mexico, a journey that is both breathtaking and awe-inspiring.\n",
    "```\n",
    "\n",
    "When you are done, see how different the translation was: (1) by visual inspection, and (2) by using an automated evaluator using LLMs as below:"
   ]
  },
  {
   "cell_type": "code",
   "execution_count": 27,
   "id": "f6b1049e-abc7-466c-b125-b9d999a9a621",
   "metadata": {},
   "outputs": [],
   "source": [
    "from deepeval import evaluate\n",
    "from deepeval.metrics import AnswerRelevancyMetric\n",
    "from deepeval.test_case import LLMTestCase\n",
    "from deepeval.models import GeminiModel"
   ]
  },
  {
   "cell_type": "code",
   "execution_count": 28,
   "id": "a7ec5e8f-e0f7-4eb9-a0f4-ed18555ab4cd",
   "metadata": {},
   "outputs": [],
   "source": [
    "def evaluate_telephone_game(original_text: str, final_text: str):\n",
    "    model = GeminiModel(\n",
    "        model_name=\"gemini-2.0-flash-lite\",\n",
    "        api_key=GOOGLE_API_KEY,\n",
    "        temperature=0\n",
    "    )\n",
    "    # Create test case\n",
    "    test_case = LLMTestCase(\n",
    "        input=f\"Preserve the meaning of: {original_text}\",\n",
    "        actual_output=final_text,\n",
    "        expected_output=original_text\n",
    "    )\n",
    "\n",
    "    relevancy = AnswerRelevancyMetric(threshold=0.5, model=model, async_mode=False)\n",
    "    relevancy.measure(test_case)\n",
    "    \n",
    "    return relevancy.score"
   ]
  },
  {
   "cell_type": "markdown",
   "id": "814d9a52",
   "metadata": {},
   "source": [
    "# 1-step"
   ]
  },
  {
   "cell_type": "code",
   "execution_count": 29,
   "id": "28ac40a0",
   "metadata": {},
   "outputs": [
    {
     "data": {
      "text/plain": [
       "'فراشة الملك هي واحدة من الحشرات الأكثر شهرة وأيقونية في أمريكا الشمالية، بأجنحتها البرتقالية والسوداء المميزة التي تتميز ببقع بيضاء ملفتة. كل عام، تهاجر هذه المخلوقات الرائعة آلاف الأميال من كندا والولايات المتحدة إلى مناطق بياتها الشتوي في المكسيك، وهي رحلة مذهلة ومثيرة للإعجاب.'"
      ]
     },
     "execution_count": 29,
     "metadata": {},
     "output_type": "execute_result"
    }
   ],
   "source": [
    "monarchbutterfly = \"The Monarch butterfly is one of the most recognizable and iconic insects in North America, with its distinctive orange and black wings featuring striking white spots. Each year, these magnificent creatures migrate thousands of miles from Canada and the United States to their wintering grounds in Mexico, a journey that is both breathtaking and awe-inspiring.\"\n",
    "\n",
    "s1 = chain.invoke({\n",
    "    \"text\": monarchbutterfly,\n",
    "    \"target_language\": \"Arabic\"\n",
    "})\n",
    "\n",
    "s1"
   ]
  },
  {
   "cell_type": "code",
   "execution_count": 30,
   "id": "2888c722",
   "metadata": {},
   "outputs": [
    {
     "data": {
      "application/vnd.jupyter.widget-view+json": {
       "model_id": "25df7eeb3d1448e4b0d527d12d6eebef",
       "version_major": 2,
       "version_minor": 0
      },
      "text/plain": [
       "Output()"
      ]
     },
     "metadata": {},
     "output_type": "display_data"
    },
    {
     "data": {
      "text/html": [
       "<pre style=\"white-space:pre;overflow-x:auto;line-height:normal;font-family:Menlo,'DejaVu Sans Mono',consolas,'Courier New',monospace\"></pre>\n"
      ],
      "text/plain": []
     },
     "metadata": {},
     "output_type": "display_data"
    },
    {
     "data": {
      "text/plain": [
       "1.0"
      ]
     },
     "execution_count": 30,
     "metadata": {},
     "output_type": "execute_result"
    }
   ],
   "source": [
    "evaluate_telephone_game(monarchbutterfly, s1)"
   ]
  },
  {
   "cell_type": "markdown",
   "id": "66fed1d8",
   "metadata": {},
   "source": [
    "# 2-step"
   ]
  },
  {
   "cell_type": "code",
   "execution_count": 31,
   "id": "aba4d12d",
   "metadata": {},
   "outputs": [
    {
     "data": {
      "text/plain": [
       "\"Le monarque est l'un des insectes les plus célèbres et emblématiques d'Amérique du Nord, avec ses ailes orange et noires distinctives ornées de taches blanches frappantes. Chaque année, ces créatures magnifiques migrent sur des milliers de kilomètres du Canada et des États-Unis vers leurs sites d'hivernage au Mexique, un voyage extraordinaire et impressionnant.\""
      ]
     },
     "execution_count": 31,
     "metadata": {},
     "output_type": "execute_result"
    }
   ],
   "source": [
    "s2 = chain.invoke({\n",
    "    \"text\": s1,\n",
    "    \"target_language\": \"French\"\n",
    "})\n",
    "\n",
    "s2"
   ]
  },
  {
   "cell_type": "code",
   "execution_count": 32,
   "id": "a78f3cea",
   "metadata": {},
   "outputs": [
    {
     "data": {
      "application/vnd.jupyter.widget-view+json": {
       "model_id": "ba3a666e90ac49dfab12370bff2f12a5",
       "version_major": 2,
       "version_minor": 0
      },
      "text/plain": [
       "Output()"
      ]
     },
     "metadata": {},
     "output_type": "display_data"
    },
    {
     "data": {
      "text/html": [
       "<pre style=\"white-space:pre;overflow-x:auto;line-height:normal;font-family:Menlo,'DejaVu Sans Mono',consolas,'Courier New',monospace\"></pre>\n"
      ],
      "text/plain": []
     },
     "metadata": {},
     "output_type": "display_data"
    },
    {
     "data": {
      "text/plain": [
       "1.0"
      ]
     },
     "execution_count": 32,
     "metadata": {},
     "output_type": "execute_result"
    }
   ],
   "source": [
    "evaluate_telephone_game(monarchbutterfly, s2)"
   ]
  },
  {
   "cell_type": "markdown",
   "id": "b08836e9",
   "metadata": {},
   "source": [
    "# 3-step"
   ]
  },
  {
   "cell_type": "code",
   "execution_count": 33,
   "id": "dce7c6a3",
   "metadata": {},
   "outputs": [
    {
     "data": {
      "text/plain": [
       "'Монарх — одно из самых известных и знаковых насекомых Северной Америки, с его отличительными оранжевыми и черными крыльями, украшенными поразительными белыми пятнами. Каждый год эти великолепные существа мигрируют на тысячи километров из Канады и Соединенных Штатов в свои места зимовки в Мексике — экстраординарное и впечатляющее путешествие.'"
      ]
     },
     "execution_count": 33,
     "metadata": {},
     "output_type": "execute_result"
    }
   ],
   "source": [
    "s3 = chain.invoke({\n",
    "    \"text\": s2,\n",
    "    \"target_language\": \"Russian\"\n",
    "})\n",
    "\n",
    "s3"
   ]
  },
  {
   "cell_type": "code",
   "execution_count": 34,
   "id": "5b69fbea",
   "metadata": {},
   "outputs": [
    {
     "data": {
      "application/vnd.jupyter.widget-view+json": {
       "model_id": "a6a1b41c46d9477f8ede8df2135a0402",
       "version_major": 2,
       "version_minor": 0
      },
      "text/plain": [
       "Output()"
      ]
     },
     "metadata": {},
     "output_type": "display_data"
    },
    {
     "data": {
      "text/html": [
       "<pre style=\"white-space:pre;overflow-x:auto;line-height:normal;font-family:Menlo,'DejaVu Sans Mono',consolas,'Courier New',monospace\"></pre>\n"
      ],
      "text/plain": []
     },
     "metadata": {},
     "output_type": "display_data"
    },
    {
     "data": {
      "text/plain": [
       "1.0"
      ]
     },
     "execution_count": 34,
     "metadata": {},
     "output_type": "execute_result"
    }
   ],
   "source": [
    "evaluate_telephone_game(monarchbutterfly, s3)"
   ]
  },
  {
   "cell_type": "markdown",
   "id": "508dc9bd",
   "metadata": {},
   "source": [
    "# 4-step"
   ]
  },
  {
   "cell_type": "code",
   "execution_count": 35,
   "id": "055f0cb5",
   "metadata": {},
   "outputs": [
    {
     "data": {
      "text/plain": [
       "'La monarca es uno de los insectos más conocidos e icónicos de América del Norte, con sus distintivas alas naranjas y negras adornadas con llamativas manchas blancas. Cada año, estas magníficas criaturas migran miles de kilómetros desde Canadá y Estados Unidos hasta sus lugares de invernación en México, un viaje extraordinario e impresionante.'"
      ]
     },
     "execution_count": 35,
     "metadata": {},
     "output_type": "execute_result"
    }
   ],
   "source": [
    "s4 = chain.invoke({\n",
    "    \"text\": s3,\n",
    "    \"target_language\": \"Spanish\"\n",
    "})\n",
    "\n",
    "s4"
   ]
  },
  {
   "cell_type": "code",
   "execution_count": 36,
   "id": "1a490621",
   "metadata": {},
   "outputs": [
    {
     "data": {
      "application/vnd.jupyter.widget-view+json": {
       "model_id": "5f4324c040f54a1fa343a4369a77b3b9",
       "version_major": 2,
       "version_minor": 0
      },
      "text/plain": [
       "Output()"
      ]
     },
     "metadata": {},
     "output_type": "display_data"
    },
    {
     "data": {
      "text/html": [
       "<pre style=\"white-space:pre;overflow-x:auto;line-height:normal;font-family:Menlo,'DejaVu Sans Mono',consolas,'Courier New',monospace\"></pre>\n"
      ],
      "text/plain": []
     },
     "metadata": {},
     "output_type": "display_data"
    },
    {
     "data": {
      "text/plain": [
       "1.0"
      ]
     },
     "execution_count": 36,
     "metadata": {},
     "output_type": "execute_result"
    }
   ],
   "source": [
    "evaluate_telephone_game(monarchbutterfly, s4)"
   ]
  },
  {
   "cell_type": "markdown",
   "id": "e7bf9460",
   "metadata": {},
   "source": [
    "# back to English"
   ]
  },
  {
   "cell_type": "code",
   "execution_count": 37,
   "id": "d84d4efb",
   "metadata": {},
   "outputs": [
    {
     "data": {
      "text/plain": [
       "'The monarch is one of the most well-known and iconic insects of North America, with its distinctive orange and black wings adorned with striking white spots. Each year, these magnificent creatures migrate thousands of kilometers from Canada and the United States to their overwintering sites in Mexico, an extraordinary and impressive journey.'"
      ]
     },
     "execution_count": 37,
     "metadata": {},
     "output_type": "execute_result"
    }
   ],
   "source": [
    "s5 = chain.invoke({\n",
    "    \"text\": s4,\n",
    "    \"target_language\": \"English\"\n",
    "})\n",
    "\n",
    "s5"
   ]
  },
  {
   "cell_type": "code",
   "execution_count": 38,
   "id": "6682c7bc-af96-4f4a-b1b1-7b38fa6e8327",
   "metadata": {},
   "outputs": [
    {
     "data": {
      "application/vnd.jupyter.widget-view+json": {
       "model_id": "3cf6dd6aed454c0b852b9e73f55b701b",
       "version_major": 2,
       "version_minor": 0
      },
      "text/plain": [
       "Output()"
      ]
     },
     "metadata": {},
     "output_type": "display_data"
    },
    {
     "data": {
      "text/html": [
       "<pre style=\"white-space:pre;overflow-x:auto;line-height:normal;font-family:Menlo,'DejaVu Sans Mono',consolas,'Courier New',monospace\"></pre>\n"
      ],
      "text/plain": []
     },
     "metadata": {},
     "output_type": "display_data"
    },
    {
     "data": {
      "text/plain": [
       "1.0"
      ]
     },
     "execution_count": 38,
     "metadata": {},
     "output_type": "execute_result"
    }
   ],
   "source": [
    "evaluate_telephone_game(monarchbutterfly, s5)"
   ]
  },
  {
   "cell_type": "markdown",
   "id": "0a6cbc07-30f8-46b0-aa74-7c318dd02768",
   "metadata": {},
   "source": [
    "## EX: How good is the translation quality at each step?"
   ]
  },
  {
   "cell_type": "markdown",
   "id": "93c721ae-896b-485d-a616-f56ae950e92d",
   "metadata": {},
   "source": [
    "To be more clear, first step translation means English -> Arabic -> English. 2nd step translation means English -> Arabic -> French -> English."
   ]
  },
  {
   "cell_type": "markdown",
   "id": "4bda1bd1-b538-4571-a0a6-ddd5ced110fb",
   "metadata": {},
   "source": [
    "Perfect."
   ]
  }
 ],
 "metadata": {
  "kernelspec": {
   "display_name": "maio",
   "language": "python",
   "name": "python3"
  },
  "language_info": {
   "codemirror_mode": {
    "name": "ipython",
    "version": 3
   },
   "file_extension": ".py",
   "mimetype": "text/x-python",
   "name": "python",
   "nbconvert_exporter": "python",
   "pygments_lexer": "ipython3",
   "version": "3.13.2"
  }
 },
 "nbformat": 4,
 "nbformat_minor": 5
}
