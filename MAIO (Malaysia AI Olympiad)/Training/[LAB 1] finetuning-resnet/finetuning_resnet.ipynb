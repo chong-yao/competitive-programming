{
 "cells": [
  {
   "cell_type": "markdown",
   "metadata": {
    "id": "VXl00aZubLMf"
   },
   "source": [
    "# Finetune a ResNet image classifier"
   ]
  },
  {
   "cell_type": "markdown",
   "metadata": {
    "id": "Gn22JMoGayOk"
   },
   "source": [
    "## Load data"
   ]
  },
  {
   "cell_type": "markdown",
   "metadata": {},
   "source": [
    "!curl -L https://storage.googleapis.com/aiolympiadmy/ioai-2025-tsp/finetuning-resnet.zip -o data.zip"
   ]
  },
  {
   "cell_type": "markdown",
   "metadata": {},
   "source": [
    "!unzip data.zip"
   ]
  },
  {
   "cell_type": "markdown",
   "metadata": {
    "id": "Jjsph6Tra4AI"
   },
   "source": [
    "## Establishing a baseline"
   ]
  },
  {
   "cell_type": "markdown",
   "metadata": {
    "id": "WeAerazMbayy"
   },
   "source": [
    "Load an ImageNet pre-trained ResNet34, and check it's performance on the images in `data/test`.  \n",
    "\n",
    "Use accuracy, precision and recall as your metrics for performance."
   ]
  },
  {
   "cell_type": "code",
   "execution_count": 15,
   "metadata": {
    "id": "TWUoB_arbtLd"
   },
   "outputs": [
    {
     "name": "stdout",
     "output_type": "stream",
     "text": [
      "Baseline Accuracy: 0.5000\n"
     ]
    }
   ],
   "source": [
    "import torch\n",
    "from torchvision import datasets, transforms, models\n",
    "import os\n",
    "\n",
    "# --- Baseline Evaluation ---\n",
    "device = torch.device(\"cpu\")\n",
    "\n",
    "# Define transforms\n",
    "data_transforms = transforms.Compose([\n",
    "    transforms.Resize((224, 224)),\n",
    "    transforms.ToTensor(),\n",
    "    transforms.Normalize([0.485, 0.456, 0.406], [0.229, 0.224, 0.225])\n",
    "])\n",
    "\n",
    "# Load test dataset\n",
    "test_dataset = datasets.ImageFolder(\n",
    "    os.path.join(r\"C:\\Users\\ochon\\OneDrive\\Documents\\2025\\MAIO (Malaysia AI Olympiad)\\Training\\finetuning-resnet\", \"test\"),\n",
    "    transform=data_transforms\n",
    ")\n",
    "test_loader = torch.utils.data.DataLoader(test_dataset, batch_size=32, shuffle=False)\n",
    "\n",
    "# Load pretrained model\n",
    "model = models.resnet34(pretrained=True)\n",
    "model = model.to(device)\n",
    "model.eval()\n",
    "\n",
    "# Get ImageNet class names\n",
    "imagenet_classes = test_dataset.classes  # This is WRONG - we need actual ImageNet labels\n",
    "\n",
    "# FIX: Manually load ImageNet class labels\n",
    "with open(\"imagenet_classes.txt\", \"r\") as f:\n",
    "    imagenet_classes = [line.strip() for line in f.readlines()]\n",
    "\n",
    "correct = 0\n",
    "total = 0\n",
    "\n",
    "with torch.no_grad():\n",
    "    for images, labels in test_loader:\n",
    "        images = images.to(device)\n",
    "        outputs = model(images)\n",
    "        _, predicted = torch.max(outputs, 1)\n",
    "        \n",
    "        # Map batch predictions to ImageNet class names\n",
    "        predicted_classes = [imagenet_classes[p] for p in predicted.cpu().numpy()]\n",
    "        \n",
    "        # Map true labels to folder names\n",
    "        true_classes = [test_dataset.classes[l] for l in labels.numpy()]\n",
    "        \n",
    "        # Compare if any word in predicted class matches folder name\n",
    "        for pred, true in zip(predicted_classes, true_classes):\n",
    "            if true.lower() in pred.lower():\n",
    "                correct += 1\n",
    "            total += 1\n",
    "\n",
    "print(f\"Baseline Accuracy: {correct/total:.4f}\")"
   ]
  },
  {
   "cell_type": "markdown",
   "metadata": {
    "id": "adTKj90CbweH"
   },
   "source": [
    "## Finetuning"
   ]
  },
  {
   "cell_type": "markdown",
   "metadata": {
    "id": "adoCB3lAbzg5"
   },
   "source": [
    "Finetune this ResNet using data in `data/train`. Use `data/test` as your testing set, and use cross entropy loss. The rest is up to you. Run finetuning that terminates within approx 10 mins. Store the following info every 10 minibatches: loss, precision, recall and accuracy on train and test datasets."
   ]
  },
  {
   "cell_type": "code",
   "execution_count": 16,
   "metadata": {},
   "outputs": [
    {
     "name": "stdout",
     "output_type": "stream",
     "text": [
      "Epoch 1/5\n",
      "----------\n",
      "Batch 10 | Loss: 0.3534 | Train Acc: 0.9688 | Test Acc: 1.0000\n",
      "Batch 20 | Loss: 0.1807 | Train Acc: 1.0000 | Test Acc: 1.0000\n",
      "Batch 30 | Loss: 0.0661 | Train Acc: 1.0000 | Test Acc: 1.0000\n",
      "Epoch 2/5\n",
      "----------\n",
      "Batch 10 | Loss: 0.0503 | Train Acc: 1.0000 | Test Acc: 1.0000\n",
      "Batch 20 | Loss: 0.0278 | Train Acc: 1.0000 | Test Acc: 1.0000\n",
      "Batch 30 | Loss: 0.0831 | Train Acc: 1.0000 | Test Acc: 1.0000\n",
      "Epoch 3/5\n",
      "----------\n",
      "Batch 10 | Loss: 0.0254 | Train Acc: 1.0000 | Test Acc: 1.0000\n",
      "Batch 20 | Loss: 0.0305 | Train Acc: 1.0000 | Test Acc: 1.0000\n",
      "Batch 30 | Loss: 0.0438 | Train Acc: 1.0000 | Test Acc: 1.0000\n",
      "Epoch 4/5\n",
      "----------\n",
      "Batch 10 | Loss: 0.0387 | Train Acc: 1.0000 | Test Acc: 1.0000\n",
      "Batch 20 | Loss: 0.0155 | Train Acc: 1.0000 | Test Acc: 1.0000\n",
      "Batch 30 | Loss: 0.0236 | Train Acc: 1.0000 | Test Acc: 1.0000\n",
      "Epoch 5/5\n",
      "----------\n",
      "Batch 10 | Loss: 0.0084 | Train Acc: 1.0000 | Test Acc: 1.0000\n",
      "Batch 20 | Loss: 0.0507 | Train Acc: 0.9688 | Test Acc: 1.0000\n",
      "Batch 30 | Loss: 0.0184 | Train Acc: 1.0000 | Test Acc: 1.0000\n"
     ]
    }
   ],
   "source": [
    "# Define full transforms\n",
    "data_transforms = {\n",
    "    'train': transforms.Compose([\n",
    "        transforms.Resize((224, 224)),\n",
    "        transforms.RandomHorizontalFlip(),\n",
    "        transforms.ToTensor(),\n",
    "        transforms.Normalize([0.485, 0.456, 0.406], [0.229, 0.224, 0.225])\n",
    "    ]),\n",
    "    'test': transforms.Compose([\n",
    "        transforms.Resize((224, 224)),\n",
    "        transforms.ToTensor(),\n",
    "        transforms.Normalize([0.485, 0.456, 0.406], [0.229, 0.224, 0.225])\n",
    "    ]),\n",
    "}\n",
    "\n",
    "# Reload datasets with train data\n",
    "image_datasets = {\n",
    "    x: datasets.ImageFolder(os.path.join(data_dir, x), data_transforms[x])\n",
    "    for x in ['train', 'test']\n",
    "}\n",
    "dataloaders = {\n",
    "    x: torch.utils.data.DataLoader(image_datasets[x], batch_size=32, shuffle=(x=='train'), num_workers=4)\n",
    "    for x in ['train', 'test']\n",
    "}\n",
    "\n",
    "# Modify model for 2-class classification\n",
    "model = models.resnet34(pretrained=True)\n",
    "for param in model.parameters():\n",
    "    param.requires_grad = False\n",
    "num_ftrs = model.fc.in_features\n",
    "model.fc = torch.nn.Linear(num_ftrs, 2)\n",
    "model = model.to(device)\n",
    "\n",
    "# Training setup\n",
    "criterion = nn.CrossEntropyLoss()\n",
    "optimizer = torch.optim.Adam(model.fc.parameters(), lr=0.001)\n",
    "\n",
    "# Training loop\n",
    "num_epochs = 5\n",
    "for epoch in range(num_epochs):\n",
    "    print(f\"Epoch {epoch+1}/{num_epochs}\")\n",
    "    print(\"-\" * 10)\n",
    "    \n",
    "    # Training phase\n",
    "    model.train()\n",
    "    for batch_idx, (inputs, labels) in enumerate(dataloaders['train']):\n",
    "        inputs, labels = inputs.to(device), labels.to(device)\n",
    "        \n",
    "        optimizer.zero_grad()\n",
    "        outputs = model(inputs)\n",
    "        loss = criterion(outputs, labels)\n",
    "        loss.backward()\n",
    "        optimizer.step()\n",
    "        \n",
    "        # Log metrics every 10 batches\n",
    "        if (batch_idx + 1) % 10 == 0:\n",
    "            with torch.no_grad():\n",
    "                _, preds = torch.max(outputs, 1)\n",
    "                acc = (preds == labels).float().mean()\n",
    "                \n",
    "                # Test evaluation\n",
    "                model.eval()\n",
    "                test_acc, test_precision, test_recall = 0.0, 0.0, 0.0\n",
    "                for test_inputs, test_labels in dataloaders['test']:\n",
    "                    test_outputs = model(test_inputs.to(device))\n",
    "                    _, test_preds = torch.max(test_outputs, 1)\n",
    "                    test_acc += (test_preds == test_labels.to(device)).float().mean()\n",
    "                \n",
    "                test_acc /= len(dataloaders['test'])\n",
    "                print(f\"Batch {batch_idx+1} | Loss: {loss.item():.4f} | Train Acc: {acc:.4f} | Test Acc: {test_acc:.4f}\")\n",
    "                model.train()\n",
    "\n",
    "# Save model\n",
    "torch.save(model.state_dict(), \"finetuned_resnet.pth\")"
   ]
  },
  {
   "cell_type": "markdown",
   "metadata": {
    "id": "NxCxD2J9cWjh"
   },
   "source": [
    "## Writeup"
   ]
  },
  {
   "cell_type": "markdown",
   "metadata": {
    "id": "y5GcGPjQcXhI"
   },
   "source": [
    "Summarize what you did above, as well as detail the choices you made and why. What was the outcome?"
   ]
  },
  {
   "cell_type": "markdown",
   "metadata": {
    "id": "c1AuOqwjcnDZ"
   },
   "source": [
    "## Further analysis"
   ]
  },
  {
   "cell_type": "markdown",
   "metadata": {
    "id": "x5lEJmoRcpIr"
   },
   "source": [
    "Pick one aspect about the work done above thus far that you find interesting, investigate it a bit further, and give a short paragraph writeup of what you investigated and how it went."
   ]
  }
 ],
 "metadata": {
  "colab": {
   "collapsed_sections": [
    "Gn22JMoGayOk"
   ],
   "provenance": []
  },
  "kernelspec": {
   "display_name": "Python 3",
   "language": "python",
   "name": "python3"
  },
  "language_info": {
   "codemirror_mode": {
    "name": "ipython",
    "version": 3
   },
   "file_extension": ".py",
   "mimetype": "text/x-python",
   "name": "python",
   "nbconvert_exporter": "python",
   "pygments_lexer": "ipython3",
   "version": "3.12.9"
  }
 },
 "nbformat": 4,
 "nbformat_minor": 4
}
