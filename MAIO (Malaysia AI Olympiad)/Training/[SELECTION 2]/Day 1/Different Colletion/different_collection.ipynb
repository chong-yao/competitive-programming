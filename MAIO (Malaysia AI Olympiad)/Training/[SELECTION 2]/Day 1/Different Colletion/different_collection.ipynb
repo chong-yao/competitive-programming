{
 "cells": [
  {
   "cell_type": "markdown",
   "id": "d1ac0845-e1ac-4007-bc0f-c2005ca4a7ba",
   "metadata": {},
   "source": [
    "# Different collection"
   ]
  },
  {
   "cell_type": "markdown",
   "id": "6242b7ec-88b3-40b8-a8a8-31f1b9aeeb7d",
   "metadata": {},
   "source": [
    "## Load and download data"
   ]
  },
  {
   "cell_type": "markdown",
   "id": "67331c72-3621-4587-a140-e52bb5a274a2",
   "metadata": {},
   "source": [
    "!curl https://storage.googleapis.com/aiolympiadmy/ioai-2025-tsp/ioai2025_tsp_selection2/different_collection/first_four.zip -o first_four.zip"
   ]
  },
  {
   "cell_type": "markdown",
   "id": "9fe43667-3140-4ee7-a707-3b17f99eb08a",
   "metadata": {},
   "source": [
    "!curl https://storage.googleapis.com/aiolympiadmy/ioai-2025-tsp/ioai2025_tsp_selection2/different_collection/remainder.zip -o remainder.zip"
   ]
  },
  {
   "cell_type": "markdown",
   "id": "afcabde4-ed3d-47b5-9f1e-31e71bfa44e4",
   "metadata": {},
   "source": [
    "!unzip -q first_four.zip"
   ]
  },
  {
   "cell_type": "markdown",
   "id": "cf0d10e2-bedc-4a4c-bff8-930e81d386bf",
   "metadata": {},
   "source": [
    "!unzip -q remainder.zip"
   ]
  },
  {
   "cell_type": "markdown",
   "id": "b2969910-096c-4fe1-96eb-5256f1e89221",
   "metadata": {},
   "source": [
    "## Problem statement"
   ]
  },
  {
   "cell_type": "markdown",
   "id": "2b462067-d856-41ab-a0cb-3044c09db681",
   "metadata": {},
   "source": [
    "The test dataset used in Lab 2 came from three different data collection sessions, as indicated by their filenames. How well can we determine which data collection session the images came from, if we only consider the first four images from each session?\n",
    "\n",
    "Dataloading code has been prepared in advance below to save you time."
   ]
  },
  {
   "cell_type": "markdown",
   "id": "7dfbd718-149e-4184-b86c-f35b5db3d9d8",
   "metadata": {},
   "source": [
    "```python\n",
    "import torch\n",
    "import torch.nn as nn\n",
    "import torch.nn.functional as F\n",
    "\n",
    "import torchvision\n",
    "from pathlib import Path\n",
    "\n",
    "class ClassCustomDataset(torch.utils.data.Dataset):\n",
    "    def __init__(self, loaddir):\n",
    "        self.loaddir = Path(loaddir)\n",
    "        self.X = sorted(self.loaddir.glob(\"*.png\"))\n",
    "\n",
    "        class_conversion = {\"A\": 0, \"B\": 1, \"C\": 2, \"D\": 3}\n",
    "        self.y = [class_conversion.get(i.name[5]) for i in self.X]\n",
    "        self.transforms = torchvision.transforms.Compose(\n",
    "            [\n",
    "                torchvision.transforms.ConvertImageDtype(torch.float32),\n",
    "                torchvision.transforms.Resize(size=(256, 256)),\n",
    "                torchvision.transforms.Normalize(\n",
    "                    mean=[0.485, 0.456, 0.406], std=[0.229, 0.224, 0.225]\n",
    "                ),\n",
    "            ]\n",
    "        )\n",
    "\n",
    "    def __getitem__(self, idx):\n",
    "        X = torchvision.io.decode_image(self.X[idx], mode=\"RGB\")\n",
    "        X = self.transforms(X)\n",
    "        return X, self.y[idx]\n",
    "\n",
    "    def __len__(self):\n",
    "        return len(self.X)\n",
    "\n",
    "train_dataset = ClassCustomDataset(\"first_four\")\n",
    "test_dataset = ClassCustomDataset(\"remainder\")\n",
    "```"
   ]
  },
  {
   "cell_type": "markdown",
   "id": "66acf66b-045b-48e1-a823-160673976b3e",
   "metadata": {},
   "source": [
    "You are prohibited to use labels from the `remainder/` folder for any form of model training. You can only use labels from `remainder/` for visualization purposes and also to calculate classification performance."
   ]
  },
  {
   "cell_type": "markdown",
   "id": "5f7dc993-bc34-4faa-ac3d-e2f86418b6b5",
   "metadata": {},
   "source": [
    "Here is how your work will be scored:\n",
    "\n",
    "- Your work will be scored by taking your F1 score minus 0.6, then multipled by ten. If your F1 score is less than 0.6, then no points will be granted. Examples below:\n",
    "    - 0.50 F1 score = 0 pts\n",
    "    - 0.60 F1 score = 0 pts\n",
    "    - 0.67 F1 score = 0.7 pts\n",
    "    - 0.72 F1 score = 1.2 pts\n",
    "    - 0.85 F1 score = 2.5 pts\n",
    "    - 0.95 F1 score = 3.5 pts\n",
    "    - 1.0 F1 score = 4.0 pts\n",
    "- Scoring will be through notebook submission only to keep things simple, no API submission involved. Thus, please clearly print out your score in your notebook!\n",
    "- Make sure that your notebook can reproduce your results. Small variations due to stochasticity are acceptable. If your notebook has a missing chunk of code in the middle and suddenly ends with perfect 1.0 F1 score, I cannot grant you the full 4 points as I cannot reproduce your results!\n",
    "- F1 score calculation will need to be accurate! If your F1 score calculation is strange and I arrive at a significantly different F1 score during grading, I will use the number I calculated instead of the reported number."
   ]
  },
  {
   "cell_type": "markdown",
   "id": "3ee4a217-a181-4987-9f8a-a8eaac70e640",
   "metadata": {},
   "source": [
    "## Your work below"
   ]
  },
  {
   "cell_type": "code",
   "execution_count": 1,
   "id": "552574bc-b4eb-4ca8-8d15-303301349a3a",
   "metadata": {},
   "outputs": [
    {
     "name": "stdout",
     "output_type": "stream",
     "text": [
      "Downloading https://github.com/ultralytics/assets/releases/download/v8.3.0/yolo11n-cls.pt to 'yolo11n-cls.pt'...\n"
     ]
    },
    {
     "name": "stderr",
     "output_type": "stream",
     "text": [
      "100%|██████████| 5.52M/5.52M [00:00<00:00, 58.7MB/s]\n"
     ]
    },
    {
     "name": "stdout",
     "output_type": "stream",
     "text": [
      "Ultralytics 8.3.152  Python-3.13.2 torch-2.7.0+cu128 CUDA:0 (NVIDIA GeForce RTX 4060 Laptop GPU, 8188MiB)\n",
      "\u001b[34m\u001b[1mengine\\trainer: \u001b[0magnostic_nms=False, amp=True, augment=False, auto_augment=randaugment, batch=16, bgr=0.0, box=7.5, cache=False, cfg=None, classes=None, close_mosaic=10, cls=0.5, conf=None, copy_paste=0.0, copy_paste_mode=flip, cos_lr=False, cutmix=0.0, data=first_four_yolo, degrees=0.0, deterministic=True, device=None, dfl=1.5, dnn=False, dropout=0.0, dynamic=False, embed=None, epochs=100, erasing=0.4, exist_ok=False, fliplr=0.5, flipud=0.0, format=torchscript, fraction=1.0, freeze=None, half=False, hsv_h=0.015, hsv_s=0.7, hsv_v=0.4, imgsz=640, int8=False, iou=0.7, keras=False, kobj=1.0, line_width=None, lr0=0.01, lrf=0.01, mask_ratio=4, max_det=300, mixup=0.0, mode=train, model=yolo11n-cls.pt, momentum=0.937, mosaic=1.0, multi_scale=False, name=train2, nbs=64, nms=False, opset=None, optimize=False, optimizer=auto, overlap_mask=True, patience=100, perspective=0.0, plots=True, pose=12.0, pretrained=True, profile=False, project=None, rect=False, resume=False, retina_masks=False, save=True, save_conf=False, save_crop=False, save_dir=runs\\classify\\train2, save_frames=False, save_json=False, save_period=-1, save_txt=False, scale=0.5, seed=0, shear=0.0, show=False, show_boxes=True, show_conf=True, show_labels=True, simplify=True, single_cls=False, source=None, split=val, stream_buffer=False, task=classify, time=None, tracker=botsort.yaml, translate=0.1, val=True, verbose=True, vid_stride=1, visualize=False, warmup_bias_lr=0.1, warmup_epochs=3.0, warmup_momentum=0.8, weight_decay=0.0005, workers=8, workspace=None\n",
      "WARNING Dataset 'split=train' not found at C:\\Users\\ochon\\OneDrive\\Documents\\2025\\MAIO (Malaysia AI Olympiad)\\Training\\[SELECTION 2]\\first_four_yolo\\train\n",
      "Found 12 images in subdirectories. Attempting to split...\n",
      "Splitting C:\\Users\\ochon\\OneDrive\\Documents\\2025\\MAIO (Malaysia AI Olympiad)\\Training\\[SELECTION 2]\\first_four_yolo (3 classes, 12 images) into 80% train, 20% val...\n",
      "Split complete in C:\\Users\\ochon\\OneDrive\\Documents\\2025\\MAIO (Malaysia AI Olympiad)\\Training\\[SELECTION 2]\\first_four_yolo_split \n",
      "\u001b[34m\u001b[1mtrain:\u001b[0m C:\\Users\\ochon\\OneDrive\\Documents\\2025\\MAIO (Malaysia AI Olympiad)\\Training\\[SELECTION 2]\\first_four_yolo_split\\train... found 12 images in 3 classes  \n",
      "\u001b[34m\u001b[1mval:\u001b[0m C:\\Users\\ochon\\OneDrive\\Documents\\2025\\MAIO (Malaysia AI Olympiad)\\Training\\[SELECTION 2]\\first_four_yolo_split\\val... found 7 images in 3 classes  \n",
      "\u001b[34m\u001b[1mtest:\u001b[0m None...\n",
      "Overriding model.yaml nc=80 with nc=3\n",
      "\n",
      "                   from  n    params  module                                       arguments                     \n",
      "  0                  -1  1       464  ultralytics.nn.modules.conv.Conv             [3, 16, 3, 2]                 \n",
      "  1                  -1  1      4672  ultralytics.nn.modules.conv.Conv             [16, 32, 3, 2]                \n",
      "  2                  -1  1      6640  ultralytics.nn.modules.block.C3k2            [32, 64, 1, False, 0.25]      \n",
      "  3                  -1  1     36992  ultralytics.nn.modules.conv.Conv             [64, 64, 3, 2]                \n",
      "  4                  -1  1     26080  ultralytics.nn.modules.block.C3k2            [64, 128, 1, False, 0.25]     \n",
      "  5                  -1  1    147712  ultralytics.nn.modules.conv.Conv             [128, 128, 3, 2]              \n",
      "  6                  -1  1     87040  ultralytics.nn.modules.block.C3k2            [128, 128, 1, True]           \n",
      "  7                  -1  1    295424  ultralytics.nn.modules.conv.Conv             [128, 256, 3, 2]              \n",
      "  8                  -1  1    346112  ultralytics.nn.modules.block.C3k2            [256, 256, 1, True]           \n",
      "  9                  -1  1    249728  ultralytics.nn.modules.block.C2PSA           [256, 256, 1]                 \n",
      " 10                  -1  1    334083  ultralytics.nn.modules.head.Classify         [256, 3]                      \n",
      "YOLO11n-cls summary: 86 layers, 1,534,947 parameters, 1,534,947 gradients, 3.3 GFLOPs\n",
      "Transferred 234/236 items from pretrained weights\n",
      "\u001b[34m\u001b[1mAMP: \u001b[0mrunning Automatic Mixed Precision (AMP) checks...\n",
      "Downloading https://github.com/ultralytics/assets/releases/download/v8.3.0/yolo11n.pt to 'yolo11n.pt'...\n"
     ]
    },
    {
     "name": "stderr",
     "output_type": "stream",
     "text": [
      "100%|██████████| 5.35M/5.35M [00:00<00:00, 41.7MB/s]\n"
     ]
    },
    {
     "name": "stdout",
     "output_type": "stream",
     "text": [
      "\u001b[34m\u001b[1mAMP: \u001b[0mchecks passed \n",
      "\u001b[34m\u001b[1mtrain: \u001b[0mFast image access  (ping: 0.00.0 ms, read: 64.512.3 MB/s, size: 569.4 KB)\n"
     ]
    },
    {
     "name": "stderr",
     "output_type": "stream",
     "text": [
      "\u001b[34m\u001b[1mtrain: \u001b[0mScanning C:\\Users\\ochon\\OneDrive\\Documents\\2025\\MAIO (Malaysia AI Olympiad)\\Training\\[SELECTION 2]\\first_four_yolo_split\\train... 12 images, 0 corrupt: 100%|██████████| 12/12 [00:00<?, ?it/s]\n"
     ]
    },
    {
     "name": "stdout",
     "output_type": "stream",
     "text": [
      "\u001b[34m\u001b[1mval: \u001b[0mFast image access  (ping: 0.20.2 ms, read: 211.5160.1 MB/s, size: 586.4 KB)\n"
     ]
    },
    {
     "name": "stderr",
     "output_type": "stream",
     "text": [
      "\u001b[34m\u001b[1mval: \u001b[0mScanning C:\\Users\\ochon\\OneDrive\\Documents\\2025\\MAIO (Malaysia AI Olympiad)\\Training\\[SELECTION 2]\\first_four_yolo_split\\val... 7 images, 0 corrupt: 100%|██████████| 7/7 [00:00<?, ?it/s]\n"
     ]
    },
    {
     "name": "stdout",
     "output_type": "stream",
     "text": [
      "\u001b[34m\u001b[1moptimizer:\u001b[0m 'optimizer=auto' found, ignoring 'lr0=0.01' and 'momentum=0.937' and determining best 'optimizer', 'lr0' and 'momentum' automatically... \n",
      "\u001b[34m\u001b[1moptimizer:\u001b[0m AdamW(lr=0.001429, momentum=0.9) with parameter groups 39 weight(decay=0.0), 40 weight(decay=0.0005), 40 bias(decay=0.0)\n",
      "Image sizes 640 train, 640 val\n",
      "Using 8 dataloader workers\n",
      "Logging results to \u001b[1mruns\\classify\\train2\u001b[0m\n",
      "Starting training for 100 epochs...\n",
      "\n",
      "      Epoch    GPU_mem       loss  Instances       Size\n"
     ]
    },
    {
     "name": "stderr",
     "output_type": "stream",
     "text": [
      "      1/100      1.22G       1.27         12        640: 100%|██████████| 1/1 [00:13<00:00, 13.54s/it]\n",
      "               classes   top1_acc   top5_acc: 100%|██████████| 1/1 [00:00<00:00,  3.13it/s]"
     ]
    },
    {
     "name": "stdout",
     "output_type": "stream",
     "text": [
      "                   all      0.571          1\n"
     ]
    },
    {
     "name": "stderr",
     "output_type": "stream",
     "text": [
      "\n"
     ]
    },
    {
     "name": "stdout",
     "output_type": "stream",
     "text": [
      "\n",
      "      Epoch    GPU_mem       loss  Instances       Size\n"
     ]
    },
    {
     "name": "stderr",
     "output_type": "stream",
     "text": [
      "      2/100      1.23G      1.346         12        640: 100%|██████████| 1/1 [00:00<00:00,  5.88it/s]\n",
      "               classes   top1_acc   top5_acc: 100%|██████████| 1/1 [00:00<00:00, 28.39it/s]"
     ]
    },
    {
     "name": "stdout",
     "output_type": "stream",
     "text": [
      "                   all      0.571          1\n"
     ]
    },
    {
     "name": "stderr",
     "output_type": "stream",
     "text": [
      "\n"
     ]
    },
    {
     "name": "stdout",
     "output_type": "stream",
     "text": [
      "\n",
      "      Epoch    GPU_mem       loss  Instances       Size\n"
     ]
    },
    {
     "name": "stderr",
     "output_type": "stream",
     "text": [
      "      3/100      1.24G      1.234         12        640: 100%|██████████| 1/1 [00:00<00:00,  7.83it/s]\n",
      "               classes   top1_acc   top5_acc: 100%|██████████| 1/1 [00:00<00:00, 40.67it/s]"
     ]
    },
    {
     "name": "stdout",
     "output_type": "stream",
     "text": [
      "                   all      0.571          1\n"
     ]
    },
    {
     "name": "stderr",
     "output_type": "stream",
     "text": [
      "\n"
     ]
    },
    {
     "name": "stdout",
     "output_type": "stream",
     "text": [
      "\n",
      "      Epoch    GPU_mem       loss  Instances       Size\n"
     ]
    },
    {
     "name": "stderr",
     "output_type": "stream",
     "text": [
      "      4/100      1.25G      1.167         12        640: 100%|██████████| 1/1 [00:00<00:00,  8.48it/s]\n",
      "               classes   top1_acc   top5_acc: 100%|██████████| 1/1 [00:00<00:00, 45.19it/s]"
     ]
    },
    {
     "name": "stdout",
     "output_type": "stream",
     "text": [
      "                   all      0.571          1\n"
     ]
    },
    {
     "name": "stderr",
     "output_type": "stream",
     "text": [
      "\n"
     ]
    },
    {
     "name": "stdout",
     "output_type": "stream",
     "text": [
      "\n",
      "      Epoch    GPU_mem       loss  Instances       Size\n"
     ]
    },
    {
     "name": "stderr",
     "output_type": "stream",
     "text": [
      "      5/100      1.26G      1.107         12        640: 100%|██████████| 1/1 [00:00<00:00,  9.22it/s]\n",
      "               classes   top1_acc   top5_acc: 100%|██████████| 1/1 [00:00<00:00, 43.74it/s]"
     ]
    },
    {
     "name": "stdout",
     "output_type": "stream",
     "text": [
      "                   all      0.571          1\n"
     ]
    },
    {
     "name": "stderr",
     "output_type": "stream",
     "text": [
      "\n"
     ]
    },
    {
     "name": "stdout",
     "output_type": "stream",
     "text": [
      "\n",
      "      Epoch    GPU_mem       loss  Instances       Size\n"
     ]
    },
    {
     "name": "stderr",
     "output_type": "stream",
     "text": [
      "      6/100      1.26G     0.9323         12        640: 100%|██████████| 1/1 [00:00<00:00, 10.96it/s]\n",
      "               classes   top1_acc   top5_acc: 100%|██████████| 1/1 [00:00<00:00, 49.41it/s]"
     ]
    },
    {
     "name": "stdout",
     "output_type": "stream",
     "text": [
      "                   all      0.571          1\n"
     ]
    },
    {
     "name": "stderr",
     "output_type": "stream",
     "text": [
      "\n"
     ]
    },
    {
     "name": "stdout",
     "output_type": "stream",
     "text": [
      "\n",
      "      Epoch    GPU_mem       loss  Instances       Size\n"
     ]
    },
    {
     "name": "stderr",
     "output_type": "stream",
     "text": [
      "      7/100      1.26G     0.8505         12        640: 100%|██████████| 1/1 [00:00<00:00,  8.62it/s]\n",
      "               classes   top1_acc   top5_acc: 100%|██████████| 1/1 [00:00<00:00, 43.27it/s]"
     ]
    },
    {
     "name": "stdout",
     "output_type": "stream",
     "text": [
      "                   all      0.571          1\n"
     ]
    },
    {
     "name": "stderr",
     "output_type": "stream",
     "text": [
      "\n"
     ]
    },
    {
     "name": "stdout",
     "output_type": "stream",
     "text": [
      "\n",
      "      Epoch    GPU_mem       loss  Instances       Size\n"
     ]
    },
    {
     "name": "stderr",
     "output_type": "stream",
     "text": [
      "      8/100      1.26G     0.7776         12        640: 100%|██████████| 1/1 [00:00<00:00,  7.78it/s]\n",
      "               classes   top1_acc   top5_acc: 100%|██████████| 1/1 [00:00<00:00, 46.86it/s]"
     ]
    },
    {
     "name": "stdout",
     "output_type": "stream",
     "text": [
      "                   all      0.714          1\n"
     ]
    },
    {
     "name": "stderr",
     "output_type": "stream",
     "text": [
      "\n"
     ]
    },
    {
     "name": "stdout",
     "output_type": "stream",
     "text": [
      "\n",
      "      Epoch    GPU_mem       loss  Instances       Size\n"
     ]
    },
    {
     "name": "stderr",
     "output_type": "stream",
     "text": [
      "      9/100      1.26G     0.5846         12        640: 100%|██████████| 1/1 [00:00<00:00, 10.31it/s]\n",
      "               classes   top1_acc   top5_acc: 100%|██████████| 1/1 [00:00<00:00, 36.38it/s]"
     ]
    },
    {
     "name": "stdout",
     "output_type": "stream",
     "text": [
      "                   all      0.857          1\n"
     ]
    },
    {
     "name": "stderr",
     "output_type": "stream",
     "text": [
      "\n"
     ]
    },
    {
     "name": "stdout",
     "output_type": "stream",
     "text": [
      "\n",
      "      Epoch    GPU_mem       loss  Instances       Size\n"
     ]
    },
    {
     "name": "stderr",
     "output_type": "stream",
     "text": [
      "     10/100      1.26G     0.5602         12        640: 100%|██████████| 1/1 [00:00<00:00, 11.53it/s]\n",
      "               classes   top1_acc   top5_acc: 100%|██████████| 1/1 [00:00<00:00, 49.74it/s]"
     ]
    },
    {
     "name": "stdout",
     "output_type": "stream",
     "text": [
      "                   all          1          1\n"
     ]
    },
    {
     "name": "stderr",
     "output_type": "stream",
     "text": [
      "\n"
     ]
    },
    {
     "name": "stdout",
     "output_type": "stream",
     "text": [
      "\n",
      "      Epoch    GPU_mem       loss  Instances       Size\n"
     ]
    },
    {
     "name": "stderr",
     "output_type": "stream",
     "text": [
      "     11/100      1.26G     0.3646         12        640: 100%|██████████| 1/1 [00:00<00:00, 10.96it/s]\n",
      "               classes   top1_acc   top5_acc: 100%|██████████| 1/1 [00:00<00:00, 19.35it/s]"
     ]
    },
    {
     "name": "stdout",
     "output_type": "stream",
     "text": [
      "                   all          1          1\n"
     ]
    },
    {
     "name": "stderr",
     "output_type": "stream",
     "text": [
      "\n"
     ]
    },
    {
     "name": "stdout",
     "output_type": "stream",
     "text": [
      "\n",
      "      Epoch    GPU_mem       loss  Instances       Size\n"
     ]
    },
    {
     "name": "stderr",
     "output_type": "stream",
     "text": [
      "     12/100      1.26G     0.3765         12        640: 100%|██████████| 1/1 [00:00<00:00,  8.14it/s]\n",
      "               classes   top1_acc   top5_acc: 100%|██████████| 1/1 [00:00<00:00, 43.16it/s]"
     ]
    },
    {
     "name": "stdout",
     "output_type": "stream",
     "text": [
      "                   all          1          1\n"
     ]
    },
    {
     "name": "stderr",
     "output_type": "stream",
     "text": [
      "\n"
     ]
    },
    {
     "name": "stdout",
     "output_type": "stream",
     "text": [
      "\n",
      "      Epoch    GPU_mem       loss  Instances       Size\n"
     ]
    },
    {
     "name": "stderr",
     "output_type": "stream",
     "text": [
      "     13/100      1.27G     0.2921         12        640: 100%|██████████| 1/1 [00:00<00:00,  9.53it/s]\n",
      "               classes   top1_acc   top5_acc: 100%|██████████| 1/1 [00:00<00:00, 46.94it/s]"
     ]
    },
    {
     "name": "stdout",
     "output_type": "stream",
     "text": [
      "                   all          1          1\n"
     ]
    },
    {
     "name": "stderr",
     "output_type": "stream",
     "text": [
      "\n"
     ]
    },
    {
     "name": "stdout",
     "output_type": "stream",
     "text": [
      "\n",
      "      Epoch    GPU_mem       loss  Instances       Size\n"
     ]
    },
    {
     "name": "stderr",
     "output_type": "stream",
     "text": [
      "     14/100      1.27G     0.1688         12        640: 100%|██████████| 1/1 [00:00<00:00,  7.62it/s]\n",
      "               classes   top1_acc   top5_acc: 100%|██████████| 1/1 [00:00<00:00, 40.92it/s]"
     ]
    },
    {
     "name": "stdout",
     "output_type": "stream",
     "text": [
      "                   all          1          1\n"
     ]
    },
    {
     "name": "stderr",
     "output_type": "stream",
     "text": [
      "\n"
     ]
    },
    {
     "name": "stdout",
     "output_type": "stream",
     "text": [
      "\n",
      "      Epoch    GPU_mem       loss  Instances       Size\n"
     ]
    },
    {
     "name": "stderr",
     "output_type": "stream",
     "text": [
      "     15/100      1.27G     0.1267         12        640: 100%|██████████| 1/1 [00:00<00:00,  6.79it/s]\n",
      "               classes   top1_acc   top5_acc: 100%|██████████| 1/1 [00:00<00:00, 25.70it/s]"
     ]
    },
    {
     "name": "stdout",
     "output_type": "stream",
     "text": [
      "                   all          1          1\n"
     ]
    },
    {
     "name": "stderr",
     "output_type": "stream",
     "text": [
      "\n"
     ]
    },
    {
     "name": "stdout",
     "output_type": "stream",
     "text": [
      "\n",
      "      Epoch    GPU_mem       loss  Instances       Size\n"
     ]
    },
    {
     "name": "stderr",
     "output_type": "stream",
     "text": [
      "     16/100      1.27G     0.1037         12        640: 100%|██████████| 1/1 [00:00<00:00,  9.09it/s]\n",
      "               classes   top1_acc   top5_acc: 100%|██████████| 1/1 [00:00<00:00, 46.01it/s]"
     ]
    },
    {
     "name": "stdout",
     "output_type": "stream",
     "text": [
      "                   all          1          1\n"
     ]
    },
    {
     "name": "stderr",
     "output_type": "stream",
     "text": [
      "\n"
     ]
    },
    {
     "name": "stdout",
     "output_type": "stream",
     "text": [
      "\n",
      "      Epoch    GPU_mem       loss  Instances       Size\n"
     ]
    },
    {
     "name": "stderr",
     "output_type": "stream",
     "text": [
      "     17/100      1.28G    0.08923         12        640: 100%|██████████| 1/1 [00:00<00:00,  8.78it/s]\n",
      "               classes   top1_acc   top5_acc: 100%|██████████| 1/1 [00:00<00:00, 50.08it/s]"
     ]
    },
    {
     "name": "stdout",
     "output_type": "stream",
     "text": [
      "                   all          1          1\n"
     ]
    },
    {
     "name": "stderr",
     "output_type": "stream",
     "text": [
      "\n"
     ]
    },
    {
     "name": "stdout",
     "output_type": "stream",
     "text": [
      "\n",
      "      Epoch    GPU_mem       loss  Instances       Size\n"
     ]
    },
    {
     "name": "stderr",
     "output_type": "stream",
     "text": [
      "     18/100      1.28G    0.07418         12        640: 100%|██████████| 1/1 [00:00<00:00, 10.20it/s]\n",
      "               classes   top1_acc   top5_acc: 100%|██████████| 1/1 [00:00<00:00, 52.77it/s]"
     ]
    },
    {
     "name": "stdout",
     "output_type": "stream",
     "text": [
      "                   all          1          1\n"
     ]
    },
    {
     "name": "stderr",
     "output_type": "stream",
     "text": [
      "\n"
     ]
    },
    {
     "name": "stdout",
     "output_type": "stream",
     "text": [
      "\n",
      "      Epoch    GPU_mem       loss  Instances       Size\n"
     ]
    },
    {
     "name": "stderr",
     "output_type": "stream",
     "text": [
      "     19/100      1.28G    0.04414         12        640: 100%|██████████| 1/1 [00:00<00:00,  7.44it/s]\n",
      "               classes   top1_acc   top5_acc: 100%|██████████| 1/1 [00:00<00:00, 46.27it/s]"
     ]
    },
    {
     "name": "stdout",
     "output_type": "stream",
     "text": [
      "                   all          1          1\n"
     ]
    },
    {
     "name": "stderr",
     "output_type": "stream",
     "text": [
      "\n"
     ]
    },
    {
     "name": "stdout",
     "output_type": "stream",
     "text": [
      "\n",
      "      Epoch    GPU_mem       loss  Instances       Size\n"
     ]
    },
    {
     "name": "stderr",
     "output_type": "stream",
     "text": [
      "     20/100      1.28G    0.03814         12        640: 100%|██████████| 1/1 [00:00<00:00, 13.09it/s]\n",
      "               classes   top1_acc   top5_acc: 100%|██████████| 1/1 [00:00<00:00, 42.85it/s]"
     ]
    },
    {
     "name": "stdout",
     "output_type": "stream",
     "text": [
      "                   all          1          1\n"
     ]
    },
    {
     "name": "stderr",
     "output_type": "stream",
     "text": [
      "\n"
     ]
    },
    {
     "name": "stdout",
     "output_type": "stream",
     "text": [
      "\n",
      "      Epoch    GPU_mem       loss  Instances       Size\n"
     ]
    },
    {
     "name": "stderr",
     "output_type": "stream",
     "text": [
      "     21/100      1.29G    0.03758         12        640: 100%|██████████| 1/1 [00:00<00:00,  9.82it/s]\n",
      "               classes   top1_acc   top5_acc: 100%|██████████| 1/1 [00:00<00:00, 31.24it/s]"
     ]
    },
    {
     "name": "stdout",
     "output_type": "stream",
     "text": [
      "                   all          1          1\n"
     ]
    },
    {
     "name": "stderr",
     "output_type": "stream",
     "text": [
      "\n"
     ]
    },
    {
     "name": "stdout",
     "output_type": "stream",
     "text": [
      "\n",
      "      Epoch    GPU_mem       loss  Instances       Size\n"
     ]
    },
    {
     "name": "stderr",
     "output_type": "stream",
     "text": [
      "     22/100      1.29G    0.02564         12        640: 100%|██████████| 1/1 [00:00<00:00, 12.15it/s]\n",
      "               classes   top1_acc   top5_acc: 100%|██████████| 1/1 [00:00<00:00, 41.87it/s]"
     ]
    },
    {
     "name": "stdout",
     "output_type": "stream",
     "text": [
      "                   all          1          1\n"
     ]
    },
    {
     "name": "stderr",
     "output_type": "stream",
     "text": [
      "\n"
     ]
    },
    {
     "name": "stdout",
     "output_type": "stream",
     "text": [
      "\n",
      "      Epoch    GPU_mem       loss  Instances       Size\n"
     ]
    },
    {
     "name": "stderr",
     "output_type": "stream",
     "text": [
      "     23/100      1.29G    0.02929         12        640: 100%|██████████| 1/1 [00:00<00:00, 10.05it/s]\n",
      "               classes   top1_acc   top5_acc: 100%|██████████| 1/1 [00:00<00:00, 42.13it/s]"
     ]
    },
    {
     "name": "stdout",
     "output_type": "stream",
     "text": [
      "                   all          1          1\n"
     ]
    },
    {
     "name": "stderr",
     "output_type": "stream",
     "text": [
      "\n"
     ]
    },
    {
     "name": "stdout",
     "output_type": "stream",
     "text": [
      "\n",
      "      Epoch    GPU_mem       loss  Instances       Size\n"
     ]
    },
    {
     "name": "stderr",
     "output_type": "stream",
     "text": [
      "     24/100      1.29G    0.01295         12        640: 100%|██████████| 1/1 [00:00<00:00, 13.06it/s]\n",
      "               classes   top1_acc   top5_acc: 100%|██████████| 1/1 [00:00<00:00, 30.82it/s]"
     ]
    },
    {
     "name": "stdout",
     "output_type": "stream",
     "text": [
      "                   all          1          1\n"
     ]
    },
    {
     "name": "stderr",
     "output_type": "stream",
     "text": [
      "\n"
     ]
    },
    {
     "name": "stdout",
     "output_type": "stream",
     "text": [
      "\n",
      "      Epoch    GPU_mem       loss  Instances       Size\n"
     ]
    },
    {
     "name": "stderr",
     "output_type": "stream",
     "text": [
      "     25/100       1.3G    0.01978         12        640: 100%|██████████| 1/1 [00:00<00:00, 10.38it/s]\n",
      "               classes   top1_acc   top5_acc: 100%|██████████| 1/1 [00:00<00:00, 34.50it/s]"
     ]
    },
    {
     "name": "stdout",
     "output_type": "stream",
     "text": [
      "                   all          1          1\n"
     ]
    },
    {
     "name": "stderr",
     "output_type": "stream",
     "text": [
      "\n"
     ]
    },
    {
     "name": "stdout",
     "output_type": "stream",
     "text": [
      "\n",
      "      Epoch    GPU_mem       loss  Instances       Size\n"
     ]
    },
    {
     "name": "stderr",
     "output_type": "stream",
     "text": [
      "     26/100       1.3G    0.01267         12        640: 100%|██████████| 1/1 [00:00<00:00, 11.90it/s]\n",
      "               classes   top1_acc   top5_acc: 100%|██████████| 1/1 [00:00<00:00, 56.25it/s]"
     ]
    },
    {
     "name": "stdout",
     "output_type": "stream",
     "text": [
      "                   all          1          1\n"
     ]
    },
    {
     "name": "stderr",
     "output_type": "stream",
     "text": [
      "\n"
     ]
    },
    {
     "name": "stdout",
     "output_type": "stream",
     "text": [
      "\n",
      "      Epoch    GPU_mem       loss  Instances       Size\n"
     ]
    },
    {
     "name": "stderr",
     "output_type": "stream",
     "text": [
      "     27/100       1.3G    0.02528         12        640: 100%|██████████| 1/1 [00:00<00:00, 10.94it/s]\n",
      "               classes   top1_acc   top5_acc: 100%|██████████| 1/1 [00:00<00:00, 56.47it/s]"
     ]
    },
    {
     "name": "stdout",
     "output_type": "stream",
     "text": [
      "                   all          1          1\n"
     ]
    },
    {
     "name": "stderr",
     "output_type": "stream",
     "text": [
      "\n"
     ]
    },
    {
     "name": "stdout",
     "output_type": "stream",
     "text": [
      "\n",
      "      Epoch    GPU_mem       loss  Instances       Size\n"
     ]
    },
    {
     "name": "stderr",
     "output_type": "stream",
     "text": [
      "     28/100       1.3G    0.01124         12        640: 100%|██████████| 1/1 [00:00<00:00, 14.45it/s]\n",
      "               classes   top1_acc   top5_acc: 100%|██████████| 1/1 [00:00<00:00, 50.18it/s]"
     ]
    },
    {
     "name": "stdout",
     "output_type": "stream",
     "text": [
      "                   all          1          1\n"
     ]
    },
    {
     "name": "stderr",
     "output_type": "stream",
     "text": [
      "\n"
     ]
    },
    {
     "name": "stdout",
     "output_type": "stream",
     "text": [
      "\n",
      "      Epoch    GPU_mem       loss  Instances       Size\n"
     ]
    },
    {
     "name": "stderr",
     "output_type": "stream",
     "text": [
      "     29/100       1.3G   0.009613         12        640: 100%|██████████| 1/1 [00:00<00:00, 11.84it/s]\n",
      "               classes   top1_acc   top5_acc: 100%|██████████| 1/1 [00:00<00:00, 55.17it/s]"
     ]
    },
    {
     "name": "stdout",
     "output_type": "stream",
     "text": [
      "                   all          1          1\n"
     ]
    },
    {
     "name": "stderr",
     "output_type": "stream",
     "text": [
      "\n"
     ]
    },
    {
     "name": "stdout",
     "output_type": "stream",
     "text": [
      "\n",
      "      Epoch    GPU_mem       loss  Instances       Size\n"
     ]
    },
    {
     "name": "stderr",
     "output_type": "stream",
     "text": [
      "     30/100       1.3G   0.006045         12        640: 100%|██████████| 1/1 [00:00<00:00, 15.29it/s]\n",
      "               classes   top1_acc   top5_acc: 100%|██████████| 1/1 [00:00<00:00, 43.92it/s]"
     ]
    },
    {
     "name": "stdout",
     "output_type": "stream",
     "text": [
      "                   all          1          1\n"
     ]
    },
    {
     "name": "stderr",
     "output_type": "stream",
     "text": [
      "\n"
     ]
    },
    {
     "name": "stdout",
     "output_type": "stream",
     "text": [
      "\n",
      "      Epoch    GPU_mem       loss  Instances       Size\n"
     ]
    },
    {
     "name": "stderr",
     "output_type": "stream",
     "text": [
      "     31/100       1.3G   0.004134         12        640: 100%|██████████| 1/1 [00:00<00:00, 10.82it/s]\n",
      "               classes   top1_acc   top5_acc: 100%|██████████| 1/1 [00:00<00:00, 31.71it/s]"
     ]
    },
    {
     "name": "stdout",
     "output_type": "stream",
     "text": [
      "                   all          1          1\n"
     ]
    },
    {
     "name": "stderr",
     "output_type": "stream",
     "text": [
      "\n"
     ]
    },
    {
     "name": "stdout",
     "output_type": "stream",
     "text": [
      "\n",
      "      Epoch    GPU_mem       loss  Instances       Size\n"
     ]
    },
    {
     "name": "stderr",
     "output_type": "stream",
     "text": [
      "     32/100      1.31G   0.003044         12        640: 100%|██████████| 1/1 [00:00<00:00, 12.07it/s]\n",
      "               classes   top1_acc   top5_acc: 100%|██████████| 1/1 [00:00<00:00, 52.10it/s]"
     ]
    },
    {
     "name": "stdout",
     "output_type": "stream",
     "text": [
      "                   all          1          1\n"
     ]
    },
    {
     "name": "stderr",
     "output_type": "stream",
     "text": [
      "\n"
     ]
    },
    {
     "name": "stdout",
     "output_type": "stream",
     "text": [
      "\n",
      "      Epoch    GPU_mem       loss  Instances       Size\n"
     ]
    },
    {
     "name": "stderr",
     "output_type": "stream",
     "text": [
      "     33/100      1.31G   0.005031         12        640: 100%|██████████| 1/1 [00:00<00:00,  9.55it/s]\n",
      "               classes   top1_acc   top5_acc: 100%|██████████| 1/1 [00:00<00:00, 37.58it/s]"
     ]
    },
    {
     "name": "stdout",
     "output_type": "stream",
     "text": [
      "                   all          1          1\n"
     ]
    },
    {
     "name": "stderr",
     "output_type": "stream",
     "text": [
      "\n"
     ]
    },
    {
     "name": "stdout",
     "output_type": "stream",
     "text": [
      "\n",
      "      Epoch    GPU_mem       loss  Instances       Size\n"
     ]
    },
    {
     "name": "stderr",
     "output_type": "stream",
     "text": [
      "     34/100      1.31G   0.002891         12        640: 100%|██████████| 1/1 [00:00<00:00, 12.89it/s]\n",
      "               classes   top1_acc   top5_acc: 100%|██████████| 1/1 [00:00<00:00, 48.90it/s]"
     ]
    },
    {
     "name": "stdout",
     "output_type": "stream",
     "text": [
      "                   all          1          1\n"
     ]
    },
    {
     "name": "stderr",
     "output_type": "stream",
     "text": [
      "\n"
     ]
    },
    {
     "name": "stdout",
     "output_type": "stream",
     "text": [
      "\n",
      "      Epoch    GPU_mem       loss  Instances       Size\n"
     ]
    },
    {
     "name": "stderr",
     "output_type": "stream",
     "text": [
      "     35/100      1.31G   0.003598         12        640: 100%|██████████| 1/1 [00:00<00:00, 10.45it/s]\n",
      "               classes   top1_acc   top5_acc: 100%|██████████| 1/1 [00:00<00:00, 32.08it/s]"
     ]
    },
    {
     "name": "stdout",
     "output_type": "stream",
     "text": [
      "                   all          1          1\n"
     ]
    },
    {
     "name": "stderr",
     "output_type": "stream",
     "text": [
      "\n"
     ]
    },
    {
     "name": "stdout",
     "output_type": "stream",
     "text": [
      "\n",
      "      Epoch    GPU_mem       loss  Instances       Size\n"
     ]
    },
    {
     "name": "stderr",
     "output_type": "stream",
     "text": [
      "     36/100      1.31G   0.002448         12        640: 100%|██████████| 1/1 [00:00<00:00, 12.85it/s]\n",
      "               classes   top1_acc   top5_acc: 100%|██████████| 1/1 [00:00<00:00, 54.34it/s]"
     ]
    },
    {
     "name": "stdout",
     "output_type": "stream",
     "text": [
      "                   all          1          1\n"
     ]
    },
    {
     "name": "stderr",
     "output_type": "stream",
     "text": [
      "\n"
     ]
    },
    {
     "name": "stdout",
     "output_type": "stream",
     "text": [
      "\n",
      "      Epoch    GPU_mem       loss  Instances       Size\n"
     ]
    },
    {
     "name": "stderr",
     "output_type": "stream",
     "text": [
      "     37/100      1.32G   0.002819         12        640: 100%|██████████| 1/1 [00:00<00:00, 11.04it/s]\n",
      "               classes   top1_acc   top5_acc: 100%|██████████| 1/1 [00:00<00:00, 39.01it/s]"
     ]
    },
    {
     "name": "stdout",
     "output_type": "stream",
     "text": [
      "                   all          1          1\n"
     ]
    },
    {
     "name": "stderr",
     "output_type": "stream",
     "text": [
      "\n"
     ]
    },
    {
     "name": "stdout",
     "output_type": "stream",
     "text": [
      "\n",
      "      Epoch    GPU_mem       loss  Instances       Size\n"
     ]
    },
    {
     "name": "stderr",
     "output_type": "stream",
     "text": [
      "     38/100      1.32G   0.008951         12        640: 100%|██████████| 1/1 [00:00<00:00, 13.48it/s]\n",
      "               classes   top1_acc   top5_acc: 100%|██████████| 1/1 [00:00<00:00, 47.53it/s]"
     ]
    },
    {
     "name": "stdout",
     "output_type": "stream",
     "text": [
      "                   all          1          1\n"
     ]
    },
    {
     "name": "stderr",
     "output_type": "stream",
     "text": [
      "\n"
     ]
    },
    {
     "name": "stdout",
     "output_type": "stream",
     "text": [
      "\n",
      "      Epoch    GPU_mem       loss  Instances       Size\n"
     ]
    },
    {
     "name": "stderr",
     "output_type": "stream",
     "text": [
      "     39/100      1.32G   0.006825         12        640: 100%|██████████| 1/1 [00:00<00:00,  9.79it/s]\n",
      "               classes   top1_acc   top5_acc: 100%|██████████| 1/1 [00:00<00:00, 45.04it/s]"
     ]
    },
    {
     "name": "stdout",
     "output_type": "stream",
     "text": [
      "                   all          1          1\n"
     ]
    },
    {
     "name": "stderr",
     "output_type": "stream",
     "text": [
      "\n"
     ]
    },
    {
     "name": "stdout",
     "output_type": "stream",
     "text": [
      "\n",
      "      Epoch    GPU_mem       loss  Instances       Size\n"
     ]
    },
    {
     "name": "stderr",
     "output_type": "stream",
     "text": [
      "     40/100      1.32G   0.001171         12        640: 100%|██████████| 1/1 [00:00<00:00, 16.14it/s]\n",
      "               classes   top1_acc   top5_acc: 100%|██████████| 1/1 [00:00<00:00, 53.64it/s]"
     ]
    },
    {
     "name": "stdout",
     "output_type": "stream",
     "text": [
      "                   all          1          1\n"
     ]
    },
    {
     "name": "stderr",
     "output_type": "stream",
     "text": [
      "\n"
     ]
    },
    {
     "name": "stdout",
     "output_type": "stream",
     "text": [
      "\n",
      "      Epoch    GPU_mem       loss  Instances       Size\n"
     ]
    },
    {
     "name": "stderr",
     "output_type": "stream",
     "text": [
      "     41/100      1.33G  0.0009367         12        640: 100%|██████████| 1/1 [00:00<00:00, 10.90it/s]\n",
      "               classes   top1_acc   top5_acc: 100%|██████████| 1/1 [00:00<00:00, 44.49it/s]"
     ]
    },
    {
     "name": "stdout",
     "output_type": "stream",
     "text": [
      "                   all          1          1\n"
     ]
    },
    {
     "name": "stderr",
     "output_type": "stream",
     "text": [
      "\n"
     ]
    },
    {
     "name": "stdout",
     "output_type": "stream",
     "text": [
      "\n",
      "      Epoch    GPU_mem       loss  Instances       Size\n"
     ]
    },
    {
     "name": "stderr",
     "output_type": "stream",
     "text": [
      "     42/100      1.33G   0.001001         12        640: 100%|██████████| 1/1 [00:00<00:00, 15.15it/s]\n",
      "               classes   top1_acc   top5_acc: 100%|██████████| 1/1 [00:00<00:00, 38.57it/s]"
     ]
    },
    {
     "name": "stdout",
     "output_type": "stream",
     "text": [
      "                   all          1          1\n"
     ]
    },
    {
     "name": "stderr",
     "output_type": "stream",
     "text": [
      "\n"
     ]
    },
    {
     "name": "stdout",
     "output_type": "stream",
     "text": [
      "\n",
      "      Epoch    GPU_mem       loss  Instances       Size\n"
     ]
    },
    {
     "name": "stderr",
     "output_type": "stream",
     "text": [
      "     43/100      1.33G   0.001767         12        640: 100%|██████████| 1/1 [00:00<00:00, 11.95it/s]\n",
      "               classes   top1_acc   top5_acc: 100%|██████████| 1/1 [00:00<00:00, 40.26it/s]"
     ]
    },
    {
     "name": "stdout",
     "output_type": "stream",
     "text": [
      "                   all          1          1\n"
     ]
    },
    {
     "name": "stderr",
     "output_type": "stream",
     "text": [
      "\n"
     ]
    },
    {
     "name": "stdout",
     "output_type": "stream",
     "text": [
      "\n",
      "      Epoch    GPU_mem       loss  Instances       Size\n"
     ]
    },
    {
     "name": "stderr",
     "output_type": "stream",
     "text": [
      "     44/100      1.33G  0.0006765         12        640: 100%|██████████| 1/1 [00:00<00:00, 15.38it/s]\n",
      "               classes   top1_acc   top5_acc: 100%|██████████| 1/1 [00:00<00:00, 51.10it/s]"
     ]
    },
    {
     "name": "stdout",
     "output_type": "stream",
     "text": [
      "                   all          1          1\n"
     ]
    },
    {
     "name": "stderr",
     "output_type": "stream",
     "text": [
      "\n"
     ]
    },
    {
     "name": "stdout",
     "output_type": "stream",
     "text": [
      "\n",
      "      Epoch    GPU_mem       loss  Instances       Size\n"
     ]
    },
    {
     "name": "stderr",
     "output_type": "stream",
     "text": [
      "     45/100      1.34G  0.0007449         12        640: 100%|██████████| 1/1 [00:00<00:00, 11.39it/s]\n",
      "               classes   top1_acc   top5_acc: 100%|██████████| 1/1 [00:00<00:00, 52.85it/s]"
     ]
    },
    {
     "name": "stdout",
     "output_type": "stream",
     "text": [
      "                   all          1          1\n"
     ]
    },
    {
     "name": "stderr",
     "output_type": "stream",
     "text": [
      "\n"
     ]
    },
    {
     "name": "stdout",
     "output_type": "stream",
     "text": [
      "\n",
      "      Epoch    GPU_mem       loss  Instances       Size\n"
     ]
    },
    {
     "name": "stderr",
     "output_type": "stream",
     "text": [
      "     46/100      1.34G  0.0006975         12        640: 100%|██████████| 1/1 [00:00<00:00, 15.77it/s]\n",
      "               classes   top1_acc   top5_acc: 100%|██████████| 1/1 [00:00<00:00, 43.93it/s]"
     ]
    },
    {
     "name": "stdout",
     "output_type": "stream",
     "text": [
      "                   all          1          1\n"
     ]
    },
    {
     "name": "stderr",
     "output_type": "stream",
     "text": [
      "\n"
     ]
    },
    {
     "name": "stdout",
     "output_type": "stream",
     "text": [
      "\n",
      "      Epoch    GPU_mem       loss  Instances       Size\n"
     ]
    },
    {
     "name": "stderr",
     "output_type": "stream",
     "text": [
      "     47/100      1.34G   0.001047         12        640: 100%|██████████| 1/1 [00:00<00:00,  7.99it/s]\n",
      "               classes   top1_acc   top5_acc: 100%|██████████| 1/1 [00:00<00:00, 46.73it/s]"
     ]
    },
    {
     "name": "stdout",
     "output_type": "stream",
     "text": [
      "                   all          1          1\n"
     ]
    },
    {
     "name": "stderr",
     "output_type": "stream",
     "text": [
      "\n"
     ]
    },
    {
     "name": "stdout",
     "output_type": "stream",
     "text": [
      "\n",
      "      Epoch    GPU_mem       loss  Instances       Size\n"
     ]
    },
    {
     "name": "stderr",
     "output_type": "stream",
     "text": [
      "     48/100      1.34G  0.0006539         12        640: 100%|██████████| 1/1 [00:00<00:00, 14.45it/s]\n",
      "               classes   top1_acc   top5_acc: 100%|██████████| 1/1 [00:00<00:00, 52.60it/s]"
     ]
    },
    {
     "name": "stdout",
     "output_type": "stream",
     "text": [
      "                   all          1          1\n"
     ]
    },
    {
     "name": "stderr",
     "output_type": "stream",
     "text": [
      "\n"
     ]
    },
    {
     "name": "stdout",
     "output_type": "stream",
     "text": [
      "\n",
      "      Epoch    GPU_mem       loss  Instances       Size\n"
     ]
    },
    {
     "name": "stderr",
     "output_type": "stream",
     "text": [
      "     49/100      1.35G  0.0007202         12        640: 100%|██████████| 1/1 [00:00<00:00, 11.26it/s]\n",
      "               classes   top1_acc   top5_acc: 100%|██████████| 1/1 [00:00<00:00, 49.79it/s]"
     ]
    },
    {
     "name": "stdout",
     "output_type": "stream",
     "text": [
      "                   all          1          1\n"
     ]
    },
    {
     "name": "stderr",
     "output_type": "stream",
     "text": [
      "\n"
     ]
    },
    {
     "name": "stdout",
     "output_type": "stream",
     "text": [
      "\n",
      "      Epoch    GPU_mem       loss  Instances       Size\n"
     ]
    },
    {
     "name": "stderr",
     "output_type": "stream",
     "text": [
      "     50/100      1.35G  0.0003646         12        640: 100%|██████████| 1/1 [00:00<00:00, 15.04it/s]\n",
      "               classes   top1_acc   top5_acc: 100%|██████████| 1/1 [00:00<00:00, 53.35it/s]"
     ]
    },
    {
     "name": "stdout",
     "output_type": "stream",
     "text": [
      "                   all          1          1\n"
     ]
    },
    {
     "name": "stderr",
     "output_type": "stream",
     "text": [
      "\n"
     ]
    },
    {
     "name": "stdout",
     "output_type": "stream",
     "text": [
      "\n",
      "      Epoch    GPU_mem       loss  Instances       Size\n"
     ]
    },
    {
     "name": "stderr",
     "output_type": "stream",
     "text": [
      "     51/100      1.35G   0.004999         12        640: 100%|██████████| 1/1 [00:00<00:00,  7.65it/s]\n",
      "               classes   top1_acc   top5_acc: 100%|██████████| 1/1 [00:00<00:00, 48.11it/s]"
     ]
    },
    {
     "name": "stdout",
     "output_type": "stream",
     "text": [
      "                   all          1          1\n"
     ]
    },
    {
     "name": "stderr",
     "output_type": "stream",
     "text": [
      "\n"
     ]
    },
    {
     "name": "stdout",
     "output_type": "stream",
     "text": [
      "\n",
      "      Epoch    GPU_mem       loss  Instances       Size\n"
     ]
    },
    {
     "name": "stderr",
     "output_type": "stream",
     "text": [
      "     52/100      1.35G  0.0003213         12        640: 100%|██████████| 1/1 [00:00<00:00, 12.18it/s]\n",
      "               classes   top1_acc   top5_acc: 100%|██████████| 1/1 [00:00<00:00, 32.19it/s]"
     ]
    },
    {
     "name": "stdout",
     "output_type": "stream",
     "text": [
      "                   all          1          1\n"
     ]
    },
    {
     "name": "stderr",
     "output_type": "stream",
     "text": [
      "\n"
     ]
    },
    {
     "name": "stdout",
     "output_type": "stream",
     "text": [
      "\n",
      "      Epoch    GPU_mem       loss  Instances       Size\n"
     ]
    },
    {
     "name": "stderr",
     "output_type": "stream",
     "text": [
      "     53/100      1.36G  0.0003249         12        640: 100%|██████████| 1/1 [00:00<00:00, 11.54it/s]\n",
      "               classes   top1_acc   top5_acc: 100%|██████████| 1/1 [00:00<00:00, 36.91it/s]"
     ]
    },
    {
     "name": "stdout",
     "output_type": "stream",
     "text": [
      "                   all          1          1\n"
     ]
    },
    {
     "name": "stderr",
     "output_type": "stream",
     "text": [
      "\n"
     ]
    },
    {
     "name": "stdout",
     "output_type": "stream",
     "text": [
      "\n",
      "      Epoch    GPU_mem       loss  Instances       Size\n"
     ]
    },
    {
     "name": "stderr",
     "output_type": "stream",
     "text": [
      "     54/100      1.36G   0.002435         12        640: 100%|██████████| 1/1 [00:00<00:00,  7.59it/s]\n",
      "               classes   top1_acc   top5_acc: 100%|██████████| 1/1 [00:00<00:00, 41.93it/s]"
     ]
    },
    {
     "name": "stdout",
     "output_type": "stream",
     "text": [
      "                   all          1          1\n"
     ]
    },
    {
     "name": "stderr",
     "output_type": "stream",
     "text": [
      "\n"
     ]
    },
    {
     "name": "stdout",
     "output_type": "stream",
     "text": [
      "\n",
      "      Epoch    GPU_mem       loss  Instances       Size\n"
     ]
    },
    {
     "name": "stderr",
     "output_type": "stream",
     "text": [
      "     55/100      1.36G    0.01981         12        640: 100%|██████████| 1/1 [00:00<00:00, 12.09it/s]\n",
      "               classes   top1_acc   top5_acc: 100%|██████████| 1/1 [00:00<00:00, 38.34it/s]"
     ]
    },
    {
     "name": "stdout",
     "output_type": "stream",
     "text": [
      "                   all          1          1\n"
     ]
    },
    {
     "name": "stderr",
     "output_type": "stream",
     "text": [
      "\n"
     ]
    },
    {
     "name": "stdout",
     "output_type": "stream",
     "text": [
      "\n",
      "      Epoch    GPU_mem       loss  Instances       Size\n"
     ]
    },
    {
     "name": "stderr",
     "output_type": "stream",
     "text": [
      "     56/100      1.36G  0.0003658         12        640: 100%|██████████| 1/1 [00:00<00:00, 12.22it/s]\n",
      "               classes   top1_acc   top5_acc: 100%|██████████| 1/1 [00:00<00:00, 47.48it/s]"
     ]
    },
    {
     "name": "stdout",
     "output_type": "stream",
     "text": [
      "                   all          1          1\n"
     ]
    },
    {
     "name": "stderr",
     "output_type": "stream",
     "text": [
      "\n"
     ]
    },
    {
     "name": "stdout",
     "output_type": "stream",
     "text": [
      "\n",
      "      Epoch    GPU_mem       loss  Instances       Size\n"
     ]
    },
    {
     "name": "stderr",
     "output_type": "stream",
     "text": [
      "     57/100      1.37G  0.0005068         12        640: 100%|██████████| 1/1 [00:00<00:00,  9.15it/s]\n",
      "               classes   top1_acc   top5_acc: 100%|██████████| 1/1 [00:00<00:00, 35.45it/s]"
     ]
    },
    {
     "name": "stdout",
     "output_type": "stream",
     "text": [
      "                   all          1          1\n"
     ]
    },
    {
     "name": "stderr",
     "output_type": "stream",
     "text": [
      "\n"
     ]
    },
    {
     "name": "stdout",
     "output_type": "stream",
     "text": [
      "\n",
      "      Epoch    GPU_mem       loss  Instances       Size\n"
     ]
    },
    {
     "name": "stderr",
     "output_type": "stream",
     "text": [
      "     58/100      1.37G  0.0002278         12        640: 100%|██████████| 1/1 [00:00<00:00, 11.32it/s]\n",
      "               classes   top1_acc   top5_acc: 100%|██████████| 1/1 [00:00<00:00, 44.01it/s]"
     ]
    },
    {
     "name": "stdout",
     "output_type": "stream",
     "text": [
      "                   all          1          1\n"
     ]
    },
    {
     "name": "stderr",
     "output_type": "stream",
     "text": [
      "\n"
     ]
    },
    {
     "name": "stdout",
     "output_type": "stream",
     "text": [
      "\n",
      "      Epoch    GPU_mem       loss  Instances       Size\n"
     ]
    },
    {
     "name": "stderr",
     "output_type": "stream",
     "text": [
      "     59/100      1.37G  0.0003127         12        640: 100%|██████████| 1/1 [00:00<00:00, 12.64it/s]\n",
      "               classes   top1_acc   top5_acc: 100%|██████████| 1/1 [00:00<00:00, 41.10it/s]"
     ]
    },
    {
     "name": "stdout",
     "output_type": "stream",
     "text": [
      "                   all          1          1\n"
     ]
    },
    {
     "name": "stderr",
     "output_type": "stream",
     "text": [
      "\n"
     ]
    },
    {
     "name": "stdout",
     "output_type": "stream",
     "text": [
      "\n",
      "      Epoch    GPU_mem       loss  Instances       Size\n"
     ]
    },
    {
     "name": "stderr",
     "output_type": "stream",
     "text": [
      "     60/100      1.37G  0.0002591         12        640: 100%|██████████| 1/1 [00:00<00:00,  7.81it/s]\n",
      "               classes   top1_acc   top5_acc: 100%|██████████| 1/1 [00:00<00:00, 32.00it/s]"
     ]
    },
    {
     "name": "stdout",
     "output_type": "stream",
     "text": [
      "                   all          1          1\n"
     ]
    },
    {
     "name": "stderr",
     "output_type": "stream",
     "text": [
      "\n"
     ]
    },
    {
     "name": "stdout",
     "output_type": "stream",
     "text": [
      "\n",
      "      Epoch    GPU_mem       loss  Instances       Size\n"
     ]
    },
    {
     "name": "stderr",
     "output_type": "stream",
     "text": [
      "     61/100      1.37G  0.0003796         12        640: 100%|██████████| 1/1 [00:00<00:00, 12.42it/s]\n",
      "               classes   top1_acc   top5_acc: 100%|██████████| 1/1 [00:00<00:00, 36.05it/s]"
     ]
    },
    {
     "name": "stdout",
     "output_type": "stream",
     "text": [
      "                   all          1          1\n"
     ]
    },
    {
     "name": "stderr",
     "output_type": "stream",
     "text": [
      "\n"
     ]
    },
    {
     "name": "stdout",
     "output_type": "stream",
     "text": [
      "\n",
      "      Epoch    GPU_mem       loss  Instances       Size\n"
     ]
    },
    {
     "name": "stderr",
     "output_type": "stream",
     "text": [
      "     62/100      1.37G  0.0003712         12        640: 100%|██████████| 1/1 [00:00<00:00, 12.22it/s]\n",
      "               classes   top1_acc   top5_acc: 100%|██████████| 1/1 [00:00<00:00, 43.81it/s]"
     ]
    },
    {
     "name": "stdout",
     "output_type": "stream",
     "text": [
      "                   all          1          1\n"
     ]
    },
    {
     "name": "stderr",
     "output_type": "stream",
     "text": [
      "\n"
     ]
    },
    {
     "name": "stdout",
     "output_type": "stream",
     "text": [
      "\n",
      "      Epoch    GPU_mem       loss  Instances       Size\n"
     ]
    },
    {
     "name": "stderr",
     "output_type": "stream",
     "text": [
      "     63/100      1.38G  0.0004419         12        640: 100%|██████████| 1/1 [00:00<00:00,  8.56it/s]\n",
      "               classes   top1_acc   top5_acc: 100%|██████████| 1/1 [00:00<00:00, 34.41it/s]"
     ]
    },
    {
     "name": "stdout",
     "output_type": "stream",
     "text": [
      "                   all          1          1\n"
     ]
    },
    {
     "name": "stderr",
     "output_type": "stream",
     "text": [
      "\n"
     ]
    },
    {
     "name": "stdout",
     "output_type": "stream",
     "text": [
      "\n",
      "      Epoch    GPU_mem       loss  Instances       Size\n"
     ]
    },
    {
     "name": "stderr",
     "output_type": "stream",
     "text": [
      "     64/100      1.38G  0.0004911         12        640: 100%|██████████| 1/1 [00:00<00:00, 12.68it/s]\n",
      "               classes   top1_acc   top5_acc: 100%|██████████| 1/1 [00:00<00:00, 54.11it/s]"
     ]
    },
    {
     "name": "stdout",
     "output_type": "stream",
     "text": [
      "                   all          1          1\n"
     ]
    },
    {
     "name": "stderr",
     "output_type": "stream",
     "text": [
      "\n"
     ]
    },
    {
     "name": "stdout",
     "output_type": "stream",
     "text": [
      "\n",
      "      Epoch    GPU_mem       loss  Instances       Size\n"
     ]
    },
    {
     "name": "stderr",
     "output_type": "stream",
     "text": [
      "     65/100      1.38G  0.0002469         12        640: 100%|██████████| 1/1 [00:00<00:00, 12.26it/s]\n",
      "               classes   top1_acc   top5_acc: 100%|██████████| 1/1 [00:00<00:00, 31.78it/s]"
     ]
    },
    {
     "name": "stdout",
     "output_type": "stream",
     "text": [
      "                   all          1          1\n"
     ]
    },
    {
     "name": "stderr",
     "output_type": "stream",
     "text": [
      "\n"
     ]
    },
    {
     "name": "stdout",
     "output_type": "stream",
     "text": [
      "\n",
      "      Epoch    GPU_mem       loss  Instances       Size\n"
     ]
    },
    {
     "name": "stderr",
     "output_type": "stream",
     "text": [
      "     66/100      1.38G  0.0001872         12        640: 100%|██████████| 1/1 [00:00<00:00,  8.73it/s]\n",
      "               classes   top1_acc   top5_acc: 100%|██████████| 1/1 [00:00<00:00, 36.62it/s]"
     ]
    },
    {
     "name": "stdout",
     "output_type": "stream",
     "text": [
      "                   all          1          1\n"
     ]
    },
    {
     "name": "stderr",
     "output_type": "stream",
     "text": [
      "\n"
     ]
    },
    {
     "name": "stdout",
     "output_type": "stream",
     "text": [
      "\n",
      "      Epoch    GPU_mem       loss  Instances       Size\n"
     ]
    },
    {
     "name": "stderr",
     "output_type": "stream",
     "text": [
      "     67/100      1.38G   0.001296         12        640: 100%|██████████| 1/1 [00:00<00:00, 11.28it/s]\n",
      "               classes   top1_acc   top5_acc: 100%|██████████| 1/1 [00:00<00:00, 44.42it/s]"
     ]
    },
    {
     "name": "stdout",
     "output_type": "stream",
     "text": [
      "                   all          1          1\n"
     ]
    },
    {
     "name": "stderr",
     "output_type": "stream",
     "text": [
      "\n"
     ]
    },
    {
     "name": "stdout",
     "output_type": "stream",
     "text": [
      "\n",
      "      Epoch    GPU_mem       loss  Instances       Size\n"
     ]
    },
    {
     "name": "stderr",
     "output_type": "stream",
     "text": [
      "     68/100      1.39G  0.0003782         12        640: 100%|██████████| 1/1 [00:00<00:00, 13.21it/s]\n",
      "               classes   top1_acc   top5_acc: 100%|██████████| 1/1 [00:00<00:00, 42.83it/s]"
     ]
    },
    {
     "name": "stdout",
     "output_type": "stream",
     "text": [
      "                   all          1          1\n"
     ]
    },
    {
     "name": "stderr",
     "output_type": "stream",
     "text": [
      "\n"
     ]
    },
    {
     "name": "stdout",
     "output_type": "stream",
     "text": [
      "\n",
      "      Epoch    GPU_mem       loss  Instances       Size\n"
     ]
    },
    {
     "name": "stderr",
     "output_type": "stream",
     "text": [
      "     69/100      1.39G  0.0003828         12        640: 100%|██████████| 1/1 [00:00<00:00,  7.67it/s]\n",
      "               classes   top1_acc   top5_acc: 100%|██████████| 1/1 [00:00<00:00, 41.86it/s]"
     ]
    },
    {
     "name": "stdout",
     "output_type": "stream",
     "text": [
      "                   all          1          1\n"
     ]
    },
    {
     "name": "stderr",
     "output_type": "stream",
     "text": [
      "\n"
     ]
    },
    {
     "name": "stdout",
     "output_type": "stream",
     "text": [
      "\n",
      "      Epoch    GPU_mem       loss  Instances       Size\n"
     ]
    },
    {
     "name": "stderr",
     "output_type": "stream",
     "text": [
      "     70/100      1.39G  0.0003387         12        640: 100%|██████████| 1/1 [00:00<00:00, 11.72it/s]\n",
      "               classes   top1_acc   top5_acc: 100%|██████████| 1/1 [00:00<00:00, 34.26it/s]"
     ]
    },
    {
     "name": "stdout",
     "output_type": "stream",
     "text": [
      "                   all          1          1\n"
     ]
    },
    {
     "name": "stderr",
     "output_type": "stream",
     "text": [
      "\n"
     ]
    },
    {
     "name": "stdout",
     "output_type": "stream",
     "text": [
      "\n",
      "      Epoch    GPU_mem       loss  Instances       Size\n"
     ]
    },
    {
     "name": "stderr",
     "output_type": "stream",
     "text": [
      "     71/100      1.39G  0.0001715         12        640: 100%|██████████| 1/1 [00:00<00:00, 11.85it/s]\n",
      "               classes   top1_acc   top5_acc: 100%|██████████| 1/1 [00:00<00:00, 49.18it/s]"
     ]
    },
    {
     "name": "stdout",
     "output_type": "stream",
     "text": [
      "                   all          1          1\n"
     ]
    },
    {
     "name": "stderr",
     "output_type": "stream",
     "text": [
      "\n"
     ]
    },
    {
     "name": "stdout",
     "output_type": "stream",
     "text": [
      "\n",
      "      Epoch    GPU_mem       loss  Instances       Size\n"
     ]
    },
    {
     "name": "stderr",
     "output_type": "stream",
     "text": [
      "     72/100      1.39G  0.0003943         12        640: 100%|██████████| 1/1 [00:00<00:00,  8.26it/s]\n",
      "               classes   top1_acc   top5_acc: 100%|██████████| 1/1 [00:00<00:00, 36.91it/s]"
     ]
    },
    {
     "name": "stdout",
     "output_type": "stream",
     "text": [
      "                   all          1          1\n"
     ]
    },
    {
     "name": "stderr",
     "output_type": "stream",
     "text": [
      "\n"
     ]
    },
    {
     "name": "stdout",
     "output_type": "stream",
     "text": [
      "\n",
      "      Epoch    GPU_mem       loss  Instances       Size\n"
     ]
    },
    {
     "name": "stderr",
     "output_type": "stream",
     "text": [
      "     73/100      1.39G  0.0002363         12        640: 100%|██████████| 1/1 [00:00<00:00, 11.94it/s]\n",
      "               classes   top1_acc   top5_acc: 100%|██████████| 1/1 [00:00<00:00, 32.13it/s]"
     ]
    },
    {
     "name": "stdout",
     "output_type": "stream",
     "text": [
      "                   all          1          1\n"
     ]
    },
    {
     "name": "stderr",
     "output_type": "stream",
     "text": [
      "\n"
     ]
    },
    {
     "name": "stdout",
     "output_type": "stream",
     "text": [
      "\n",
      "      Epoch    GPU_mem       loss  Instances       Size\n"
     ]
    },
    {
     "name": "stderr",
     "output_type": "stream",
     "text": [
      "     74/100      1.39G  0.0005669         12        640: 100%|██████████| 1/1 [00:00<00:00, 10.60it/s]\n",
      "               classes   top1_acc   top5_acc: 100%|██████████| 1/1 [00:00<00:00, 33.79it/s]"
     ]
    },
    {
     "name": "stdout",
     "output_type": "stream",
     "text": [
      "                   all          1          1\n"
     ]
    },
    {
     "name": "stderr",
     "output_type": "stream",
     "text": [
      "\n"
     ]
    },
    {
     "name": "stdout",
     "output_type": "stream",
     "text": [
      "\n",
      "      Epoch    GPU_mem       loss  Instances       Size\n"
     ]
    },
    {
     "name": "stderr",
     "output_type": "stream",
     "text": [
      "     75/100      1.39G  0.0001951         12        640: 100%|██████████| 1/1 [00:00<00:00,  8.22it/s]\n",
      "               classes   top1_acc   top5_acc: 100%|██████████| 1/1 [00:00<00:00, 48.24it/s]"
     ]
    },
    {
     "name": "stdout",
     "output_type": "stream",
     "text": [
      "                   all          1          1\n"
     ]
    },
    {
     "name": "stderr",
     "output_type": "stream",
     "text": [
      "\n"
     ]
    },
    {
     "name": "stdout",
     "output_type": "stream",
     "text": [
      "\n",
      "      Epoch    GPU_mem       loss  Instances       Size\n"
     ]
    },
    {
     "name": "stderr",
     "output_type": "stream",
     "text": [
      "     76/100      1.39G  0.0003257         12        640: 100%|██████████| 1/1 [00:00<00:00, 11.37it/s]\n",
      "               classes   top1_acc   top5_acc: 100%|██████████| 1/1 [00:00<00:00, 41.66it/s]"
     ]
    },
    {
     "name": "stdout",
     "output_type": "stream",
     "text": [
      "                   all          1          1\n"
     ]
    },
    {
     "name": "stderr",
     "output_type": "stream",
     "text": [
      "\n"
     ]
    },
    {
     "name": "stdout",
     "output_type": "stream",
     "text": [
      "\n",
      "      Epoch    GPU_mem       loss  Instances       Size\n"
     ]
    },
    {
     "name": "stderr",
     "output_type": "stream",
     "text": [
      "     77/100      1.39G  0.0001707         12        640: 100%|██████████| 1/1 [00:00<00:00, 13.25it/s]\n",
      "               classes   top1_acc   top5_acc: 100%|██████████| 1/1 [00:00<00:00, 44.44it/s]"
     ]
    },
    {
     "name": "stdout",
     "output_type": "stream",
     "text": [
      "                   all          1          1\n"
     ]
    },
    {
     "name": "stderr",
     "output_type": "stream",
     "text": [
      "\n"
     ]
    },
    {
     "name": "stdout",
     "output_type": "stream",
     "text": [
      "\n",
      "      Epoch    GPU_mem       loss  Instances       Size\n"
     ]
    },
    {
     "name": "stderr",
     "output_type": "stream",
     "text": [
      "     78/100      1.39G   0.000151         12        640: 100%|██████████| 1/1 [00:00<00:00,  8.50it/s]\n",
      "               classes   top1_acc   top5_acc: 100%|██████████| 1/1 [00:00<00:00, 44.44it/s]"
     ]
    },
    {
     "name": "stdout",
     "output_type": "stream",
     "text": [
      "                   all          1          1\n"
     ]
    },
    {
     "name": "stderr",
     "output_type": "stream",
     "text": [
      "\n"
     ]
    },
    {
     "name": "stdout",
     "output_type": "stream",
     "text": [
      "\n",
      "      Epoch    GPU_mem       loss  Instances       Size\n"
     ]
    },
    {
     "name": "stderr",
     "output_type": "stream",
     "text": [
      "     79/100      1.39G  0.0002379         12        640: 100%|██████████| 1/1 [00:00<00:00, 12.93it/s]\n",
      "               classes   top1_acc   top5_acc: 100%|██████████| 1/1 [00:00<00:00, 47.13it/s]"
     ]
    },
    {
     "name": "stdout",
     "output_type": "stream",
     "text": [
      "                   all          1          1\n"
     ]
    },
    {
     "name": "stderr",
     "output_type": "stream",
     "text": [
      "\n"
     ]
    },
    {
     "name": "stdout",
     "output_type": "stream",
     "text": [
      "\n",
      "      Epoch    GPU_mem       loss  Instances       Size\n"
     ]
    },
    {
     "name": "stderr",
     "output_type": "stream",
     "text": [
      "     80/100      1.39G  0.0001969         12        640: 100%|██████████| 1/1 [00:00<00:00, 14.36it/s]\n",
      "               classes   top1_acc   top5_acc: 100%|██████████| 1/1 [00:00<00:00, 34.00it/s]"
     ]
    },
    {
     "name": "stdout",
     "output_type": "stream",
     "text": [
      "                   all          1          1\n"
     ]
    },
    {
     "name": "stderr",
     "output_type": "stream",
     "text": [
      "\n"
     ]
    },
    {
     "name": "stdout",
     "output_type": "stream",
     "text": [
      "\n",
      "      Epoch    GPU_mem       loss  Instances       Size\n"
     ]
    },
    {
     "name": "stderr",
     "output_type": "stream",
     "text": [
      "     81/100      1.39G  0.0001984         12        640: 100%|██████████| 1/1 [00:00<00:00,  9.20it/s]\n",
      "               classes   top1_acc   top5_acc: 100%|██████████| 1/1 [00:00<00:00, 36.92it/s]"
     ]
    },
    {
     "name": "stdout",
     "output_type": "stream",
     "text": [
      "                   all          1          1\n"
     ]
    },
    {
     "name": "stderr",
     "output_type": "stream",
     "text": [
      "\n"
     ]
    },
    {
     "name": "stdout",
     "output_type": "stream",
     "text": [
      "\n",
      "      Epoch    GPU_mem       loss  Instances       Size\n"
     ]
    },
    {
     "name": "stderr",
     "output_type": "stream",
     "text": [
      "     82/100      1.39G  0.0002783         12        640: 100%|██████████| 1/1 [00:00<00:00, 13.37it/s]\n",
      "               classes   top1_acc   top5_acc: 100%|██████████| 1/1 [00:00<00:00, 30.83it/s]"
     ]
    },
    {
     "name": "stdout",
     "output_type": "stream",
     "text": [
      "                   all          1          1\n"
     ]
    },
    {
     "name": "stderr",
     "output_type": "stream",
     "text": [
      "\n"
     ]
    },
    {
     "name": "stdout",
     "output_type": "stream",
     "text": [
      "\n",
      "      Epoch    GPU_mem       loss  Instances       Size\n"
     ]
    },
    {
     "name": "stderr",
     "output_type": "stream",
     "text": [
      "     83/100      1.39G  0.0002865         12        640: 100%|██████████| 1/1 [00:00<00:00, 11.36it/s]\n",
      "               classes   top1_acc   top5_acc: 100%|██████████| 1/1 [00:00<00:00, 32.50it/s]"
     ]
    },
    {
     "name": "stdout",
     "output_type": "stream",
     "text": [
      "                   all          1          1\n"
     ]
    },
    {
     "name": "stderr",
     "output_type": "stream",
     "text": [
      "\n"
     ]
    },
    {
     "name": "stdout",
     "output_type": "stream",
     "text": [
      "\n",
      "      Epoch    GPU_mem       loss  Instances       Size\n"
     ]
    },
    {
     "name": "stderr",
     "output_type": "stream",
     "text": [
      "     84/100      1.39G  0.0008285         12        640: 100%|██████████| 1/1 [00:00<00:00,  7.82it/s]\n",
      "               classes   top1_acc   top5_acc: 100%|██████████| 1/1 [00:00<00:00, 38.16it/s]"
     ]
    },
    {
     "name": "stdout",
     "output_type": "stream",
     "text": [
      "                   all          1          1\n"
     ]
    },
    {
     "name": "stderr",
     "output_type": "stream",
     "text": [
      "\n"
     ]
    },
    {
     "name": "stdout",
     "output_type": "stream",
     "text": [
      "\n",
      "      Epoch    GPU_mem       loss  Instances       Size\n"
     ]
    },
    {
     "name": "stderr",
     "output_type": "stream",
     "text": [
      "     85/100      1.39G  0.0003124         12        640: 100%|██████████| 1/1 [00:00<00:00, 14.99it/s]\n",
      "               classes   top1_acc   top5_acc: 100%|██████████| 1/1 [00:00<00:00, 34.39it/s]"
     ]
    },
    {
     "name": "stdout",
     "output_type": "stream",
     "text": [
      "                   all          1          1\n"
     ]
    },
    {
     "name": "stderr",
     "output_type": "stream",
     "text": [
      "\n"
     ]
    },
    {
     "name": "stdout",
     "output_type": "stream",
     "text": [
      "\n",
      "      Epoch    GPU_mem       loss  Instances       Size\n"
     ]
    },
    {
     "name": "stderr",
     "output_type": "stream",
     "text": [
      "     86/100      1.39G  0.0001282         12        640: 100%|██████████| 1/1 [00:00<00:00, 11.36it/s]\n",
      "               classes   top1_acc   top5_acc: 100%|██████████| 1/1 [00:00<00:00, 33.47it/s]"
     ]
    },
    {
     "name": "stdout",
     "output_type": "stream",
     "text": [
      "                   all          1          1\n"
     ]
    },
    {
     "name": "stderr",
     "output_type": "stream",
     "text": [
      "\n"
     ]
    },
    {
     "name": "stdout",
     "output_type": "stream",
     "text": [
      "\n",
      "      Epoch    GPU_mem       loss  Instances       Size\n"
     ]
    },
    {
     "name": "stderr",
     "output_type": "stream",
     "text": [
      "     87/100      1.39G   0.000206         12        640: 100%|██████████| 1/1 [00:00<00:00, 15.28it/s]\n",
      "               classes   top1_acc   top5_acc: 100%|██████████| 1/1 [00:00<00:00, 48.75it/s]"
     ]
    },
    {
     "name": "stdout",
     "output_type": "stream",
     "text": [
      "                   all          1          1\n"
     ]
    },
    {
     "name": "stderr",
     "output_type": "stream",
     "text": [
      "\n"
     ]
    },
    {
     "name": "stdout",
     "output_type": "stream",
     "text": [
      "\n",
      "      Epoch    GPU_mem       loss  Instances       Size\n"
     ]
    },
    {
     "name": "stderr",
     "output_type": "stream",
     "text": [
      "     88/100      1.39G  0.0003068         12        640: 100%|██████████| 1/1 [00:00<00:00, 11.14it/s]\n",
      "               classes   top1_acc   top5_acc: 100%|██████████| 1/1 [00:00<00:00, 46.56it/s]"
     ]
    },
    {
     "name": "stdout",
     "output_type": "stream",
     "text": [
      "                   all          1          1\n"
     ]
    },
    {
     "name": "stderr",
     "output_type": "stream",
     "text": [
      "\n"
     ]
    },
    {
     "name": "stdout",
     "output_type": "stream",
     "text": [
      "\n",
      "      Epoch    GPU_mem       loss  Instances       Size\n"
     ]
    },
    {
     "name": "stderr",
     "output_type": "stream",
     "text": [
      "     89/100      1.39G  0.0001194         12        640: 100%|██████████| 1/1 [00:00<00:00, 15.50it/s]\n",
      "               classes   top1_acc   top5_acc: 100%|██████████| 1/1 [00:00<00:00, 50.91it/s]"
     ]
    },
    {
     "name": "stdout",
     "output_type": "stream",
     "text": [
      "                   all          1          1\n"
     ]
    },
    {
     "name": "stderr",
     "output_type": "stream",
     "text": [
      "\n"
     ]
    },
    {
     "name": "stdout",
     "output_type": "stream",
     "text": [
      "\n",
      "      Epoch    GPU_mem       loss  Instances       Size\n"
     ]
    },
    {
     "name": "stderr",
     "output_type": "stream",
     "text": [
      "     90/100      1.39G  0.0001191         12        640: 100%|██████████| 1/1 [00:00<00:00, 13.97it/s]\n",
      "               classes   top1_acc   top5_acc: 100%|██████████| 1/1 [00:00<00:00, 55.89it/s]"
     ]
    },
    {
     "name": "stdout",
     "output_type": "stream",
     "text": [
      "                   all          1          1\n"
     ]
    },
    {
     "name": "stderr",
     "output_type": "stream",
     "text": [
      "\n"
     ]
    },
    {
     "name": "stdout",
     "output_type": "stream",
     "text": [
      "\n",
      "      Epoch    GPU_mem       loss  Instances       Size\n"
     ]
    },
    {
     "name": "stderr",
     "output_type": "stream",
     "text": [
      "     91/100      1.39G  0.0001159         12        640: 100%|██████████| 1/1 [00:09<00:00,  9.22s/it]\n",
      "               classes   top1_acc   top5_acc: 100%|██████████| 1/1 [00:00<00:00, 15.19it/s]"
     ]
    },
    {
     "name": "stdout",
     "output_type": "stream",
     "text": [
      "                   all          1          1\n"
     ]
    },
    {
     "name": "stderr",
     "output_type": "stream",
     "text": [
      "\n"
     ]
    },
    {
     "name": "stdout",
     "output_type": "stream",
     "text": [
      "\n",
      "      Epoch    GPU_mem       loss  Instances       Size\n"
     ]
    },
    {
     "name": "stderr",
     "output_type": "stream",
     "text": [
      "     92/100      1.39G  0.0001813         12        640: 100%|██████████| 1/1 [00:00<00:00,  7.74it/s]\n",
      "               classes   top1_acc   top5_acc: 100%|██████████| 1/1 [00:00<00:00, 26.54it/s]"
     ]
    },
    {
     "name": "stdout",
     "output_type": "stream",
     "text": [
      "                   all          1          1\n"
     ]
    },
    {
     "name": "stderr",
     "output_type": "stream",
     "text": [
      "\n"
     ]
    },
    {
     "name": "stdout",
     "output_type": "stream",
     "text": [
      "\n",
      "      Epoch    GPU_mem       loss  Instances       Size\n"
     ]
    },
    {
     "name": "stderr",
     "output_type": "stream",
     "text": [
      "     93/100      1.39G  0.0005815         12        640: 100%|██████████| 1/1 [00:00<00:00, 12.80it/s]\n",
      "               classes   top1_acc   top5_acc: 100%|██████████| 1/1 [00:00<00:00, 25.27it/s]"
     ]
    },
    {
     "name": "stdout",
     "output_type": "stream",
     "text": [
      "                   all          1          1\n"
     ]
    },
    {
     "name": "stderr",
     "output_type": "stream",
     "text": [
      "\n"
     ]
    },
    {
     "name": "stdout",
     "output_type": "stream",
     "text": [
      "\n",
      "      Epoch    GPU_mem       loss  Instances       Size\n"
     ]
    },
    {
     "name": "stderr",
     "output_type": "stream",
     "text": [
      "     94/100      1.39G  0.0002171         12        640: 100%|██████████| 1/1 [00:00<00:00, 11.52it/s]\n",
      "               classes   top1_acc   top5_acc: 100%|██████████| 1/1 [00:00<00:00, 42.86it/s]"
     ]
    },
    {
     "name": "stdout",
     "output_type": "stream",
     "text": [
      "                   all          1          1\n"
     ]
    },
    {
     "name": "stderr",
     "output_type": "stream",
     "text": [
      "\n"
     ]
    },
    {
     "name": "stdout",
     "output_type": "stream",
     "text": [
      "\n",
      "      Epoch    GPU_mem       loss  Instances       Size\n"
     ]
    },
    {
     "name": "stderr",
     "output_type": "stream",
     "text": [
      "     95/100      1.39G   0.000211         12        640: 100%|██████████| 1/1 [00:00<00:00,  9.55it/s]\n",
      "               classes   top1_acc   top5_acc: 100%|██████████| 1/1 [00:00<00:00, 33.45it/s]"
     ]
    },
    {
     "name": "stdout",
     "output_type": "stream",
     "text": [
      "                   all          1          1\n"
     ]
    },
    {
     "name": "stderr",
     "output_type": "stream",
     "text": [
      "\n"
     ]
    },
    {
     "name": "stdout",
     "output_type": "stream",
     "text": [
      "\n",
      "      Epoch    GPU_mem       loss  Instances       Size\n"
     ]
    },
    {
     "name": "stderr",
     "output_type": "stream",
     "text": [
      "     96/100      1.39G  0.0001193         12        640: 100%|██████████| 1/1 [00:00<00:00,  8.44it/s]\n",
      "               classes   top1_acc   top5_acc: 100%|██████████| 1/1 [00:00<00:00, 27.06it/s]"
     ]
    },
    {
     "name": "stdout",
     "output_type": "stream",
     "text": [
      "                   all          1          1\n"
     ]
    },
    {
     "name": "stderr",
     "output_type": "stream",
     "text": [
      "\n"
     ]
    },
    {
     "name": "stdout",
     "output_type": "stream",
     "text": [
      "\n",
      "      Epoch    GPU_mem       loss  Instances       Size\n"
     ]
    },
    {
     "name": "stderr",
     "output_type": "stream",
     "text": [
      "     97/100      1.39G  0.0006433         12        640: 100%|██████████| 1/1 [00:00<00:00, 11.76it/s]\n",
      "               classes   top1_acc   top5_acc: 100%|██████████| 1/1 [00:00<00:00, 27.90it/s]"
     ]
    },
    {
     "name": "stdout",
     "output_type": "stream",
     "text": [
      "                   all          1          1\n"
     ]
    },
    {
     "name": "stderr",
     "output_type": "stream",
     "text": [
      "\n"
     ]
    },
    {
     "name": "stdout",
     "output_type": "stream",
     "text": [
      "\n",
      "      Epoch    GPU_mem       loss  Instances       Size\n"
     ]
    },
    {
     "name": "stderr",
     "output_type": "stream",
     "text": [
      "     98/100      1.39G  0.0001015         12        640: 100%|██████████| 1/1 [00:00<00:00, 11.86it/s]\n",
      "               classes   top1_acc   top5_acc: 100%|██████████| 1/1 [00:00<00:00, 32.95it/s]"
     ]
    },
    {
     "name": "stdout",
     "output_type": "stream",
     "text": [
      "                   all          1          1\n"
     ]
    },
    {
     "name": "stderr",
     "output_type": "stream",
     "text": [
      "\n"
     ]
    },
    {
     "name": "stdout",
     "output_type": "stream",
     "text": [
      "\n",
      "      Epoch    GPU_mem       loss  Instances       Size\n"
     ]
    },
    {
     "name": "stderr",
     "output_type": "stream",
     "text": [
      "     99/100      1.39G  0.0001295         12        640: 100%|██████████| 1/1 [00:00<00:00, 13.51it/s]\n",
      "               classes   top1_acc   top5_acc: 100%|██████████| 1/1 [00:00<00:00, 48.17it/s]"
     ]
    },
    {
     "name": "stdout",
     "output_type": "stream",
     "text": [
      "                   all          1          1\n"
     ]
    },
    {
     "name": "stderr",
     "output_type": "stream",
     "text": [
      "\n"
     ]
    },
    {
     "name": "stdout",
     "output_type": "stream",
     "text": [
      "\n",
      "      Epoch    GPU_mem       loss  Instances       Size\n"
     ]
    },
    {
     "name": "stderr",
     "output_type": "stream",
     "text": [
      "    100/100      1.39G    0.00015         12        640: 100%|██████████| 1/1 [00:00<00:00, 10.20it/s]\n",
      "               classes   top1_acc   top5_acc: 100%|██████████| 1/1 [00:00<00:00, 38.80it/s]"
     ]
    },
    {
     "name": "stdout",
     "output_type": "stream",
     "text": [
      "                   all          1          1\n"
     ]
    },
    {
     "name": "stderr",
     "output_type": "stream",
     "text": [
      "\n"
     ]
    },
    {
     "name": "stdout",
     "output_type": "stream",
     "text": [
      "\n",
      "100 epochs completed in 0.020 hours.\n",
      "Optimizer stripped from runs\\classify\\train2\\weights\\last.pt, 3.2MB\n",
      "Optimizer stripped from runs\\classify\\train2\\weights\\best.pt, 3.2MB\n",
      "\n",
      "Validating runs\\classify\\train2\\weights\\best.pt...\n",
      "Ultralytics 8.3.152  Python-3.13.2 torch-2.7.0+cu128 CUDA:0 (NVIDIA GeForce RTX 4060 Laptop GPU, 8188MiB)\n",
      "YOLO11n-cls summary (fused): 47 layers, 1,529,867 parameters, 0 gradients, 3.2 GFLOPs\n",
      "WARNING Dataset 'split=train' not found at C:\\Users\\ochon\\OneDrive\\Documents\\2025\\MAIO (Malaysia AI Olympiad)\\Training\\[SELECTION 2]\\first_four_yolo\\train\n",
      "Found 12 images in subdirectories. Attempting to split...\n",
      "Splitting C:\\Users\\ochon\\OneDrive\\Documents\\2025\\MAIO (Malaysia AI Olympiad)\\Training\\[SELECTION 2]\\first_four_yolo (3 classes, 12 images) into 80% train, 20% val...\n",
      "Split complete in C:\\Users\\ochon\\OneDrive\\Documents\\2025\\MAIO (Malaysia AI Olympiad)\\Training\\[SELECTION 2]\\first_four_yolo_split \n",
      "\u001b[34m\u001b[1mtrain:\u001b[0m C:\\Users\\ochon\\OneDrive\\Documents\\2025\\MAIO (Malaysia AI Olympiad)\\Training\\[SELECTION 2]\\first_four_yolo_split\\train... found 12 images in 3 classes  \n",
      "\u001b[34m\u001b[1mval:\u001b[0m C:\\Users\\ochon\\OneDrive\\Documents\\2025\\MAIO (Malaysia AI Olympiad)\\Training\\[SELECTION 2]\\first_four_yolo_split\\val... found 7 images in 3 classes  \n",
      "\u001b[34m\u001b[1mtest:\u001b[0m None...\n"
     ]
    },
    {
     "name": "stderr",
     "output_type": "stream",
     "text": [
      "               classes   top1_acc   top5_acc: 100%|██████████| 1/1 [00:00<00:00, 11.71it/s]\n"
     ]
    },
    {
     "name": "stdout",
     "output_type": "stream",
     "text": [
      "                   all          1          1\n",
      "Speed: 0.6ms preprocess, 2.4ms inference, 0.0ms loss, 0.0ms postprocess per image\n",
      "Results saved to \u001b[1mruns\\classify\\train2\u001b[0m\n",
      "\n",
      "image 1/1 c:\\Users\\ochon\\OneDrive\\Documents\\2025\\MAIO (Malaysia AI Olympiad)\\Training\\[SELECTION 2]\\remainder\\plantA007_rgb.png: 640x640 A 1.00, C 0.00, B 0.00, 9.5ms\n",
      "Speed: 22.0ms preprocess, 9.5ms inference, 0.1ms postprocess per image at shape (1, 3, 640, 640)\n",
      "\n",
      "image 1/1 c:\\Users\\ochon\\OneDrive\\Documents\\2025\\MAIO (Malaysia AI Olympiad)\\Training\\[SELECTION 2]\\remainder\\plantA008_rgb.png: 640x640 A 1.00, C 0.00, B 0.00, 9.6ms\n",
      "Speed: 10.1ms preprocess, 9.6ms inference, 0.1ms postprocess per image at shape (1, 3, 640, 640)\n",
      "\n",
      "image 1/1 c:\\Users\\ochon\\OneDrive\\Documents\\2025\\MAIO (Malaysia AI Olympiad)\\Training\\[SELECTION 2]\\remainder\\plantA010_rgb.png: 640x640 A 1.00, C 0.00, B 0.00, 10.6ms\n",
      "Speed: 22.7ms preprocess, 10.6ms inference, 0.1ms postprocess per image at shape (1, 3, 640, 640)\n",
      "\n",
      "image 1/1 c:\\Users\\ochon\\OneDrive\\Documents\\2025\\MAIO (Malaysia AI Olympiad)\\Training\\[SELECTION 2]\\remainder\\plantA011_rgb.png: 640x640 A 1.00, C 0.00, B 0.00, 10.6ms\n",
      "Speed: 13.6ms preprocess, 10.6ms inference, 0.1ms postprocess per image at shape (1, 3, 640, 640)\n",
      "\n",
      "image 1/1 c:\\Users\\ochon\\OneDrive\\Documents\\2025\\MAIO (Malaysia AI Olympiad)\\Training\\[SELECTION 2]\\remainder\\plantA012_rgb.png: 640x640 A 1.00, C 0.00, B 0.00, 10.2ms\n",
      "Speed: 8.9ms preprocess, 10.2ms inference, 0.1ms postprocess per image at shape (1, 3, 640, 640)\n",
      "\n",
      "image 1/1 c:\\Users\\ochon\\OneDrive\\Documents\\2025\\MAIO (Malaysia AI Olympiad)\\Training\\[SELECTION 2]\\remainder\\plantA013_rgb.png: 640x640 A 1.00, C 0.00, B 0.00, 9.9ms\n",
      "Speed: 9.6ms preprocess, 9.9ms inference, 0.1ms postprocess per image at shape (1, 3, 640, 640)\n",
      "\n",
      "image 1/1 c:\\Users\\ochon\\OneDrive\\Documents\\2025\\MAIO (Malaysia AI Olympiad)\\Training\\[SELECTION 2]\\remainder\\plantA015_rgb.png: 640x640 A 1.00, C 0.00, B 0.00, 11.6ms\n",
      "Speed: 8.9ms preprocess, 11.6ms inference, 0.1ms postprocess per image at shape (1, 3, 640, 640)\n",
      "\n",
      "image 1/1 c:\\Users\\ochon\\OneDrive\\Documents\\2025\\MAIO (Malaysia AI Olympiad)\\Training\\[SELECTION 2]\\remainder\\plantA016_rgb.png: 640x640 A 1.00, C 0.00, B 0.00, 9.9ms\n",
      "Speed: 8.4ms preprocess, 9.9ms inference, 0.1ms postprocess per image at shape (1, 3, 640, 640)\n",
      "\n",
      "image 1/1 c:\\Users\\ochon\\OneDrive\\Documents\\2025\\MAIO (Malaysia AI Olympiad)\\Training\\[SELECTION 2]\\remainder\\plantA017_rgb.png: 640x640 A 1.00, C 0.00, B 0.00, 10.7ms\n",
      "Speed: 9.5ms preprocess, 10.7ms inference, 0.1ms postprocess per image at shape (1, 3, 640, 640)\n",
      "\n",
      "image 1/1 c:\\Users\\ochon\\OneDrive\\Documents\\2025\\MAIO (Malaysia AI Olympiad)\\Training\\[SELECTION 2]\\remainder\\plantA018_rgb.png: 640x640 A 1.00, C 0.00, B 0.00, 10.0ms\n",
      "Speed: 19.6ms preprocess, 10.0ms inference, 0.1ms postprocess per image at shape (1, 3, 640, 640)\n",
      "\n",
      "image 1/1 c:\\Users\\ochon\\OneDrive\\Documents\\2025\\MAIO (Malaysia AI Olympiad)\\Training\\[SELECTION 2]\\remainder\\plantA020_rgb.png: 640x640 A 1.00, C 0.00, B 0.00, 11.8ms\n",
      "Speed: 12.1ms preprocess, 11.8ms inference, 0.1ms postprocess per image at shape (1, 3, 640, 640)\n",
      "\n",
      "image 1/1 c:\\Users\\ochon\\OneDrive\\Documents\\2025\\MAIO (Malaysia AI Olympiad)\\Training\\[SELECTION 2]\\remainder\\plantA021_rgb.png: 640x640 A 1.00, C 0.00, B 0.00, 10.0ms\n",
      "Speed: 12.7ms preprocess, 10.0ms inference, 0.1ms postprocess per image at shape (1, 3, 640, 640)\n",
      "\n",
      "image 1/1 c:\\Users\\ochon\\OneDrive\\Documents\\2025\\MAIO (Malaysia AI Olympiad)\\Training\\[SELECTION 2]\\remainder\\plantA022_rgb.png: 640x640 A 1.00, C 0.00, B 0.00, 16.1ms\n",
      "Speed: 12.2ms preprocess, 16.1ms inference, 0.1ms postprocess per image at shape (1, 3, 640, 640)\n",
      "\n",
      "image 1/1 c:\\Users\\ochon\\OneDrive\\Documents\\2025\\MAIO (Malaysia AI Olympiad)\\Training\\[SELECTION 2]\\remainder\\plantA024_rgb.png: 640x640 A 1.00, C 0.00, B 0.00, 10.9ms\n",
      "Speed: 10.0ms preprocess, 10.9ms inference, 0.0ms postprocess per image at shape (1, 3, 640, 640)\n",
      "\n",
      "image 1/1 c:\\Users\\ochon\\OneDrive\\Documents\\2025\\MAIO (Malaysia AI Olympiad)\\Training\\[SELECTION 2]\\remainder\\plantA026_rgb.png: 640x640 A 1.00, C 0.00, B 0.00, 11.0ms\n",
      "Speed: 9.6ms preprocess, 11.0ms inference, 0.1ms postprocess per image at shape (1, 3, 640, 640)\n",
      "\n",
      "image 1/1 c:\\Users\\ochon\\OneDrive\\Documents\\2025\\MAIO (Malaysia AI Olympiad)\\Training\\[SELECTION 2]\\remainder\\plantA027_rgb.png: 640x640 A 1.00, C 0.00, B 0.00, 10.8ms\n",
      "Speed: 9.4ms preprocess, 10.8ms inference, 0.1ms postprocess per image at shape (1, 3, 640, 640)\n",
      "\n",
      "image 1/1 c:\\Users\\ochon\\OneDrive\\Documents\\2025\\MAIO (Malaysia AI Olympiad)\\Training\\[SELECTION 2]\\remainder\\plantA029_rgb.png: 640x640 A 1.00, C 0.00, B 0.00, 11.0ms\n",
      "Speed: 10.8ms preprocess, 11.0ms inference, 0.1ms postprocess per image at shape (1, 3, 640, 640)\n",
      "\n",
      "image 1/1 c:\\Users\\ochon\\OneDrive\\Documents\\2025\\MAIO (Malaysia AI Olympiad)\\Training\\[SELECTION 2]\\remainder\\plantA030_rgb.png: 640x640 A 1.00, C 0.00, B 0.00, 11.4ms\n",
      "Speed: 9.0ms preprocess, 11.4ms inference, 0.0ms postprocess per image at shape (1, 3, 640, 640)\n",
      "\n",
      "image 1/1 c:\\Users\\ochon\\OneDrive\\Documents\\2025\\MAIO (Malaysia AI Olympiad)\\Training\\[SELECTION 2]\\remainder\\plantA031_rgb.png: 640x640 A 1.00, C 0.00, B 0.00, 10.3ms\n",
      "Speed: 21.5ms preprocess, 10.3ms inference, 0.1ms postprocess per image at shape (1, 3, 640, 640)\n",
      "\n",
      "image 1/1 c:\\Users\\ochon\\OneDrive\\Documents\\2025\\MAIO (Malaysia AI Olympiad)\\Training\\[SELECTION 2]\\remainder\\plantA032_rgb.png: 640x640 A 1.00, C 0.00, B 0.00, 11.1ms\n",
      "Speed: 13.5ms preprocess, 11.1ms inference, 0.1ms postprocess per image at shape (1, 3, 640, 640)\n",
      "\n",
      "image 1/1 c:\\Users\\ochon\\OneDrive\\Documents\\2025\\MAIO (Malaysia AI Olympiad)\\Training\\[SELECTION 2]\\remainder\\plantA033_rgb.png: 640x640 A 1.00, C 0.00, B 0.00, 11.6ms\n",
      "Speed: 9.0ms preprocess, 11.6ms inference, 0.1ms postprocess per image at shape (1, 3, 640, 640)\n",
      "\n",
      "image 1/1 c:\\Users\\ochon\\OneDrive\\Documents\\2025\\MAIO (Malaysia AI Olympiad)\\Training\\[SELECTION 2]\\remainder\\plantA035_rgb.png: 640x640 A 1.00, C 0.00, B 0.00, 10.9ms\n",
      "Speed: 8.9ms preprocess, 10.9ms inference, 0.0ms postprocess per image at shape (1, 3, 640, 640)\n",
      "\n",
      "image 1/1 c:\\Users\\ochon\\OneDrive\\Documents\\2025\\MAIO (Malaysia AI Olympiad)\\Training\\[SELECTION 2]\\remainder\\plantA036_rgb.png: 640x640 A 1.00, C 0.00, B 0.00, 10.7ms\n",
      "Speed: 8.7ms preprocess, 10.7ms inference, 0.0ms postprocess per image at shape (1, 3, 640, 640)\n",
      "\n",
      "image 1/1 c:\\Users\\ochon\\OneDrive\\Documents\\2025\\MAIO (Malaysia AI Olympiad)\\Training\\[SELECTION 2]\\remainder\\plantA037_rgb.png: 640x640 A 1.00, C 0.00, B 0.00, 10.8ms\n",
      "Speed: 9.4ms preprocess, 10.8ms inference, 0.0ms postprocess per image at shape (1, 3, 640, 640)\n",
      "\n",
      "image 1/1 c:\\Users\\ochon\\OneDrive\\Documents\\2025\\MAIO (Malaysia AI Olympiad)\\Training\\[SELECTION 2]\\remainder\\plantA038_rgb.png: 640x640 A 1.00, C 0.00, B 0.00, 11.0ms\n",
      "Speed: 10.4ms preprocess, 11.0ms inference, 0.1ms postprocess per image at shape (1, 3, 640, 640)\n",
      "\n",
      "image 1/1 c:\\Users\\ochon\\OneDrive\\Documents\\2025\\MAIO (Malaysia AI Olympiad)\\Training\\[SELECTION 2]\\remainder\\plantA039_rgb.png: 640x640 A 1.00, C 0.00, B 0.00, 13.1ms\n",
      "Speed: 22.1ms preprocess, 13.1ms inference, 0.0ms postprocess per image at shape (1, 3, 640, 640)\n",
      "\n",
      "image 1/1 c:\\Users\\ochon\\OneDrive\\Documents\\2025\\MAIO (Malaysia AI Olympiad)\\Training\\[SELECTION 2]\\remainder\\plantA040_rgb.png: 640x640 A 1.00, C 0.00, B 0.00, 10.9ms\n",
      "Speed: 15.2ms preprocess, 10.9ms inference, 0.0ms postprocess per image at shape (1, 3, 640, 640)\n",
      "\n",
      "image 1/1 c:\\Users\\ochon\\OneDrive\\Documents\\2025\\MAIO (Malaysia AI Olympiad)\\Training\\[SELECTION 2]\\remainder\\plantA042_rgb.png: 640x640 A 1.00, C 0.00, B 0.00, 13.5ms\n",
      "Speed: 9.4ms preprocess, 13.5ms inference, 0.1ms postprocess per image at shape (1, 3, 640, 640)\n",
      "\n",
      "image 1/1 c:\\Users\\ochon\\OneDrive\\Documents\\2025\\MAIO (Malaysia AI Olympiad)\\Training\\[SELECTION 2]\\remainder\\plantA043_rgb.png: 640x640 A 1.00, C 0.00, B 0.00, 11.6ms\n",
      "Speed: 9.5ms preprocess, 11.6ms inference, 0.1ms postprocess per image at shape (1, 3, 640, 640)\n",
      "\n",
      "image 1/1 c:\\Users\\ochon\\OneDrive\\Documents\\2025\\MAIO (Malaysia AI Olympiad)\\Training\\[SELECTION 2]\\remainder\\plantA044_rgb.png: 640x640 A 1.00, C 0.00, B 0.00, 10.4ms\n",
      "Speed: 9.7ms preprocess, 10.4ms inference, 0.0ms postprocess per image at shape (1, 3, 640, 640)\n",
      "\n",
      "image 1/1 c:\\Users\\ochon\\OneDrive\\Documents\\2025\\MAIO (Malaysia AI Olympiad)\\Training\\[SELECTION 2]\\remainder\\plantA045_rgb.png: 640x640 A 1.00, C 0.00, B 0.00, 11.2ms\n",
      "Speed: 9.5ms preprocess, 11.2ms inference, 0.0ms postprocess per image at shape (1, 3, 640, 640)\n",
      "\n",
      "image 1/1 c:\\Users\\ochon\\OneDrive\\Documents\\2025\\MAIO (Malaysia AI Olympiad)\\Training\\[SELECTION 2]\\remainder\\plantA046_rgb.png: 640x640 A 1.00, C 0.00, B 0.00, 11.4ms\n",
      "Speed: 9.9ms preprocess, 11.4ms inference, 0.1ms postprocess per image at shape (1, 3, 640, 640)\n",
      "\n",
      "image 1/1 c:\\Users\\ochon\\OneDrive\\Documents\\2025\\MAIO (Malaysia AI Olympiad)\\Training\\[SELECTION 2]\\remainder\\plantA047_rgb.png: 640x640 A 1.00, C 0.00, B 0.00, 10.5ms\n",
      "Speed: 13.8ms preprocess, 10.5ms inference, 0.1ms postprocess per image at shape (1, 3, 640, 640)\n",
      "\n",
      "image 1/1 c:\\Users\\ochon\\OneDrive\\Documents\\2025\\MAIO (Malaysia AI Olympiad)\\Training\\[SELECTION 2]\\remainder\\plantA048_rgb.png: 640x640 A 1.00, C 0.00, B 0.00, 12.8ms\n",
      "Speed: 12.2ms preprocess, 12.8ms inference, 0.1ms postprocess per image at shape (1, 3, 640, 640)\n",
      "\n",
      "image 1/1 c:\\Users\\ochon\\OneDrive\\Documents\\2025\\MAIO (Malaysia AI Olympiad)\\Training\\[SELECTION 2]\\remainder\\plantA049_rgb.png: 640x640 A 1.00, C 0.00, B 0.00, 11.7ms\n",
      "Speed: 13.3ms preprocess, 11.7ms inference, 0.1ms postprocess per image at shape (1, 3, 640, 640)\n",
      "\n",
      "image 1/1 c:\\Users\\ochon\\OneDrive\\Documents\\2025\\MAIO (Malaysia AI Olympiad)\\Training\\[SELECTION 2]\\remainder\\plantA050_rgb.png: 640x640 A 1.00, C 0.00, B 0.00, 10.5ms\n",
      "Speed: 9.2ms preprocess, 10.5ms inference, 0.1ms postprocess per image at shape (1, 3, 640, 640)\n",
      "\n",
      "image 1/1 c:\\Users\\ochon\\OneDrive\\Documents\\2025\\MAIO (Malaysia AI Olympiad)\\Training\\[SELECTION 2]\\remainder\\plantA051_rgb.png: 640x640 A 1.00, C 0.00, B 0.00, 11.5ms\n",
      "Speed: 8.8ms preprocess, 11.5ms inference, 0.1ms postprocess per image at shape (1, 3, 640, 640)\n",
      "\n",
      "image 1/1 c:\\Users\\ochon\\OneDrive\\Documents\\2025\\MAIO (Malaysia AI Olympiad)\\Training\\[SELECTION 2]\\remainder\\plantA052_rgb.png: 640x640 A 1.00, C 0.00, B 0.00, 11.7ms\n",
      "Speed: 9.1ms preprocess, 11.7ms inference, 0.1ms postprocess per image at shape (1, 3, 640, 640)\n",
      "\n",
      "image 1/1 c:\\Users\\ochon\\OneDrive\\Documents\\2025\\MAIO (Malaysia AI Olympiad)\\Training\\[SELECTION 2]\\remainder\\plantA053_rgb.png: 640x640 A 1.00, C 0.00, B 0.00, 12.6ms\n",
      "Speed: 9.0ms preprocess, 12.6ms inference, 0.1ms postprocess per image at shape (1, 3, 640, 640)\n",
      "\n",
      "image 1/1 c:\\Users\\ochon\\OneDrive\\Documents\\2025\\MAIO (Malaysia AI Olympiad)\\Training\\[SELECTION 2]\\remainder\\plantA054_rgb.png: 640x640 A 1.00, C 0.00, B 0.00, 16.5ms\n",
      "Speed: 9.1ms preprocess, 16.5ms inference, 0.0ms postprocess per image at shape (1, 3, 640, 640)\n",
      "\n",
      "image 1/1 c:\\Users\\ochon\\OneDrive\\Documents\\2025\\MAIO (Malaysia AI Olympiad)\\Training\\[SELECTION 2]\\remainder\\plantA055_rgb.png: 640x640 A 1.00, C 0.00, B 0.00, 11.4ms\n",
      "Speed: 12.5ms preprocess, 11.4ms inference, 0.1ms postprocess per image at shape (1, 3, 640, 640)\n",
      "\n",
      "image 1/1 c:\\Users\\ochon\\OneDrive\\Documents\\2025\\MAIO (Malaysia AI Olympiad)\\Training\\[SELECTION 2]\\remainder\\plantA057_rgb.png: 640x640 A 1.00, C 0.00, B 0.00, 16.0ms\n",
      "Speed: 11.7ms preprocess, 16.0ms inference, 0.1ms postprocess per image at shape (1, 3, 640, 640)\n",
      "\n",
      "image 1/1 c:\\Users\\ochon\\OneDrive\\Documents\\2025\\MAIO (Malaysia AI Olympiad)\\Training\\[SELECTION 2]\\remainder\\plantA058_rgb.png: 640x640 A 1.00, C 0.00, B 0.00, 11.5ms\n",
      "Speed: 9.4ms preprocess, 11.5ms inference, 0.0ms postprocess per image at shape (1, 3, 640, 640)\n",
      "\n",
      "image 1/1 c:\\Users\\ochon\\OneDrive\\Documents\\2025\\MAIO (Malaysia AI Olympiad)\\Training\\[SELECTION 2]\\remainder\\plantA059_rgb.png: 640x640 A 1.00, C 0.00, B 0.00, 12.4ms\n",
      "Speed: 9.4ms preprocess, 12.4ms inference, 0.1ms postprocess per image at shape (1, 3, 640, 640)\n",
      "\n",
      "image 1/1 c:\\Users\\ochon\\OneDrive\\Documents\\2025\\MAIO (Malaysia AI Olympiad)\\Training\\[SELECTION 2]\\remainder\\plantA060_rgb.png: 640x640 A 1.00, C 0.00, B 0.00, 10.5ms\n",
      "Speed: 10.2ms preprocess, 10.5ms inference, 0.0ms postprocess per image at shape (1, 3, 640, 640)\n",
      "\n",
      "image 1/1 c:\\Users\\ochon\\OneDrive\\Documents\\2025\\MAIO (Malaysia AI Olympiad)\\Training\\[SELECTION 2]\\remainder\\plantA061_rgb.png: 640x640 A 1.00, C 0.00, B 0.00, 12.3ms\n",
      "Speed: 9.7ms preprocess, 12.3ms inference, 0.0ms postprocess per image at shape (1, 3, 640, 640)\n",
      "\n",
      "image 1/1 c:\\Users\\ochon\\OneDrive\\Documents\\2025\\MAIO (Malaysia AI Olympiad)\\Training\\[SELECTION 2]\\remainder\\plantA062_rgb.png: 640x640 A 1.00, C 0.00, B 0.00, 11.4ms\n",
      "Speed: 8.6ms preprocess, 11.4ms inference, 0.1ms postprocess per image at shape (1, 3, 640, 640)\n",
      "\n",
      "image 1/1 c:\\Users\\ochon\\OneDrive\\Documents\\2025\\MAIO (Malaysia AI Olympiad)\\Training\\[SELECTION 2]\\remainder\\plantA063_rgb.png: 640x640 A 1.00, C 0.00, B 0.00, 12.7ms\n",
      "Speed: 17.5ms preprocess, 12.7ms inference, 0.1ms postprocess per image at shape (1, 3, 640, 640)\n",
      "\n",
      "image 1/1 c:\\Users\\ochon\\OneDrive\\Documents\\2025\\MAIO (Malaysia AI Olympiad)\\Training\\[SELECTION 2]\\remainder\\plantA064_rgb.png: 640x640 A 1.00, C 0.00, B 0.00, 11.8ms\n",
      "Speed: 12.9ms preprocess, 11.8ms inference, 0.1ms postprocess per image at shape (1, 3, 640, 640)\n",
      "\n",
      "image 1/1 c:\\Users\\ochon\\OneDrive\\Documents\\2025\\MAIO (Malaysia AI Olympiad)\\Training\\[SELECTION 2]\\remainder\\plantA065_rgb.png: 640x640 A 1.00, C 0.00, B 0.00, 11.7ms\n",
      "Speed: 9.1ms preprocess, 11.7ms inference, 0.1ms postprocess per image at shape (1, 3, 640, 640)\n",
      "\n",
      "image 1/1 c:\\Users\\ochon\\OneDrive\\Documents\\2025\\MAIO (Malaysia AI Olympiad)\\Training\\[SELECTION 2]\\remainder\\plantA067_rgb.png: 640x640 A 1.00, C 0.00, B 0.00, 12.3ms\n",
      "Speed: 9.4ms preprocess, 12.3ms inference, 0.1ms postprocess per image at shape (1, 3, 640, 640)\n",
      "\n",
      "image 1/1 c:\\Users\\ochon\\OneDrive\\Documents\\2025\\MAIO (Malaysia AI Olympiad)\\Training\\[SELECTION 2]\\remainder\\plantA068_rgb.png: 640x640 A 1.00, C 0.00, B 0.00, 11.5ms\n",
      "Speed: 9.4ms preprocess, 11.5ms inference, 0.1ms postprocess per image at shape (1, 3, 640, 640)\n",
      "\n",
      "image 1/1 c:\\Users\\ochon\\OneDrive\\Documents\\2025\\MAIO (Malaysia AI Olympiad)\\Training\\[SELECTION 2]\\remainder\\plantA069_rgb.png: 640x640 A 1.00, C 0.00, B 0.00, 10.5ms\n",
      "Speed: 8.5ms preprocess, 10.5ms inference, 0.0ms postprocess per image at shape (1, 3, 640, 640)\n",
      "\n",
      "image 1/1 c:\\Users\\ochon\\OneDrive\\Documents\\2025\\MAIO (Malaysia AI Olympiad)\\Training\\[SELECTION 2]\\remainder\\plantA070_rgb.png: 640x640 A 1.00, C 0.00, B 0.00, 14.3ms\n",
      "Speed: 17.9ms preprocess, 14.3ms inference, 0.1ms postprocess per image at shape (1, 3, 640, 640)\n",
      "\n",
      "image 1/1 c:\\Users\\ochon\\OneDrive\\Documents\\2025\\MAIO (Malaysia AI Olympiad)\\Training\\[SELECTION 2]\\remainder\\plantA071_rgb.png: 640x640 A 1.00, C 0.00, B 0.00, 11.5ms\n",
      "Speed: 12.2ms preprocess, 11.5ms inference, 0.1ms postprocess per image at shape (1, 3, 640, 640)\n",
      "\n",
      "image 1/1 c:\\Users\\ochon\\OneDrive\\Documents\\2025\\MAIO (Malaysia AI Olympiad)\\Training\\[SELECTION 2]\\remainder\\plantA072_rgb.png: 640x640 A 1.00, C 0.00, B 0.00, 13.7ms\n",
      "Speed: 10.8ms preprocess, 13.7ms inference, 0.0ms postprocess per image at shape (1, 3, 640, 640)\n",
      "\n",
      "image 1/1 c:\\Users\\ochon\\OneDrive\\Documents\\2025\\MAIO (Malaysia AI Olympiad)\\Training\\[SELECTION 2]\\remainder\\plantA073_rgb.png: 640x640 A 1.00, C 0.00, B 0.00, 13.4ms\n",
      "Speed: 9.2ms preprocess, 13.4ms inference, 0.0ms postprocess per image at shape (1, 3, 640, 640)\n",
      "\n",
      "image 1/1 c:\\Users\\ochon\\OneDrive\\Documents\\2025\\MAIO (Malaysia AI Olympiad)\\Training\\[SELECTION 2]\\remainder\\plantA076_rgb.png: 640x640 A 1.00, C 0.00, B 0.00, 10.5ms\n",
      "Speed: 9.0ms preprocess, 10.5ms inference, 0.1ms postprocess per image at shape (1, 3, 640, 640)\n",
      "\n",
      "image 1/1 c:\\Users\\ochon\\OneDrive\\Documents\\2025\\MAIO (Malaysia AI Olympiad)\\Training\\[SELECTION 2]\\remainder\\plantA077_rgb.png: 640x640 A 1.00, C 0.00, B 0.00, 11.2ms\n",
      "Speed: 10.2ms preprocess, 11.2ms inference, 0.0ms postprocess per image at shape (1, 3, 640, 640)\n",
      "\n",
      "image 1/1 c:\\Users\\ochon\\OneDrive\\Documents\\2025\\MAIO (Malaysia AI Olympiad)\\Training\\[SELECTION 2]\\remainder\\plantA078_rgb.png: 640x640 A 1.00, C 0.00, B 0.00, 10.5ms\n",
      "Speed: 8.8ms preprocess, 10.5ms inference, 0.1ms postprocess per image at shape (1, 3, 640, 640)\n",
      "\n",
      "image 1/1 c:\\Users\\ochon\\OneDrive\\Documents\\2025\\MAIO (Malaysia AI Olympiad)\\Training\\[SELECTION 2]\\remainder\\plantA079_rgb.png: 640x640 A 1.00, C 0.00, B 0.00, 11.5ms\n",
      "Speed: 17.8ms preprocess, 11.5ms inference, 0.1ms postprocess per image at shape (1, 3, 640, 640)\n",
      "\n",
      "image 1/1 c:\\Users\\ochon\\OneDrive\\Documents\\2025\\MAIO (Malaysia AI Olympiad)\\Training\\[SELECTION 2]\\remainder\\plantA080_rgb.png: 640x640 A 1.00, C 0.00, B 0.00, 11.4ms\n",
      "Speed: 14.6ms preprocess, 11.4ms inference, 0.0ms postprocess per image at shape (1, 3, 640, 640)\n",
      "\n",
      "image 1/1 c:\\Users\\ochon\\OneDrive\\Documents\\2025\\MAIO (Malaysia AI Olympiad)\\Training\\[SELECTION 2]\\remainder\\plantA082_rgb.png: 640x640 A 1.00, C 0.00, B 0.00, 12.5ms\n",
      "Speed: 8.3ms preprocess, 12.5ms inference, 0.1ms postprocess per image at shape (1, 3, 640, 640)\n",
      "\n",
      "image 1/1 c:\\Users\\ochon\\OneDrive\\Documents\\2025\\MAIO (Malaysia AI Olympiad)\\Training\\[SELECTION 2]\\remainder\\plantA083_rgb.png: 640x640 A 1.00, C 0.00, B 0.00, 11.7ms\n",
      "Speed: 9.8ms preprocess, 11.7ms inference, 0.1ms postprocess per image at shape (1, 3, 640, 640)\n",
      "\n",
      "image 1/1 c:\\Users\\ochon\\OneDrive\\Documents\\2025\\MAIO (Malaysia AI Olympiad)\\Training\\[SELECTION 2]\\remainder\\plantA084_rgb.png: 640x640 A 1.00, C 0.00, B 0.00, 11.5ms\n",
      "Speed: 10.5ms preprocess, 11.5ms inference, 0.1ms postprocess per image at shape (1, 3, 640, 640)\n",
      "\n",
      "image 1/1 c:\\Users\\ochon\\OneDrive\\Documents\\2025\\MAIO (Malaysia AI Olympiad)\\Training\\[SELECTION 2]\\remainder\\plantA085_rgb.png: 640x640 A 1.00, C 0.00, B 0.00, 10.5ms\n",
      "Speed: 10.0ms preprocess, 10.5ms inference, 0.1ms postprocess per image at shape (1, 3, 640, 640)\n",
      "\n",
      "image 1/1 c:\\Users\\ochon\\OneDrive\\Documents\\2025\\MAIO (Malaysia AI Olympiad)\\Training\\[SELECTION 2]\\remainder\\plantA086_rgb.png: 640x640 A 1.00, C 0.00, B 0.00, 11.4ms\n",
      "Speed: 10.8ms preprocess, 11.4ms inference, 0.1ms postprocess per image at shape (1, 3, 640, 640)\n",
      "\n",
      "image 1/1 c:\\Users\\ochon\\OneDrive\\Documents\\2025\\MAIO (Malaysia AI Olympiad)\\Training\\[SELECTION 2]\\remainder\\plantA088_rgb.png: 640x640 A 1.00, C 0.00, B 0.00, 13.1ms\n",
      "Speed: 19.1ms preprocess, 13.1ms inference, 0.1ms postprocess per image at shape (1, 3, 640, 640)\n",
      "\n",
      "image 1/1 c:\\Users\\ochon\\OneDrive\\Documents\\2025\\MAIO (Malaysia AI Olympiad)\\Training\\[SELECTION 2]\\remainder\\plantA089_rgb.png: 640x640 A 1.00, C 0.00, B 0.00, 15.3ms\n",
      "Speed: 10.4ms preprocess, 15.3ms inference, 0.0ms postprocess per image at shape (1, 3, 640, 640)\n",
      "\n",
      "image 1/1 c:\\Users\\ochon\\OneDrive\\Documents\\2025\\MAIO (Malaysia AI Olympiad)\\Training\\[SELECTION 2]\\remainder\\plantA090_rgb.png: 640x640 A 1.00, C 0.00, B 0.00, 11.5ms\n",
      "Speed: 10.5ms preprocess, 11.5ms inference, 0.0ms postprocess per image at shape (1, 3, 640, 640)\n",
      "\n",
      "image 1/1 c:\\Users\\ochon\\OneDrive\\Documents\\2025\\MAIO (Malaysia AI Olympiad)\\Training\\[SELECTION 2]\\remainder\\plantA091_rgb.png: 640x640 A 1.00, C 0.00, B 0.00, 12.2ms\n",
      "Speed: 10.5ms preprocess, 12.2ms inference, 0.0ms postprocess per image at shape (1, 3, 640, 640)\n",
      "\n",
      "image 1/1 c:\\Users\\ochon\\OneDrive\\Documents\\2025\\MAIO (Malaysia AI Olympiad)\\Training\\[SELECTION 2]\\remainder\\plantA092_rgb.png: 640x640 A 1.00, C 0.00, B 0.00, 11.4ms\n",
      "Speed: 9.6ms preprocess, 11.4ms inference, 0.1ms postprocess per image at shape (1, 3, 640, 640)\n",
      "\n",
      "image 1/1 c:\\Users\\ochon\\OneDrive\\Documents\\2025\\MAIO (Malaysia AI Olympiad)\\Training\\[SELECTION 2]\\remainder\\plantA094_rgb.png: 640x640 A 1.00, C 0.00, B 0.00, 11.2ms\n",
      "Speed: 9.8ms preprocess, 11.2ms inference, 0.1ms postprocess per image at shape (1, 3, 640, 640)\n",
      "\n",
      "image 1/1 c:\\Users\\ochon\\OneDrive\\Documents\\2025\\MAIO (Malaysia AI Olympiad)\\Training\\[SELECTION 2]\\remainder\\plantA096_rgb.png: 640x640 A 1.00, C 0.00, B 0.00, 11.5ms\n",
      "Speed: 9.9ms preprocess, 11.5ms inference, 0.2ms postprocess per image at shape (1, 3, 640, 640)\n",
      "\n",
      "image 1/1 c:\\Users\\ochon\\OneDrive\\Documents\\2025\\MAIO (Malaysia AI Olympiad)\\Training\\[SELECTION 2]\\remainder\\plantA098_rgb.png: 640x640 A 1.00, C 0.00, B 0.00, 11.6ms\n",
      "Speed: 17.7ms preprocess, 11.6ms inference, 0.1ms postprocess per image at shape (1, 3, 640, 640)\n",
      "\n",
      "image 1/1 c:\\Users\\ochon\\OneDrive\\Documents\\2025\\MAIO (Malaysia AI Olympiad)\\Training\\[SELECTION 2]\\remainder\\plantA099_rgb.png: 640x640 A 1.00, C 0.00, B 0.00, 12.1ms\n",
      "Speed: 13.2ms preprocess, 12.1ms inference, 0.0ms postprocess per image at shape (1, 3, 640, 640)\n",
      "\n",
      "image 1/1 c:\\Users\\ochon\\OneDrive\\Documents\\2025\\MAIO (Malaysia AI Olympiad)\\Training\\[SELECTION 2]\\remainder\\plantA100_rgb.png: 640x640 A 1.00, C 0.00, B 0.00, 12.4ms\n",
      "Speed: 12.8ms preprocess, 12.4ms inference, 0.1ms postprocess per image at shape (1, 3, 640, 640)\n",
      "\n",
      "image 1/1 c:\\Users\\ochon\\OneDrive\\Documents\\2025\\MAIO (Malaysia AI Olympiad)\\Training\\[SELECTION 2]\\remainder\\plantA101_rgb.png: 640x640 A 1.00, C 0.00, B 0.00, 11.3ms\n",
      "Speed: 11.9ms preprocess, 11.3ms inference, 0.1ms postprocess per image at shape (1, 3, 640, 640)\n",
      "\n",
      "image 1/1 c:\\Users\\ochon\\OneDrive\\Documents\\2025\\MAIO (Malaysia AI Olympiad)\\Training\\[SELECTION 2]\\remainder\\plantA102_rgb.png: 640x640 A 1.00, C 0.00, B 0.00, 11.7ms\n",
      "Speed: 12.3ms preprocess, 11.7ms inference, 0.1ms postprocess per image at shape (1, 3, 640, 640)\n",
      "\n",
      "image 1/1 c:\\Users\\ochon\\OneDrive\\Documents\\2025\\MAIO (Malaysia AI Olympiad)\\Training\\[SELECTION 2]\\remainder\\plantA104_rgb.png: 640x640 A 1.00, C 0.00, B 0.00, 12.7ms\n",
      "Speed: 11.3ms preprocess, 12.7ms inference, 0.1ms postprocess per image at shape (1, 3, 640, 640)\n",
      "\n",
      "image 1/1 c:\\Users\\ochon\\OneDrive\\Documents\\2025\\MAIO (Malaysia AI Olympiad)\\Training\\[SELECTION 2]\\remainder\\plantA105_rgb.png: 640x640 A 1.00, C 0.00, B 0.00, 14.1ms\n",
      "Speed: 16.9ms preprocess, 14.1ms inference, 0.1ms postprocess per image at shape (1, 3, 640, 640)\n",
      "\n",
      "image 1/1 c:\\Users\\ochon\\OneDrive\\Documents\\2025\\MAIO (Malaysia AI Olympiad)\\Training\\[SELECTION 2]\\remainder\\plantA106_rgb.png: 640x640 A 1.00, C 0.00, B 0.00, 15.4ms\n",
      "Speed: 14.6ms preprocess, 15.4ms inference, 0.1ms postprocess per image at shape (1, 3, 640, 640)\n",
      "\n",
      "image 1/1 c:\\Users\\ochon\\OneDrive\\Documents\\2025\\MAIO (Malaysia AI Olympiad)\\Training\\[SELECTION 2]\\remainder\\plantA107_rgb.png: 640x640 A 1.00, C 0.00, B 0.00, 12.5ms\n",
      "Speed: 9.2ms preprocess, 12.5ms inference, 0.1ms postprocess per image at shape (1, 3, 640, 640)\n",
      "\n",
      "image 1/1 c:\\Users\\ochon\\OneDrive\\Documents\\2025\\MAIO (Malaysia AI Olympiad)\\Training\\[SELECTION 2]\\remainder\\plantA108_rgb.png: 640x640 A 1.00, C 0.00, B 0.00, 13.2ms\n",
      "Speed: 9.7ms preprocess, 13.2ms inference, 0.1ms postprocess per image at shape (1, 3, 640, 640)\n",
      "\n",
      "image 1/1 c:\\Users\\ochon\\OneDrive\\Documents\\2025\\MAIO (Malaysia AI Olympiad)\\Training\\[SELECTION 2]\\remainder\\plantA109_rgb.png: 640x640 A 1.00, C 0.00, B 0.00, 12.2ms\n",
      "Speed: 10.9ms preprocess, 12.2ms inference, 0.0ms postprocess per image at shape (1, 3, 640, 640)\n",
      "\n",
      "image 1/1 c:\\Users\\ochon\\OneDrive\\Documents\\2025\\MAIO (Malaysia AI Olympiad)\\Training\\[SELECTION 2]\\remainder\\plantA110_rgb.png: 640x640 A 1.00, C 0.00, B 0.00, 13.0ms\n",
      "Speed: 8.7ms preprocess, 13.0ms inference, 0.1ms postprocess per image at shape (1, 3, 640, 640)\n",
      "\n",
      "image 1/1 c:\\Users\\ochon\\OneDrive\\Documents\\2025\\MAIO (Malaysia AI Olympiad)\\Training\\[SELECTION 2]\\remainder\\plantA113_rgb.png: 640x640 A 1.00, C 0.00, B 0.00, 11.1ms\n",
      "Speed: 9.3ms preprocess, 11.1ms inference, 0.0ms postprocess per image at shape (1, 3, 640, 640)\n",
      "\n",
      "image 1/1 c:\\Users\\ochon\\OneDrive\\Documents\\2025\\MAIO (Malaysia AI Olympiad)\\Training\\[SELECTION 2]\\remainder\\plantA114_rgb.png: 640x640 A 1.00, C 0.00, B 0.00, 13.8ms\n",
      "Speed: 15.4ms preprocess, 13.8ms inference, 0.1ms postprocess per image at shape (1, 3, 640, 640)\n",
      "\n",
      "image 1/1 c:\\Users\\ochon\\OneDrive\\Documents\\2025\\MAIO (Malaysia AI Olympiad)\\Training\\[SELECTION 2]\\remainder\\plantA115_rgb.png: 640x640 A 1.00, C 0.00, B 0.00, 12.2ms\n",
      "Speed: 12.8ms preprocess, 12.2ms inference, 0.0ms postprocess per image at shape (1, 3, 640, 640)\n",
      "\n",
      "image 1/1 c:\\Users\\ochon\\OneDrive\\Documents\\2025\\MAIO (Malaysia AI Olympiad)\\Training\\[SELECTION 2]\\remainder\\plantA116_rgb.png: 640x640 A 1.00, C 0.00, B 0.00, 13.1ms\n",
      "Speed: 15.1ms preprocess, 13.1ms inference, 0.1ms postprocess per image at shape (1, 3, 640, 640)\n",
      "\n",
      "image 1/1 c:\\Users\\ochon\\OneDrive\\Documents\\2025\\MAIO (Malaysia AI Olympiad)\\Training\\[SELECTION 2]\\remainder\\plantA118_rgb.png: 640x640 A 1.00, C 0.00, B 0.00, 11.1ms\n",
      "Speed: 9.1ms preprocess, 11.1ms inference, 0.1ms postprocess per image at shape (1, 3, 640, 640)\n",
      "\n",
      "image 1/1 c:\\Users\\ochon\\OneDrive\\Documents\\2025\\MAIO (Malaysia AI Olympiad)\\Training\\[SELECTION 2]\\remainder\\plantA119_rgb.png: 640x640 A 1.00, C 0.00, B 0.00, 12.0ms\n",
      "Speed: 10.0ms preprocess, 12.0ms inference, 0.0ms postprocess per image at shape (1, 3, 640, 640)\n",
      "\n",
      "image 1/1 c:\\Users\\ochon\\OneDrive\\Documents\\2025\\MAIO (Malaysia AI Olympiad)\\Training\\[SELECTION 2]\\remainder\\plantA120_rgb.png: 640x640 A 1.00, C 0.00, B 0.00, 12.3ms\n",
      "Speed: 9.7ms preprocess, 12.3ms inference, 0.1ms postprocess per image at shape (1, 3, 640, 640)\n",
      "\n",
      "image 1/1 c:\\Users\\ochon\\OneDrive\\Documents\\2025\\MAIO (Malaysia AI Olympiad)\\Training\\[SELECTION 2]\\remainder\\plantA121_rgb.png: 640x640 A 1.00, C 0.00, B 0.00, 11.9ms\n",
      "Speed: 12.1ms preprocess, 11.9ms inference, 0.1ms postprocess per image at shape (1, 3, 640, 640)\n",
      "\n",
      "image 1/1 c:\\Users\\ochon\\OneDrive\\Documents\\2025\\MAIO (Malaysia AI Olympiad)\\Training\\[SELECTION 2]\\remainder\\plantA123_rgb.png: 640x640 A 1.00, C 0.00, B 0.00, 12.4ms\n",
      "Speed: 19.7ms preprocess, 12.4ms inference, 0.1ms postprocess per image at shape (1, 3, 640, 640)\n",
      "\n",
      "image 1/1 c:\\Users\\ochon\\OneDrive\\Documents\\2025\\MAIO (Malaysia AI Olympiad)\\Training\\[SELECTION 2]\\remainder\\plantA124_rgb.png: 640x640 A 1.00, C 0.00, B 0.00, 12.0ms\n",
      "Speed: 14.6ms preprocess, 12.0ms inference, 0.1ms postprocess per image at shape (1, 3, 640, 640)\n",
      "\n",
      "image 1/1 c:\\Users\\ochon\\OneDrive\\Documents\\2025\\MAIO (Malaysia AI Olympiad)\\Training\\[SELECTION 2]\\remainder\\plantA126_rgb.png: 640x640 A 1.00, C 0.00, B 0.00, 12.0ms\n",
      "Speed: 11.6ms preprocess, 12.0ms inference, 0.0ms postprocess per image at shape (1, 3, 640, 640)\n",
      "\n",
      "image 1/1 c:\\Users\\ochon\\OneDrive\\Documents\\2025\\MAIO (Malaysia AI Olympiad)\\Training\\[SELECTION 2]\\remainder\\plantA127_rgb.png: 640x640 A 1.00, C 0.00, B 0.00, 12.3ms\n",
      "Speed: 10.7ms preprocess, 12.3ms inference, 0.1ms postprocess per image at shape (1, 3, 640, 640)\n",
      "\n",
      "image 1/1 c:\\Users\\ochon\\OneDrive\\Documents\\2025\\MAIO (Malaysia AI Olympiad)\\Training\\[SELECTION 2]\\remainder\\plantA128_rgb.png: 640x640 A 1.00, C 0.00, B 0.00, 12.6ms\n",
      "Speed: 10.1ms preprocess, 12.6ms inference, 0.1ms postprocess per image at shape (1, 3, 640, 640)\n",
      "\n",
      "image 1/1 c:\\Users\\ochon\\OneDrive\\Documents\\2025\\MAIO (Malaysia AI Olympiad)\\Training\\[SELECTION 2]\\remainder\\plantA129_rgb.png: 640x640 A 1.00, C 0.00, B 0.00, 12.0ms\n",
      "Speed: 9.9ms preprocess, 12.0ms inference, 0.0ms postprocess per image at shape (1, 3, 640, 640)\n",
      "\n",
      "image 1/1 c:\\Users\\ochon\\OneDrive\\Documents\\2025\\MAIO (Malaysia AI Olympiad)\\Training\\[SELECTION 2]\\remainder\\plantA130_rgb.png: 640x640 A 1.00, C 0.00, B 0.00, 11.9ms\n",
      "Speed: 14.2ms preprocess, 11.9ms inference, 0.1ms postprocess per image at shape (1, 3, 640, 640)\n",
      "\n",
      "image 1/1 c:\\Users\\ochon\\OneDrive\\Documents\\2025\\MAIO (Malaysia AI Olympiad)\\Training\\[SELECTION 2]\\remainder\\plantA132_rgb.png: 640x640 A 1.00, C 0.00, B 0.00, 13.1ms\n",
      "Speed: 14.2ms preprocess, 13.1ms inference, 0.1ms postprocess per image at shape (1, 3, 640, 640)\n",
      "\n",
      "image 1/1 c:\\Users\\ochon\\OneDrive\\Documents\\2025\\MAIO (Malaysia AI Olympiad)\\Training\\[SELECTION 2]\\remainder\\plantA133_rgb.png: 640x640 A 1.00, C 0.00, B 0.00, 13.1ms\n",
      "Speed: 9.1ms preprocess, 13.1ms inference, 0.1ms postprocess per image at shape (1, 3, 640, 640)\n",
      "\n",
      "image 1/1 c:\\Users\\ochon\\OneDrive\\Documents\\2025\\MAIO (Malaysia AI Olympiad)\\Training\\[SELECTION 2]\\remainder\\plantA134_rgb.png: 640x640 A 1.00, C 0.00, B 0.00, 12.2ms\n",
      "Speed: 10.0ms preprocess, 12.2ms inference, 0.1ms postprocess per image at shape (1, 3, 640, 640)\n",
      "\n",
      "image 1/1 c:\\Users\\ochon\\OneDrive\\Documents\\2025\\MAIO (Malaysia AI Olympiad)\\Training\\[SELECTION 2]\\remainder\\plantA135_rgb.png: 640x640 A 1.00, C 0.00, B 0.00, 12.2ms\n",
      "Speed: 10.6ms preprocess, 12.2ms inference, 0.0ms postprocess per image at shape (1, 3, 640, 640)\n",
      "\n",
      "image 1/1 c:\\Users\\ochon\\OneDrive\\Documents\\2025\\MAIO (Malaysia AI Olympiad)\\Training\\[SELECTION 2]\\remainder\\plantA137_rgb.png: 640x640 A 1.00, C 0.00, B 0.00, 11.1ms\n",
      "Speed: 11.6ms preprocess, 11.1ms inference, 0.1ms postprocess per image at shape (1, 3, 640, 640)\n",
      "\n",
      "image 1/1 c:\\Users\\ochon\\OneDrive\\Documents\\2025\\MAIO (Malaysia AI Olympiad)\\Training\\[SELECTION 2]\\remainder\\plantA138_rgb.png: 640x640 A 1.00, C 0.00, B 0.00, 16.5ms\n",
      "Speed: 10.3ms preprocess, 16.5ms inference, 0.1ms postprocess per image at shape (1, 3, 640, 640)\n",
      "\n",
      "image 1/1 c:\\Users\\ochon\\OneDrive\\Documents\\2025\\MAIO (Malaysia AI Olympiad)\\Training\\[SELECTION 2]\\remainder\\plantA139_rgb.png: 640x640 A 1.00, C 0.00, B 0.00, 12.3ms\n",
      "Speed: 20.2ms preprocess, 12.3ms inference, 0.0ms postprocess per image at shape (1, 3, 640, 640)\n",
      "\n",
      "image 1/1 c:\\Users\\ochon\\OneDrive\\Documents\\2025\\MAIO (Malaysia AI Olympiad)\\Training\\[SELECTION 2]\\remainder\\plantA141_rgb.png: 640x640 A 1.00, C 0.00, B 0.00, 12.1ms\n",
      "Speed: 16.0ms preprocess, 12.1ms inference, 0.0ms postprocess per image at shape (1, 3, 640, 640)\n",
      "\n",
      "image 1/1 c:\\Users\\ochon\\OneDrive\\Documents\\2025\\MAIO (Malaysia AI Olympiad)\\Training\\[SELECTION 2]\\remainder\\plantA142_rgb.png: 640x640 A 1.00, C 0.00, B 0.00, 11.1ms\n",
      "Speed: 9.4ms preprocess, 11.1ms inference, 0.1ms postprocess per image at shape (1, 3, 640, 640)\n",
      "\n",
      "image 1/1 c:\\Users\\ochon\\OneDrive\\Documents\\2025\\MAIO (Malaysia AI Olympiad)\\Training\\[SELECTION 2]\\remainder\\plantA143_rgb.png: 640x640 A 1.00, C 0.00, B 0.00, 13.0ms\n",
      "Speed: 10.2ms preprocess, 13.0ms inference, 0.1ms postprocess per image at shape (1, 3, 640, 640)\n",
      "\n",
      "image 1/1 c:\\Users\\ochon\\OneDrive\\Documents\\2025\\MAIO (Malaysia AI Olympiad)\\Training\\[SELECTION 2]\\remainder\\plantA144_rgb.png: 640x640 A 1.00, C 0.00, B 0.00, 12.2ms\n",
      "Speed: 10.1ms preprocess, 12.2ms inference, 0.0ms postprocess per image at shape (1, 3, 640, 640)\n",
      "\n",
      "image 1/1 c:\\Users\\ochon\\OneDrive\\Documents\\2025\\MAIO (Malaysia AI Olympiad)\\Training\\[SELECTION 2]\\remainder\\plantA145_rgb.png: 640x640 A 1.00, C 0.00, B 0.00, 13.2ms\n",
      "Speed: 10.8ms preprocess, 13.2ms inference, 0.0ms postprocess per image at shape (1, 3, 640, 640)\n",
      "\n",
      "image 1/1 c:\\Users\\ochon\\OneDrive\\Documents\\2025\\MAIO (Malaysia AI Olympiad)\\Training\\[SELECTION 2]\\remainder\\plantA146_rgb.png: 640x640 A 1.00, C 0.00, B 0.00, 11.1ms\n",
      "Speed: 9.7ms preprocess, 11.1ms inference, 0.0ms postprocess per image at shape (1, 3, 640, 640)\n",
      "\n",
      "image 1/1 c:\\Users\\ochon\\OneDrive\\Documents\\2025\\MAIO (Malaysia AI Olympiad)\\Training\\[SELECTION 2]\\remainder\\plantA147_rgb.png: 640x640 A 1.00, C 0.00, B 0.00, 12.0ms\n",
      "Speed: 9.7ms preprocess, 12.0ms inference, 0.1ms postprocess per image at shape (1, 3, 640, 640)\n",
      "\n",
      "image 1/1 c:\\Users\\ochon\\OneDrive\\Documents\\2025\\MAIO (Malaysia AI Olympiad)\\Training\\[SELECTION 2]\\remainder\\plantA148_rgb.png: 640x640 A 1.00, C 0.00, B 0.00, 12.1ms\n",
      "Speed: 19.1ms preprocess, 12.1ms inference, 0.2ms postprocess per image at shape (1, 3, 640, 640)\n",
      "\n",
      "image 1/1 c:\\Users\\ochon\\OneDrive\\Documents\\2025\\MAIO (Malaysia AI Olympiad)\\Training\\[SELECTION 2]\\remainder\\plantA149_rgb.png: 640x640 A 1.00, C 0.00, B 0.00, 12.3ms\n",
      "Speed: 10.4ms preprocess, 12.3ms inference, 0.1ms postprocess per image at shape (1, 3, 640, 640)\n",
      "\n",
      "image 1/1 c:\\Users\\ochon\\OneDrive\\Documents\\2025\\MAIO (Malaysia AI Olympiad)\\Training\\[SELECTION 2]\\remainder\\plantA151_rgb.png: 640x640 A 1.00, C 0.00, B 0.00, 12.1ms\n",
      "Speed: 9.5ms preprocess, 12.1ms inference, 0.1ms postprocess per image at shape (1, 3, 640, 640)\n",
      "\n",
      "image 1/1 c:\\Users\\ochon\\OneDrive\\Documents\\2025\\MAIO (Malaysia AI Olympiad)\\Training\\[SELECTION 2]\\remainder\\plantA152_rgb.png: 640x640 A 1.00, C 0.00, B 0.00, 12.0ms\n",
      "Speed: 9.6ms preprocess, 12.0ms inference, 0.1ms postprocess per image at shape (1, 3, 640, 640)\n",
      "\n",
      "image 1/1 c:\\Users\\ochon\\OneDrive\\Documents\\2025\\MAIO (Malaysia AI Olympiad)\\Training\\[SELECTION 2]\\remainder\\plantA153_rgb.png: 640x640 A 1.00, C 0.00, B 0.00, 17.3ms\n",
      "Speed: 10.9ms preprocess, 17.3ms inference, 0.1ms postprocess per image at shape (1, 3, 640, 640)\n",
      "\n",
      "image 1/1 c:\\Users\\ochon\\OneDrive\\Documents\\2025\\MAIO (Malaysia AI Olympiad)\\Training\\[SELECTION 2]\\remainder\\plantA154_rgb.png: 640x640 A 1.00, C 0.00, B 0.00, 11.1ms\n",
      "Speed: 9.1ms preprocess, 11.1ms inference, 0.1ms postprocess per image at shape (1, 3, 640, 640)\n",
      "\n",
      "image 1/1 c:\\Users\\ochon\\OneDrive\\Documents\\2025\\MAIO (Malaysia AI Olympiad)\\Training\\[SELECTION 2]\\remainder\\plantA156_rgb.png: 640x640 A 1.00, C 0.00, B 0.00, 12.4ms\n",
      "Speed: 20.5ms preprocess, 12.4ms inference, 0.1ms postprocess per image at shape (1, 3, 640, 640)\n",
      "\n",
      "image 1/1 c:\\Users\\ochon\\OneDrive\\Documents\\2025\\MAIO (Malaysia AI Olympiad)\\Training\\[SELECTION 2]\\remainder\\plantA159_rgb.png: 640x640 A 1.00, C 0.00, B 0.00, 12.2ms\n",
      "Speed: 13.2ms preprocess, 12.2ms inference, 0.1ms postprocess per image at shape (1, 3, 640, 640)\n",
      "\n",
      "image 1/1 c:\\Users\\ochon\\OneDrive\\Documents\\2025\\MAIO (Malaysia AI Olympiad)\\Training\\[SELECTION 2]\\remainder\\plantA161_rgb.png: 640x640 A 1.00, C 0.00, B 0.00, 12.1ms\n",
      "Speed: 11.5ms preprocess, 12.1ms inference, 0.1ms postprocess per image at shape (1, 3, 640, 640)\n",
      "\n",
      "image 1/1 c:\\Users\\ochon\\OneDrive\\Documents\\2025\\MAIO (Malaysia AI Olympiad)\\Training\\[SELECTION 2]\\remainder\\plantB006_rgb.png: 640x640 B 1.00, A 0.00, C 0.00, 12.2ms\n",
      "Speed: 10.2ms preprocess, 12.2ms inference, 0.1ms postprocess per image at shape (1, 3, 640, 640)\n",
      "\n",
      "image 1/1 c:\\Users\\ochon\\OneDrive\\Documents\\2025\\MAIO (Malaysia AI Olympiad)\\Training\\[SELECTION 2]\\remainder\\plantB007_rgb.png: 640x640 B 1.00, C 0.00, A 0.00, 12.1ms\n",
      "Speed: 10.4ms preprocess, 12.1ms inference, 0.1ms postprocess per image at shape (1, 3, 640, 640)\n",
      "\n",
      "image 1/1 c:\\Users\\ochon\\OneDrive\\Documents\\2025\\MAIO (Malaysia AI Olympiad)\\Training\\[SELECTION 2]\\remainder\\plantB008_rgb.png: 640x640 B 1.00, C 0.00, A 0.00, 12.3ms\n",
      "Speed: 11.5ms preprocess, 12.3ms inference, 0.0ms postprocess per image at shape (1, 3, 640, 640)\n",
      "\n",
      "image 1/1 c:\\Users\\ochon\\OneDrive\\Documents\\2025\\MAIO (Malaysia AI Olympiad)\\Training\\[SELECTION 2]\\remainder\\plantB009_rgb.png: 640x640 B 1.00, C 0.00, A 0.00, 12.2ms\n",
      "Speed: 17.5ms preprocess, 12.2ms inference, 0.1ms postprocess per image at shape (1, 3, 640, 640)\n",
      "\n",
      "image 1/1 c:\\Users\\ochon\\OneDrive\\Documents\\2025\\MAIO (Malaysia AI Olympiad)\\Training\\[SELECTION 2]\\remainder\\plantB011_rgb.png: 640x640 B 1.00, A 0.00, C 0.00, 13.1ms\n",
      "Speed: 12.3ms preprocess, 13.1ms inference, 0.0ms postprocess per image at shape (1, 3, 640, 640)\n",
      "\n",
      "image 1/1 c:\\Users\\ochon\\OneDrive\\Documents\\2025\\MAIO (Malaysia AI Olympiad)\\Training\\[SELECTION 2]\\remainder\\plantB012_rgb.png: 640x640 B 1.00, A 0.00, C 0.00, 13.1ms\n",
      "Speed: 10.1ms preprocess, 13.1ms inference, 0.0ms postprocess per image at shape (1, 3, 640, 640)\n",
      "\n",
      "image 1/1 c:\\Users\\ochon\\OneDrive\\Documents\\2025\\MAIO (Malaysia AI Olympiad)\\Training\\[SELECTION 2]\\remainder\\plantB013_rgb.png: 640x640 B 1.00, C 0.00, A 0.00, 12.1ms\n",
      "Speed: 10.5ms preprocess, 12.1ms inference, 0.1ms postprocess per image at shape (1, 3, 640, 640)\n",
      "\n",
      "image 1/1 c:\\Users\\ochon\\OneDrive\\Documents\\2025\\MAIO (Malaysia AI Olympiad)\\Training\\[SELECTION 2]\\remainder\\plantB014_rgb.png: 640x640 B 1.00, C 0.00, A 0.00, 12.2ms\n",
      "Speed: 11.1ms preprocess, 12.2ms inference, 0.3ms postprocess per image at shape (1, 3, 640, 640)\n",
      "\n",
      "image 1/1 c:\\Users\\ochon\\OneDrive\\Documents\\2025\\MAIO (Malaysia AI Olympiad)\\Training\\[SELECTION 2]\\remainder\\plantB016_rgb.png: 640x640 B 1.00, A 0.00, C 0.00, 11.1ms\n",
      "Speed: 13.9ms preprocess, 11.1ms inference, 0.1ms postprocess per image at shape (1, 3, 640, 640)\n",
      "\n",
      "image 1/1 c:\\Users\\ochon\\OneDrive\\Documents\\2025\\MAIO (Malaysia AI Olympiad)\\Training\\[SELECTION 2]\\remainder\\plantB017_rgb.png: 640x640 B 0.99, A 0.01, C 0.00, 13.5ms\n",
      "Speed: 15.9ms preprocess, 13.5ms inference, 0.1ms postprocess per image at shape (1, 3, 640, 640)\n",
      "\n",
      "image 1/1 c:\\Users\\ochon\\OneDrive\\Documents\\2025\\MAIO (Malaysia AI Olympiad)\\Training\\[SELECTION 2]\\remainder\\plantB018_rgb.png: 640x640 B 1.00, C 0.00, A 0.00, 11.2ms\n",
      "Speed: 14.2ms preprocess, 11.2ms inference, 0.1ms postprocess per image at shape (1, 3, 640, 640)\n",
      "\n",
      "image 1/1 c:\\Users\\ochon\\OneDrive\\Documents\\2025\\MAIO (Malaysia AI Olympiad)\\Training\\[SELECTION 2]\\remainder\\plantB019_rgb.png: 640x640 B 1.00, C 0.00, A 0.00, 13.2ms\n",
      "Speed: 13.3ms preprocess, 13.2ms inference, 0.1ms postprocess per image at shape (1, 3, 640, 640)\n",
      "\n",
      "image 1/1 c:\\Users\\ochon\\OneDrive\\Documents\\2025\\MAIO (Malaysia AI Olympiad)\\Training\\[SELECTION 2]\\remainder\\plantB021_rgb.png: 640x640 B 1.00, A 0.00, C 0.00, 15.0ms\n",
      "Speed: 12.3ms preprocess, 15.0ms inference, 0.0ms postprocess per image at shape (1, 3, 640, 640)\n",
      "\n",
      "image 1/1 c:\\Users\\ochon\\OneDrive\\Documents\\2025\\MAIO (Malaysia AI Olympiad)\\Training\\[SELECTION 2]\\remainder\\plantB022_rgb.png: 640x640 B 0.77, A 0.15, C 0.07, 12.9ms\n",
      "Speed: 12.0ms preprocess, 12.9ms inference, 0.1ms postprocess per image at shape (1, 3, 640, 640)\n",
      "\n",
      "image 1/1 c:\\Users\\ochon\\OneDrive\\Documents\\2025\\MAIO (Malaysia AI Olympiad)\\Training\\[SELECTION 2]\\remainder\\plantB023_rgb.png: 640x640 B 1.00, C 0.00, A 0.00, 11.8ms\n",
      "Speed: 10.5ms preprocess, 11.8ms inference, 0.0ms postprocess per image at shape (1, 3, 640, 640)\n",
      "\n",
      "image 1/1 c:\\Users\\ochon\\OneDrive\\Documents\\2025\\MAIO (Malaysia AI Olympiad)\\Training\\[SELECTION 2]\\remainder\\plantB024_rgb.png: 640x640 B 1.00, C 0.00, A 0.00, 12.8ms\n",
      "Speed: 9.6ms preprocess, 12.8ms inference, 0.1ms postprocess per image at shape (1, 3, 640, 640)\n",
      "\n",
      "image 1/1 c:\\Users\\ochon\\OneDrive\\Documents\\2025\\MAIO (Malaysia AI Olympiad)\\Training\\[SELECTION 2]\\remainder\\plantB026_rgb.png: 640x640 B 0.97, A 0.03, C 0.00, 15.3ms\n",
      "Speed: 11.0ms preprocess, 15.3ms inference, 0.1ms postprocess per image at shape (1, 3, 640, 640)\n",
      "\n",
      "image 1/1 c:\\Users\\ochon\\OneDrive\\Documents\\2025\\MAIO (Malaysia AI Olympiad)\\Training\\[SELECTION 2]\\remainder\\plantB027_rgb.png: 640x640 A 0.73, B 0.17, C 0.10, 13.9ms\n",
      "Speed: 14.8ms preprocess, 13.9ms inference, 0.1ms postprocess per image at shape (1, 3, 640, 640)\n",
      "\n",
      "image 1/1 c:\\Users\\ochon\\OneDrive\\Documents\\2025\\MAIO (Malaysia AI Olympiad)\\Training\\[SELECTION 2]\\remainder\\plantB028_rgb.png: 640x640 B 1.00, C 0.00, A 0.00, 13.9ms\n",
      "Speed: 10.9ms preprocess, 13.9ms inference, 0.1ms postprocess per image at shape (1, 3, 640, 640)\n",
      "\n",
      "image 1/1 c:\\Users\\ochon\\OneDrive\\Documents\\2025\\MAIO (Malaysia AI Olympiad)\\Training\\[SELECTION 2]\\remainder\\plantB029_rgb.png: 640x640 B 0.99, A 0.01, C 0.00, 11.9ms\n",
      "Speed: 9.8ms preprocess, 11.9ms inference, 0.1ms postprocess per image at shape (1, 3, 640, 640)\n",
      "\n",
      "image 1/1 c:\\Users\\ochon\\OneDrive\\Documents\\2025\\MAIO (Malaysia AI Olympiad)\\Training\\[SELECTION 2]\\remainder\\plantB031_rgb.png: 640x640 B 0.90, A 0.07, C 0.03, 21.4ms\n",
      "Speed: 12.5ms preprocess, 21.4ms inference, 0.1ms postprocess per image at shape (1, 3, 640, 640)\n",
      "\n",
      "image 1/1 c:\\Users\\ochon\\OneDrive\\Documents\\2025\\MAIO (Malaysia AI Olympiad)\\Training\\[SELECTION 2]\\remainder\\plantB032_rgb.png: 640x640 A 0.52, B 0.27, C 0.21, 14.3ms\n",
      "Speed: 11.4ms preprocess, 14.3ms inference, 0.1ms postprocess per image at shape (1, 3, 640, 640)\n",
      "\n",
      "image 1/1 c:\\Users\\ochon\\OneDrive\\Documents\\2025\\MAIO (Malaysia AI Olympiad)\\Training\\[SELECTION 2]\\remainder\\plantB034_rgb.png: 640x640 B 0.89, C 0.06, A 0.04, 14.1ms\n",
      "Speed: 9.8ms preprocess, 14.1ms inference, 0.1ms postprocess per image at shape (1, 3, 640, 640)\n",
      "\n",
      "image 1/1 c:\\Users\\ochon\\OneDrive\\Documents\\2025\\MAIO (Malaysia AI Olympiad)\\Training\\[SELECTION 2]\\remainder\\plantB036_rgb.png: 640x640 B 0.76, A 0.22, C 0.02, 13.1ms\n",
      "Speed: 18.4ms preprocess, 13.1ms inference, 0.2ms postprocess per image at shape (1, 3, 640, 640)\n",
      "\n",
      "image 1/1 c:\\Users\\ochon\\OneDrive\\Documents\\2025\\MAIO (Malaysia AI Olympiad)\\Training\\[SELECTION 2]\\remainder\\plantB037_rgb.png: 640x640 A 0.79, B 0.12, C 0.09, 14.7ms\n",
      "Speed: 17.6ms preprocess, 14.7ms inference, 0.1ms postprocess per image at shape (1, 3, 640, 640)\n",
      "\n",
      "image 1/1 c:\\Users\\ochon\\OneDrive\\Documents\\2025\\MAIO (Malaysia AI Olympiad)\\Training\\[SELECTION 2]\\remainder\\plantB038_rgb.png: 640x640 B 1.00, C 0.00, A 0.00, 13.7ms\n",
      "Speed: 14.5ms preprocess, 13.7ms inference, 0.1ms postprocess per image at shape (1, 3, 640, 640)\n",
      "\n",
      "image 1/1 c:\\Users\\ochon\\OneDrive\\Documents\\2025\\MAIO (Malaysia AI Olympiad)\\Training\\[SELECTION 2]\\remainder\\plantB039_rgb.png: 640x640 B 0.65, A 0.25, C 0.10, 12.0ms\n",
      "Speed: 14.4ms preprocess, 12.0ms inference, 0.0ms postprocess per image at shape (1, 3, 640, 640)\n",
      "\n",
      "image 1/1 c:\\Users\\ochon\\OneDrive\\Documents\\2025\\MAIO (Malaysia AI Olympiad)\\Training\\[SELECTION 2]\\remainder\\plantC005_rgb.png: 640x640 C 1.00, A 0.00, B 0.00, 12.8ms\n",
      "Speed: 38.6ms preprocess, 12.8ms inference, 0.1ms postprocess per image at shape (1, 3, 640, 640)\n",
      "\n",
      "image 1/1 c:\\Users\\ochon\\OneDrive\\Documents\\2025\\MAIO (Malaysia AI Olympiad)\\Training\\[SELECTION 2]\\remainder\\plantC006_rgb.png: 640x640 C 1.00, A 0.00, B 0.00, 15.6ms\n",
      "Speed: 43.4ms preprocess, 15.6ms inference, 0.1ms postprocess per image at shape (1, 3, 640, 640)\n",
      "\n",
      "image 1/1 c:\\Users\\ochon\\OneDrive\\Documents\\2025\\MAIO (Malaysia AI Olympiad)\\Training\\[SELECTION 2]\\remainder\\plantC007_rgb.png: 640x640 C 1.00, A 0.00, B 0.00, 14.5ms\n",
      "Speed: 38.6ms preprocess, 14.5ms inference, 0.1ms postprocess per image at shape (1, 3, 640, 640)\n",
      "\n",
      "image 1/1 c:\\Users\\ochon\\OneDrive\\Documents\\2025\\MAIO (Malaysia AI Olympiad)\\Training\\[SELECTION 2]\\remainder\\plantC008_rgb.png: 640x640 C 1.00, A 0.00, B 0.00, 15.3ms\n",
      "Speed: 38.5ms preprocess, 15.3ms inference, 0.1ms postprocess per image at shape (1, 3, 640, 640)\n",
      "\n",
      "image 1/1 c:\\Users\\ochon\\OneDrive\\Documents\\2025\\MAIO (Malaysia AI Olympiad)\\Training\\[SELECTION 2]\\remainder\\plantC009_rgb.png: 640x640 C 1.00, A 0.00, B 0.00, 14.9ms\n",
      "Speed: 37.4ms preprocess, 14.9ms inference, 0.1ms postprocess per image at shape (1, 3, 640, 640)\n",
      "\n",
      "image 1/1 c:\\Users\\ochon\\OneDrive\\Documents\\2025\\MAIO (Malaysia AI Olympiad)\\Training\\[SELECTION 2]\\remainder\\plantC010_rgb.png: 640x640 C 1.00, A 0.00, B 0.00, 15.6ms\n",
      "Speed: 39.1ms preprocess, 15.6ms inference, 0.1ms postprocess per image at shape (1, 3, 640, 640)\n",
      "\n",
      "image 1/1 c:\\Users\\ochon\\OneDrive\\Documents\\2025\\MAIO (Malaysia AI Olympiad)\\Training\\[SELECTION 2]\\remainder\\plantC011_rgb.png: 640x640 C 1.00, A 0.00, B 0.00, 12.7ms\n",
      "Speed: 40.1ms preprocess, 12.7ms inference, 0.1ms postprocess per image at shape (1, 3, 640, 640)\n",
      "\n",
      "image 1/1 c:\\Users\\ochon\\OneDrive\\Documents\\2025\\MAIO (Malaysia AI Olympiad)\\Training\\[SELECTION 2]\\remainder\\plantC012_rgb.png: 640x640 C 1.00, A 0.00, B 0.00, 12.7ms\n",
      "Speed: 39.3ms preprocess, 12.7ms inference, 0.0ms postprocess per image at shape (1, 3, 640, 640)\n",
      "\n",
      "image 1/1 c:\\Users\\ochon\\OneDrive\\Documents\\2025\\MAIO (Malaysia AI Olympiad)\\Training\\[SELECTION 2]\\remainder\\plantC013_rgb.png: 640x640 C 1.00, A 0.00, B 0.00, 13.6ms\n",
      "Speed: 35.2ms preprocess, 13.6ms inference, 0.1ms postprocess per image at shape (1, 3, 640, 640)\n",
      "\n",
      "image 1/1 c:\\Users\\ochon\\OneDrive\\Documents\\2025\\MAIO (Malaysia AI Olympiad)\\Training\\[SELECTION 2]\\remainder\\plantC014_rgb.png: 640x640 C 1.00, A 0.00, B 0.00, 13.7ms\n",
      "Speed: 34.9ms preprocess, 13.7ms inference, 0.1ms postprocess per image at shape (1, 3, 640, 640)\n",
      "\n",
      "image 1/1 c:\\Users\\ochon\\OneDrive\\Documents\\2025\\MAIO (Malaysia AI Olympiad)\\Training\\[SELECTION 2]\\remainder\\plantC015_rgb.png: 640x640 C 1.00, A 0.00, B 0.00, 19.0ms\n",
      "Speed: 47.4ms preprocess, 19.0ms inference, 0.1ms postprocess per image at shape (1, 3, 640, 640)\n",
      "\n",
      "image 1/1 c:\\Users\\ochon\\OneDrive\\Documents\\2025\\MAIO (Malaysia AI Olympiad)\\Training\\[SELECTION 2]\\remainder\\plantC016_rgb.png: 640x640 C 1.00, A 0.00, B 0.00, 27.1ms\n",
      "Speed: 41.7ms preprocess, 27.1ms inference, 0.1ms postprocess per image at shape (1, 3, 640, 640)\n",
      "\n",
      "image 1/1 c:\\Users\\ochon\\OneDrive\\Documents\\2025\\MAIO (Malaysia AI Olympiad)\\Training\\[SELECTION 2]\\remainder\\plantC017_rgb.png: 640x640 C 1.00, A 0.00, B 0.00, 20.0ms\n",
      "Speed: 49.0ms preprocess, 20.0ms inference, 0.1ms postprocess per image at shape (1, 3, 640, 640)\n",
      "\n",
      "image 1/1 c:\\Users\\ochon\\OneDrive\\Documents\\2025\\MAIO (Malaysia AI Olympiad)\\Training\\[SELECTION 2]\\remainder\\plantC018_rgb.png: 640x640 C 1.00, B 0.00, A 0.00, 15.3ms\n",
      "Speed: 45.2ms preprocess, 15.3ms inference, 0.1ms postprocess per image at shape (1, 3, 640, 640)\n",
      "\n",
      "image 1/1 c:\\Users\\ochon\\OneDrive\\Documents\\2025\\MAIO (Malaysia AI Olympiad)\\Training\\[SELECTION 2]\\remainder\\plantC019_rgb.png: 640x640 C 1.00, A 0.00, B 0.00, 15.8ms\n",
      "Speed: 44.0ms preprocess, 15.8ms inference, 0.1ms postprocess per image at shape (1, 3, 640, 640)\n",
      "\n",
      "image 1/1 c:\\Users\\ochon\\OneDrive\\Documents\\2025\\MAIO (Malaysia AI Olympiad)\\Training\\[SELECTION 2]\\remainder\\plantC020_rgb.png: 640x640 C 0.99, A 0.01, B 0.00, 12.6ms\n",
      "Speed: 44.0ms preprocess, 12.6ms inference, 0.1ms postprocess per image at shape (1, 3, 640, 640)\n",
      "\n",
      "image 1/1 c:\\Users\\ochon\\OneDrive\\Documents\\2025\\MAIO (Malaysia AI Olympiad)\\Training\\[SELECTION 2]\\remainder\\plantC021_rgb.png: 640x640 C 1.00, A 0.00, B 0.00, 14.6ms\n",
      "Speed: 48.6ms preprocess, 14.6ms inference, 0.1ms postprocess per image at shape (1, 3, 640, 640)\n",
      "\n",
      "image 1/1 c:\\Users\\ochon\\OneDrive\\Documents\\2025\\MAIO (Malaysia AI Olympiad)\\Training\\[SELECTION 2]\\remainder\\plantC022_rgb.png: 640x640 C 1.00, B 0.00, A 0.00, 14.7ms\n",
      "Speed: 38.0ms preprocess, 14.7ms inference, 0.1ms postprocess per image at shape (1, 3, 640, 640)\n",
      "\n",
      "image 1/1 c:\\Users\\ochon\\OneDrive\\Documents\\2025\\MAIO (Malaysia AI Olympiad)\\Training\\[SELECTION 2]\\remainder\\plantC023_rgb.png: 640x640 C 1.00, B 0.00, A 0.00, 14.6ms\n",
      "Speed: 37.4ms preprocess, 14.6ms inference, 0.1ms postprocess per image at shape (1, 3, 640, 640)\n",
      "\n",
      "image 1/1 c:\\Users\\ochon\\OneDrive\\Documents\\2025\\MAIO (Malaysia AI Olympiad)\\Training\\[SELECTION 2]\\remainder\\plantC024_rgb.png: 640x640 C 1.00, A 0.00, B 0.00, 14.6ms\n",
      "Speed: 38.3ms preprocess, 14.6ms inference, 0.1ms postprocess per image at shape (1, 3, 640, 640)\n",
      "\n",
      "image 1/1 c:\\Users\\ochon\\OneDrive\\Documents\\2025\\MAIO (Malaysia AI Olympiad)\\Training\\[SELECTION 2]\\remainder\\plantC025_rgb.png: 640x640 C 1.00, A 0.00, B 0.00, 14.5ms\n",
      "Speed: 38.7ms preprocess, 14.5ms inference, 0.1ms postprocess per image at shape (1, 3, 640, 640)\n",
      "\n",
      "image 1/1 c:\\Users\\ochon\\OneDrive\\Documents\\2025\\MAIO (Malaysia AI Olympiad)\\Training\\[SELECTION 2]\\remainder\\plantC026_rgb.png: 640x640 C 0.99, A 0.01, B 0.00, 18.1ms\n",
      "Speed: 42.4ms preprocess, 18.1ms inference, 0.1ms postprocess per image at shape (1, 3, 640, 640)\n",
      "\n",
      "image 1/1 c:\\Users\\ochon\\OneDrive\\Documents\\2025\\MAIO (Malaysia AI Olympiad)\\Training\\[SELECTION 2]\\remainder\\plantC027_rgb.png: 640x640 C 0.96, A 0.04, B 0.00, 14.7ms\n",
      "Speed: 40.2ms preprocess, 14.7ms inference, 0.1ms postprocess per image at shape (1, 3, 640, 640)\n",
      "F1 Score: 0.9764\n"
     ]
    }
   ],
   "source": [
    "from ultralytics import YOLO\n",
    "from sklearn.metrics import f1_score\n",
    "import pandas as pd\n",
    "import os\n",
    "import re\n",
    "import csv\n",
    "\n",
    "model_save_path = \"difcoln.pt\"\n",
    "\n",
    "model = YOLO(\"yolo11n-cls.pt\")\n",
    "results = model.train(data=\"first_four_yolo\", epochs=100, imgsz=640)\n",
    "model.save(model_save_path)\n",
    "\n",
    "model = YOLO(model_save_path)\n",
    "image_dir = 'remainder'\n",
    "output_csv = 'predictionsn.csv'\n",
    "\n",
    "data = []\n",
    "for filename in os.listdir(image_dir):\n",
    "    path = os.path.join(image_dir, filename)\n",
    "    results = model(path)\n",
    "    probs = results[0].probs\n",
    "    pred = results[0].names[probs.top1] if hasattr(results[0], 'names') else str(probs.top1)\n",
    "    conf = round(probs.top1conf.item(), 4)\n",
    "    true = re.match(r'plant([A-Z])\\d+', filename).group(1)\n",
    "    data.append([filename, pred, conf, true])\n",
    "\n",
    "with open(output_csv, 'w', newline='') as f:\n",
    "    writer = csv.writer(f)\n",
    "    writer.writerow(['filename', 'predicted_class', 'confidence', 'true_label'])\n",
    "    writer.writerows(data)\n",
    "\n",
    "df = pd.DataFrame(data, columns=['filename', 'predicted_class', 'confidence', 'true_label'])\n",
    "f1 = f1_score(df['true_label'], df['predicted_class'], average='macro')\n",
    "print(f\"F1 Score: {f1:.4f}\")\n"
   ]
  }
 ],
 "metadata": {
  "kernelspec": {
   "display_name": "Python 3",
   "language": "python",
   "name": "python3"
  },
  "language_info": {
   "codemirror_mode": {
    "name": "ipython",
    "version": 3
   },
   "file_extension": ".py",
   "mimetype": "text/x-python",
   "name": "python",
   "nbconvert_exporter": "python",
   "pygments_lexer": "ipython3",
   "version": "3.13.2"
  }
 },
 "nbformat": 4,
 "nbformat_minor": 5
}
