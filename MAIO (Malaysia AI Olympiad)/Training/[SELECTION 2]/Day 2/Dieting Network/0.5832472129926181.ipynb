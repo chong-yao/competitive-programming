{
 "cells": [
  {
   "cell_type": "markdown",
   "id": "81d348e9-a5ec-4f4f-843c-97bf28d22c86",
   "metadata": {},
   "source": [
    "# Dieting Network"
   ]
  },
  {
   "cell_type": "markdown",
   "id": "e4f4013b",
   "metadata": {},
   "source": [
    "# Setup"
   ]
  },
  {
   "cell_type": "code",
   "execution_count": 1,
   "id": "c04569a9-54cb-4056-8b3e-a035e77d41a7",
   "metadata": {},
   "outputs": [],
   "source": [
    "import requests\n",
    "\n",
    "auth_token = \"maio_cf75a54b_d24c_4ca3_b9c2_4b90d9d61d6f\"\n",
    "\n",
    "def make_payload(x):\n",
    "    # This will convert your torch tensor / numpy array\n",
    "    # into a list of floats\n",
    "    return {\"solution\": x.flatten().tolist()}\n",
    "\n",
    "url = \"https://competitions.aiolympiad.my/api/selection2_2025_day2/selection2_2025_dieting_network\"\n",
    "\n",
    "def post_answer(data: dict):\n",
    "    response = requests.post(url=url, json=data, headers={\"X-API-Key\": auth_token})\n",
    "    if response.status_code == 200:\n",
    "        return response.json()\n",
    "    else:\n",
    "        return f\"Failed to submit, status code is {response.status_code}\\n{response.text}\""
   ]
  },
  {
   "cell_type": "markdown",
   "id": "97ceab67-0766-47cb-9477-73fcce3438ad",
   "metadata": {},
   "source": [
    "## Datasets"
   ]
  },
  {
   "cell_type": "code",
   "execution_count": 2,
   "id": "fa7c07fc-5c4b-4a15-b49b-e6da09d0ac54",
   "metadata": {},
   "outputs": [],
   "source": [
    "import torch\n",
    "import torch.nn as nn\n",
    "from sklearn.metrics import r2_score\n",
    "\n",
    "with open(\"X_train.pt\", \"rb\") as f: X_train = torch.load(f)\n",
    "with open(\"y_train.pt\", \"rb\") as f: y_train = torch.load(f)\n",
    "with open(\"X_val.pt\", \"rb\") as f: X_val = torch.load(f)\n",
    "with open(\"y_val.pt\", \"rb\") as f: y_val = torch.load(f)\n",
    "with open(\"X_test.pt\", \"rb\") as f: X_test = torch.load(f)"
   ]
  },
  {
   "cell_type": "markdown",
   "id": "195aa53f-89f1-4da0-8a02-76143d3887e6",
   "metadata": {},
   "source": [
    "## Network"
   ]
  },
  {
   "cell_type": "code",
   "execution_count": 3,
   "id": "e8e29255-93ce-4171-b037-c226ffe81004",
   "metadata": {},
   "outputs": [],
   "source": [
    "class FixedLinear(nn.Module):\n",
    "    \"\"\"\n",
    "    Similar to a nn.Linear layer, just not trainable\n",
    "    \"\"\"\n",
    "\n",
    "    def __init__(self, in_features, out_features):\n",
    "        super().__init__()\n",
    "        self.weight = torch.ones(out_features, in_features)\n",
    "\n",
    "    def forward(self, x):\n",
    "        return torch.mm(x, self.weight.t())\n",
    "    \n",
    "class PolyAct(nn.Module):\n",
    "    def __init__(self, coefficients):\n",
    "        super().__init__()\n",
    "        # Ensure coefficients are a tensor and have 5 elements for degree-4 polynomial\n",
    "        self.coefficients = torch.tensor(coefficients, dtype=torch.float32)\n",
    "\n",
    "    def forward(self, x):\n",
    "        # Input x shape: (batch_size, 5), where all 5 elements per sample are identical (sum of inputs)\n",
    "        # Take the first element of each sample as s\n",
    "        s = x[:, 0:1]  # Shape: (batch_size, 1)\n",
    "        # Compute powers s^0, s^1, s^2, s^3, s^4\n",
    "        powers = torch.cat([s**i for i in range(5)], dim=1)  # Shape: (batch_size, 5)\n",
    "        # Apply coefficients to each power\n",
    "        out = powers * self.coefficients  # Shape: (batch_size, 5)\n",
    "        return out"
   ]
  },
  {
   "cell_type": "code",
   "execution_count": 4,
   "id": "db538202-5f53-4f2e-89e1-25bb55049102",
   "metadata": {},
   "outputs": [],
   "source": [
    "class DietNetwork(nn.Module):\n",
    "    def __init__(self, coefficients):\n",
    "        super().__init__()\n",
    "        self.layer1 = FixedLinear(8, 5)\n",
    "\n",
    "        self.act1 = PolyAct(coefficients) # <- Replace me!\n",
    "\n",
    "        self.layer2 = FixedLinear(5, 5)\n",
    "\n",
    "        self.act2 = nn.Identity() # <- Replace me!\n",
    "\n",
    "        self.layer3 = FixedLinear(5, 5)\n",
    "\n",
    "        self.act3 = nn.Identity() # <- Replace me!\n",
    "\n",
    "        self.layer4 = FixedLinear(5, 1)\n",
    "\n",
    "    def forward(self, x):\n",
    "        x = self.layer1(x)\n",
    "        x = self.act1(x)\n",
    "        x = self.layer2(x)\n",
    "        x = self.act2(x)\n",
    "        x = self.layer3(x)\n",
    "        x = self.act3(x)        \n",
    "        x = self.layer4(x)\n",
    "        return x"
   ]
  },
  {
   "cell_type": "code",
   "execution_count": 5,
   "id": "ac417937",
   "metadata": {},
   "outputs": [],
   "source": [
    "s_train = X_train.sum(dim=1, keepdim=True).numpy()\n",
    "y_train_scaled = y_train.numpy() / 25.0"
   ]
  },
  {
   "cell_type": "code",
   "execution_count": 6,
   "id": "d3f2f87d",
   "metadata": {},
   "outputs": [],
   "source": [
    "from sklearn.preprocessing import PolynomialFeatures\n",
    "from sklearn.linear_model import LinearRegression\n",
    "\n",
    "poly_features = PolynomialFeatures(degree=4, include_bias=True)\n",
    "s_train_poly = poly_features.fit_transform(s_train)\n",
    "\n",
    "reg = LinearRegression(fit_intercept=False)\n",
    "reg.fit(s_train_poly, y_train_scaled)\n",
    "coefficients = reg.coef_.flatten()"
   ]
  },
  {
   "cell_type": "code",
   "execution_count": 7,
   "id": "b545eb8d",
   "metadata": {},
   "outputs": [
    {
     "data": {
      "text/plain": [
       "DietNetwork(\n",
       "  (layer1): FixedLinear()\n",
       "  (act1): PolyAct()\n",
       "  (layer2): FixedLinear()\n",
       "  (act2): Identity()\n",
       "  (layer3): FixedLinear()\n",
       "  (act3): Identity()\n",
       "  (layer4): FixedLinear()\n",
       ")"
      ]
     },
     "execution_count": 7,
     "metadata": {},
     "output_type": "execute_result"
    }
   ],
   "source": [
    "model = DietNetwork(coefficients)\n",
    "model.eval()"
   ]
  },
  {
   "cell_type": "code",
   "execution_count": 8,
   "id": "ebfa8cca-9bff-45d1-bcba-bde5357baf7d",
   "metadata": {},
   "outputs": [
    {
     "name": "stdout",
     "output_type": "stream",
     "text": [
      "train / val R2: 0.7375 / 0.7630\n"
     ]
    }
   ],
   "source": [
    "with torch.no_grad():\n",
    "    y_train_pred = model(X_train)\n",
    "    y_val_pred = model(X_val)\n",
    "    \n",
    "    train_r2 = r2_score(y_train, y_train_pred)\n",
    "    val_r2 = r2_score(y_val, y_val_pred)\n",
    "    \n",
    "    print(\n",
    "        f\"train / val R2: {train_r2:.4f} / {val_r2:.4f}\"\n",
    "    )"
   ]
  },
  {
   "cell_type": "code",
   "execution_count": 9,
   "id": "bddb8c80-d55b-46e5-a17c-b78b3f949ff9",
   "metadata": {},
   "outputs": [],
   "source": [
    "with torch.no_grad():\n",
    "    y_test_pred = model(X_test)"
   ]
  },
  {
   "cell_type": "code",
   "execution_count": 10,
   "id": "a68aa594-2214-4751-b054-36f3b6a191b4",
   "metadata": {},
   "outputs": [
    {
     "data": {
      "text/plain": [
       "torch.Size([400, 1])"
      ]
     },
     "execution_count": 10,
     "metadata": {},
     "output_type": "execute_result"
    }
   ],
   "source": [
    "# Should be (400, 1)\n",
    "y_test_pred.shape"
   ]
  },
  {
   "cell_type": "code",
   "execution_count": 12,
   "id": "034bea84-53bd-4509-843f-68953923e1e9",
   "metadata": {},
   "outputs": [
    {
     "data": {
      "text/plain": [
       "{'status': 'SUCCESS',\n",
       " 'message': 'Answer for challenge selection2_2025_dieting_network submitted successfully on 2025-06-14 10:28:53.144417+00:00. Total submissions is 6 / 100.'}"
      ]
     },
     "execution_count": 12,
     "metadata": {},
     "output_type": "execute_result"
    }
   ],
   "source": [
    "post_answer(make_payload(y_test_pred))"
   ]
  },
  {
   "cell_type": "markdown",
   "id": "0081b010",
   "metadata": {},
   "source": [
    "# What I did is that since there are only 5 trainable parameters, we can use a 4-th order polynomial fit."
   ]
  }
 ],
 "metadata": {
  "kernelspec": {
   "display_name": "Python 3",
   "language": "python",
   "name": "python3"
  },
  "language_info": {
   "codemirror_mode": {
    "name": "ipython",
    "version": 3
   },
   "file_extension": ".py",
   "mimetype": "text/x-python",
   "name": "python",
   "nbconvert_exporter": "python",
   "pygments_lexer": "ipython3",
   "version": "3.13.2"
  }
 },
 "nbformat": 4,
 "nbformat_minor": 5
}
