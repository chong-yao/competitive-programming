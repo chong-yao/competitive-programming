{
 "cells": [
  {
   "cell_type": "markdown",
   "id": "81d348e9-a5ec-4f4f-843c-97bf28d22c86",
   "metadata": {},
   "source": [
    "# Dieting Network"
   ]
  },
  {
   "cell_type": "markdown",
   "id": "8f42c73d-a891-4f9b-b724-617f2e2d4937",
   "metadata": {},
   "source": [
    "## Problem statement"
   ]
  },
  {
   "cell_type": "markdown",
   "id": "aa543c18-878c-4505-8dc1-3dcc15b21a8a",
   "metadata": {},
   "source": [
    "This neural network below wants to lose weight and go on a diet.\n",
    "\n",
    "```\n",
    "NN: I want to slim down\n",
    "You: ... what?\n",
    "NN: I want to have less weight! I think the less numbers I store the better.\n",
    "You: (trying to think)\n",
    "You: I suppose you can try sparsity? The more weights you have that are zero, then the less numbers you have to save to disk. But you must save your weights as a sparse tensor though. By default, network weights are saved as dense tensors so even if you have zero as a number, it will still take up space\n",
    "NN: (scrolling on phone)\n",
    "NN: I'm reading this tiktok that says Python stores integers as as objects, and so when I have one million copies of the same integer, I'm actually only using one number.\n",
    "You: (thinking)\n",
    "You: Uhhh\n",
    "You: I feel like there are many other things that need to be done properly for your statement to stand! But most importantly though\n",
    "You: How are you going to function if you practically have no weights?\n",
    "NN: Well, here's where you come in to help me out!\n",
    "You: Hm, but I don't know how!\n",
    "NN: Hahaha\n",
    "NN: You don't know how **yet!**\n",
    "You: ...\n",
    "You: This is so strange.\n",
    "Narrator: _This is not even the strangest problem in Selection 2_\n",
    "```\n",
    "\n",
    "Do what you can to make the network below perform well when all of its weights are frozen to unity with no biases (i.e. all weights = 1 and all biases = 0). You may only adjust the activation functions. Implement whatever activation function you want!\n",
    "\n",
    "You are given:\n",
    "- a baseline network below where you are to modify `self.act1`, `self.act2` and `self.act3`\n",
    "- tensors `X_train`, `y_train`, `X_val`, `y_val`, `X_test` to act as your training data, validation data and test data\n",
    "- helper code to submit your predictions on `X_test` for scoring!\n",
    "\n",
    "The following restrictions apply:\n",
    "\n",
    "- Each activation function may contain a small amount of parameters, but have to be less than or equal to 5\n",
    "- Each activation function shall be stateless during inferencing, i.e. the activation function should return the exact same answer when provided the exact same input. Inputs from a previous iteration should not affect outputs of the current iteration.\n",
    "\n",
    "Scores shall be awarded as follows:\n",
    "- 1 pt for explaining the reasoning of your approach in this notebook\n",
    "- 1 pt for scoring R2 >= 0.25 while using activations that fulfill the restrictions above.\n",
    "    - Submit your predictions on `X_test` via API submission. You will be scored by `sklearn.metrics.r2_score`. See example below.\n",
    "    - Your score column for this problem is NOT your aggregate score, but just your R2 score on the test set!\n",
    "- Additional 0 - 3 pts to be assigned based on this formula: `(Your R2 score - baseline score) / (Benchmark score - baseline score) x 3 pts`, where:\n",
    "    - Benchmark score is the highest scoring R2 achieved by all participants in this problem\n",
    "    - Baseline score is 0.25 R2, by default. If the lowest scoring R2 by all participants exceeds 0.25 R2, the baseline score will be set as that instead\n",
    "    - e.g. max R2 score achieved is 0.5, while min R2 score achieved is 0.3. If your score is 0.4, you get (0.4 - 0.3)/(0.5 - 0.3) x 3 = 1.5 pts"
   ]
  },
  {
   "cell_type": "markdown",
   "id": "76dda486-d604-4d7c-966a-029a3148a1d4",
   "metadata": {},
   "source": [
    "## Setup"
   ]
  },
  {
   "cell_type": "code",
   "execution_count": null,
   "id": "c04569a9-54cb-4056-8b3e-a035e77d41a7",
   "metadata": {},
   "outputs": [],
   "source": [
    "import requests\n",
    "\n",
    "auth_token = \"maio_cf75a54b_d24c_4ca3_b9c2_4b90d9d61d6f\"\n",
    "\n",
    "def make_payload(x):\n",
    "    # This will convert your torch tensor / numpy array\n",
    "    # into a list of floats\n",
    "    return {\"solution\": x.flatten().tolist()}\n",
    "\n",
    "url = \"https://competitions.aiolympiad.my/api/selection2_2025_day2/selection2_2025_dieting_network\"\n",
    "\n",
    "def post_answer(data: dict):\n",
    "    response = requests.post(url=url, json=data, headers={\"X-API-Key\": auth_token})\n",
    "    if response.status_code == 200:\n",
    "        return response.json()\n",
    "    else:\n",
    "        return f\"Failed to submit, status code is {response.status_code}\\n{response.text}\""
   ]
  },
  {
   "cell_type": "code",
   "execution_count": null,
   "id": "c36257e4-7ba5-438e-86c0-9565f8c11ab3",
   "metadata": {},
   "outputs": [],
   "source": [
    "import requests\n",
    "\n",
    "url = \"https://competitions.aiolympiad.my/api/selection2_2025_day2/selection2_2025_dieting_network\"\n",
    "\n",
    "def post_answer(data: dict):\n",
    "    response = requests.post(url=url, json=data, headers={\"X-API-Key\": auth_token})\n",
    "    if response.status_code == 200:\n",
    "        return response.json()\n",
    "    else:\n",
    "        return f\"Failed to submit, status code is {response.status_code}\\n{response.text}\""
   ]
  },
  {
   "cell_type": "markdown",
   "id": "97ceab67-0766-47cb-9477-73fcce3438ad",
   "metadata": {},
   "source": [
    "## Datasets"
   ]
  },
  {
   "cell_type": "code",
   "execution_count": 1,
   "id": "d11fe904-3dda-43d2-8447-6eb8563167c0",
   "metadata": {},
   "outputs": [
    {
     "name": "stderr",
     "output_type": "stream",
     "text": [
      "  % Total    % Received % Xferd  Average Speed   Time    Time     Time  Current\n",
      "                                 Dload  Upload   Total   Spent    Left  Speed\n",
      "\n",
      "  0     0    0     0    0     0      0      0 --:--:-- --:--:-- --:--:--     0\n",
      "  0     0    0     0    0     0      0      0 --:--:-- --:--:-- --:--:--     0\n",
      "100 65180  100 65180    0     0   155k      0 --:--:-- --:--:-- --:--:--  156k\n",
      "  % Total    % Received % Xferd  Average Speed   Time    Time     Time  Current\n",
      "                                 Dload  Upload   Total   Spent    Left  Speed\n",
      "\n",
      "  0     0    0     0    0     0      0      0 --:--:-- --:--:-- --:--:--     0\n",
      "100 65180  100 65180    0     0   349k      0 --:--:-- --:--:-- --:--:--  355k\n",
      "  % Total    % Received % Xferd  Average Speed   Time    Time     Time  Current\n",
      "                                 Dload  Upload   Total   Spent    Left  Speed\n",
      "\n",
      "  0     0    0     0    0     0      0      0 --:--:-- --:--:-- --:--:--     0\n",
      "100 65180  100 65180    0     0   221k      0 --:--:-- --:--:-- --:--:--  222k\n",
      "  % Total    % Received % Xferd  Average Speed   Time    Time     Time  Current\n",
      "                                 Dload  Upload   Total   Spent    Left  Speed\n",
      "\n",
      "  0     0    0     0    0     0      0      0 --:--:-- --:--:-- --:--:--     0\n",
      "  0     0    0     0    0     0      0      0 --:--:-- --:--:-- --:--:--     0\n",
      "100  9180  100  9180    0     0  43531      0 --:--:-- --:--:-- --:--:-- 43923\n",
      "  % Total    % Received % Xferd  Average Speed   Time    Time     Time  Current\n",
      "                                 Dload  Upload   Total   Spent    Left  Speed\n",
      "\n",
      "  0     0    0     0    0     0      0      0 --:--:-- --:--:-- --:--:--     0\n",
      "100  9180  100  9180    0     0  44256      0 --:--:-- --:--:-- --:--:-- 44780\n"
     ]
    }
   ],
   "source": [
    "!curl https://storage.googleapis.com/aiolympiadmy/ioai-2025-tsp/ioai2025_tsp_selection2/dieting_network/X_train.pt -o X_train.pt\n",
    "!curl https://storage.googleapis.com/aiolympiadmy/ioai-2025-tsp/ioai2025_tsp_selection2/dieting_network/X_val.pt -o X_val.pt\n",
    "!curl https://storage.googleapis.com/aiolympiadmy/ioai-2025-tsp/ioai2025_tsp_selection2/dieting_network/X_test.pt -o X_test.pt\n",
    "!curl https://storage.googleapis.com/aiolympiadmy/ioai-2025-tsp/ioai2025_tsp_selection2/dieting_network/y_train.pt -o y_train.pt\n",
    "!curl https://storage.googleapis.com/aiolympiadmy/ioai-2025-tsp/ioai2025_tsp_selection2/dieting_network/y_val.pt -o y_val.pt"
   ]
  },
  {
   "cell_type": "code",
   "execution_count": null,
   "id": "fc4e7551-2572-4df4-9d1c-71ceba875fd5",
   "metadata": {},
   "outputs": [],
   "source": [
    "import torch\n",
    "import torch.nn as nn\n",
    "from sklearn.metrics import r2_score\n",
    "\n",
    "with open(\"X_train.pt\", \"rb\") as f: X_train = torch.load(f)\n",
    "with open(\"y_train.pt\", \"rb\") as f: y_train = torch.load(f)\n",
    "with open(\"X_val.pt\", \"rb\") as f: X_val = torch.load(f)\n",
    "with open(\"y_val.pt\", \"rb\") as f: y_val = torch.load(f)\n",
    "with open(\"X_test.pt\", \"rb\") as f: X_test = torch.load(f)"
   ]
  },
  {
   "cell_type": "markdown",
   "id": "195aa53f-89f1-4da0-8a02-76143d3887e6",
   "metadata": {},
   "source": [
    "## Baseline network"
   ]
  },
  {
   "cell_type": "code",
   "execution_count": null,
   "id": "e8e29255-93ce-4171-b037-c226ffe81004",
   "metadata": {},
   "outputs": [],
   "source": [
    "class FixedLinear(nn.Module):\n",
    "    \"\"\"\n",
    "    Similar to a nn.Linear layer, just not trainable\n",
    "    \"\"\"\n",
    "\n",
    "    def __init__(self, in_features, out_features):\n",
    "        super().__init__()\n",
    "        self.weight = torch.ones(out_features, in_features)\n",
    "\n",
    "    def forward(self, x):\n",
    "        return torch.mm(x, self.weight.t())"
   ]
  },
  {
   "cell_type": "code",
   "execution_count": null,
   "id": "db538202-5f53-4f2e-89e1-25bb55049102",
   "metadata": {},
   "outputs": [],
   "source": [
    "class DietNetwork(nn.Module):\n",
    "    def __init__(self):\n",
    "        super().__init__()\n",
    "        self.layer1 = FixedLinear(8, 5)\n",
    "        self.act1 = nn.Identity() # <- Replace me!\n",
    "        self.layer2 = FixedLinear(5, 5)\n",
    "        self.act2 = nn.Identity() # <- Replace me!\n",
    "        self.layer3 = FixedLinear(5, 5)\n",
    "        self.act3 = nn.Identity() # <- Replace me!\n",
    "        self.layer4 = FixedLinear(5, 1)\n",
    "\n",
    "    def forward(self, x):\n",
    "        x = self.layer1(x)\n",
    "        x = self.act1(x)\n",
    "        x = self.layer2(x)\n",
    "        x = self.act2(x)\n",
    "        x = self.layer3(x)\n",
    "        x = self.act3(x)\n",
    "        x = self.layer4(x)\n",
    "        return x"
   ]
  },
  {
   "cell_type": "code",
   "execution_count": null,
   "id": "0a5ca2f1-26d9-4132-a657-143e3798333c",
   "metadata": {},
   "outputs": [],
   "source": [
    "model = DietNetwork()\n",
    "model.eval();"
   ]
  },
  {
   "cell_type": "code",
   "execution_count": null,
   "id": "b10b88f2-82e5-4bd8-9fc7-8dff8923ebb5",
   "metadata": {},
   "outputs": [],
   "source": [
    "criterion = nn.MSELoss()"
   ]
  },
  {
   "cell_type": "code",
   "execution_count": null,
   "id": "ebfa8cca-9bff-45d1-bcba-bde5357baf7d",
   "metadata": {},
   "outputs": [],
   "source": [
    "with torch.no_grad():\n",
    "    y_train_pred = model(X_train)\n",
    "    y_val_pred = model(X_val)\n",
    "    \n",
    "    train_r2 = r2_score(y_train, y_train_pred)\n",
    "    val_r2 = r2_score(y_val, y_val_pred)\n",
    "    \n",
    "    print(\n",
    "        f\"train / val R2: {train_r2:.4f} / {val_r2:.4f}\"\n",
    "    )"
   ]
  },
  {
   "cell_type": "code",
   "execution_count": null,
   "id": "bddb8c80-d55b-46e5-a17c-b78b3f949ff9",
   "metadata": {},
   "outputs": [],
   "source": [
    "with torch.no_grad():\n",
    "    y_test_pred = model(X_test)"
   ]
  },
  {
   "cell_type": "code",
   "execution_count": null,
   "id": "a68aa594-2214-4751-b054-36f3b6a191b4",
   "metadata": {},
   "outputs": [],
   "source": [
    "# Should be (400, 1)\n",
    "y_test_pred.shape"
   ]
  },
  {
   "cell_type": "code",
   "execution_count": null,
   "id": "e9ffa4c1-79a9-4f6a-b243-382a61793a95",
   "metadata": {},
   "outputs": [],
   "source": [
    "# As long as your y_test_pred follows the format of this baseline output,\n",
    "# your API submission will work!\n",
    "post_answer(make_payload(y_test_pred))"
   ]
  },
  {
   "cell_type": "markdown",
   "id": "16fa2f47-d7c9-484a-b280-63268c760318",
   "metadata": {},
   "source": [
    "## Your work below"
   ]
  },
  {
   "cell_type": "code",
   "execution_count": null,
   "id": "034bea84-53bd-4509-843f-68953923e1e9",
   "metadata": {},
   "outputs": [],
   "source": [
    "class FixedLinear(nn.Module):\n",
    "    \"\"\"\n",
    "    Similar to a nn.Linear layer, just not trainable\n",
    "    \"\"\"\n",
    "\n",
    "    def __init__(self, in_features, out_features):\n",
    "        super().__init__()\n",
    "        self.weight = torch.ones(out_features, in_features)\n",
    "\n",
    "    def forward(self, x):\n",
    "        return torch.mm(x, self.weight.t())\n",
    "    \n",
    "class PolyAct(nn.Module):\n",
    "    def __init__(self, coefficients):\n",
    "        super().__init__()\n",
    "        # Ensure coefficients are a tensor and have 5 elements for degree-4 polynomial\n",
    "        self.coefficients = torch.tensor(coefficients, dtype=torch.float32)\n",
    "\n",
    "    def forward(self, x):\n",
    "        # Input x shape: (batch_size, 5), where all 5 elements per sample are identical (sum of inputs)\n",
    "        # Take the first element of each sample as s\n",
    "        s = x[:, 0:1]  # Shape: (batch_size, 1)\n",
    "        # Compute powers s^0, s^1, s^2, s^3, s^4\n",
    "        powers = torch.cat([s**i for i in range(5)], dim=1)  # Shape: (batch_size, 5)\n",
    "        # Apply coefficients to each power\n",
    "        out = powers * self.coefficients  # Shape: (batch_size, 5)\n",
    "        return out"
   ]
  },
  {
   "cell_type": "code",
   "execution_count": null,
   "id": "586289c7",
   "metadata": {},
   "outputs": [],
   "source": [
    "class DietNetwork(nn.Module):\n",
    "    def __init__(self, coefficients):\n",
    "        super().__init__()\n",
    "        self.layer1 = FixedLinear(8, 5)\n",
    "\n",
    "        self.act1 = PolyAct(coefficients) # <- Replace me!\n",
    "\n",
    "        self.layer2 = FixedLinear(5, 5)\n",
    "\n",
    "        self.act2 = nn.Identity() # <- Replace me!\n",
    "\n",
    "        self.layer3 = FixedLinear(5, 5)\n",
    "\n",
    "        self.act3 = nn.Identity() # <- Replace me!\n",
    "\n",
    "        self.layer4 = FixedLinear(5, 1)\n",
    "\n",
    "    def forward(self, x):\n",
    "        x = self.layer1(x)\n",
    "        x = self.act1(x)\n",
    "        x = self.layer2(x)\n",
    "        x = self.act2(x)\n",
    "        x = self.layer3(x)\n",
    "        x = self.act3(x)        \n",
    "        x = self.layer4(x)\n",
    "        return x"
   ]
  },
  {
   "cell_type": "code",
   "execution_count": null,
   "id": "ce413ee4",
   "metadata": {},
   "outputs": [],
   "source": [
    "s_train = X_train.sum(dim=1, keepdim=True).numpy()\n",
    "y_train_scaled = y_train.numpy() / 25.0"
   ]
  },
  {
   "cell_type": "code",
   "execution_count": null,
   "id": "d9e331ae",
   "metadata": {},
   "outputs": [],
   "source": [
    "from sklearn.preprocessing import PolynomialFeatures\n",
    "from sklearn.linear_model import LinearRegression\n",
    "\n",
    "poly_features = PolynomialFeatures(degree=4, include_bias=True)\n",
    "s_train_poly = poly_features.fit_transform(s_train)\n",
    "\n",
    "reg = LinearRegression(fit_intercept=False)\n",
    "reg.fit(s_train_poly, y_train_scaled)\n",
    "coefficients = reg.coef_.flatten()"
   ]
  },
  {
   "cell_type": "code",
   "execution_count": null,
   "id": "0445a9e9",
   "metadata": {},
   "outputs": [
    {
     "data": {
      "text/plain": [
       "DietNetwork(\n",
       "  (layer1): FixedLinear()\n",
       "  (act1): PolyAct()\n",
       "  (layer2): FixedLinear()\n",
       "  (act2): Identity()\n",
       "  (layer3): FixedLinear()\n",
       "  (act3): Identity()\n",
       "  (layer4): FixedLinear()\n",
       ")"
      ]
     },
     "metadata": {},
     "output_type": "display_data"
    }
   ],
   "source": [
    "model = DietNetwork(coefficients)\n",
    "model.eval()"
   ]
  },
  {
   "cell_type": "code",
   "execution_count": null,
   "id": "2609964d",
   "metadata": {},
   "outputs": [
    {
     "name": "stdout",
     "output_type": "stream",
     "text": [
      "train / val R2: 0.7375 / 0.7630\n"
     ]
    }
   ],
   "source": [
    "with torch.no_grad():\n",
    "    y_train_pred = model(X_train)\n",
    "    y_val_pred = model(X_val)\n",
    "    \n",
    "    train_r2 = r2_score(y_train, y_train_pred)\n",
    "    val_r2 = r2_score(y_val, y_val_pred)\n",
    "    \n",
    "    print(\n",
    "        f\"train / val R2: {train_r2:.4f} / {val_r2:.4f}\"\n",
    "    )"
   ]
  },
  {
   "cell_type": "code",
   "execution_count": null,
   "id": "4f4187d1",
   "metadata": {},
   "outputs": [],
   "source": [
    "with torch.no_grad():\n",
    "    y_test_pred = model(X_test)"
   ]
  },
  {
   "cell_type": "code",
   "execution_count": null,
   "id": "9583bc1c",
   "metadata": {},
   "outputs": [
    {
     "data": {
      "text/plain": [
       "torch.Size([400, 1])"
      ]
     },
     "metadata": {},
     "output_type": "display_data"
    }
   ],
   "source": [
    "# Should be (400, 1)\n",
    "y_test_pred.shape"
   ]
  },
  {
   "cell_type": "code",
   "execution_count": null,
   "id": "57c091bc",
   "metadata": {},
   "outputs": [
    {
     "data": {
      "text/plain": [
       "{'status': 'SUCCESS',\n",
       " 'message': 'Answer for challenge selection2_2025_dieting_network submitted successfully on 2025-06-14 10:47:44.817791+00:00. Total submissions is 13 / 100.'}"
      ]
     },
     "metadata": {},
     "output_type": "display_data"
    }
   ],
   "source": [
    "post_answer(make_payload(y_test_pred))"
   ]
  },
  {
   "cell_type": "markdown",
   "id": "efa02fe7",
   "metadata": {},
   "source": [
    "# What I did is that since there are only 5 trainable parameters, we can use a 4-th order polynomial fit."
   ]
  }
 ],
 "metadata": {
  "kernelspec": {
   "display_name": "main",
   "language": "python",
   "name": "python3"
  },
  "language_info": {
   "codemirror_mode": {
    "name": "ipython",
    "version": 3
   },
   "file_extension": ".py",
   "mimetype": "text/x-python",
   "name": "python",
   "nbconvert_exporter": "python",
   "pygments_lexer": "ipython3",
   "version": "3.13.2"
  }
 },
 "nbformat": 4,
 "nbformat_minor": 5
}
